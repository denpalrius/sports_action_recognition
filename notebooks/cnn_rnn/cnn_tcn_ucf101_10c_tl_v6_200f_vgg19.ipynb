{
 "cells": [
  {
   "cell_type": "markdown",
   "metadata": {},
   "source": [
    "# Sports Action Recognition Using CNN-RNN Architecture with Transfer Learning on `UCF101 10 Sports actions`"
   ]
  },
  {
   "cell_type": "markdown",
   "metadata": {},
   "source": [
    "## Dependencies"
   ]
  },
  {
   "cell_type": "code",
   "execution_count": 3,
   "metadata": {
    "_cell_guid": "b1076dfc-b9ad-4769-8c92-a6c4dae69d19",
    "_uuid": "8f2839f25d086af736a60e9eeb907d3b93b6e0e5",
    "execution": {
     "iopub.execute_input": "2024-11-06T02:10:51.359159Z",
     "iopub.status.busy": "2024-11-06T02:10:51.358754Z",
     "iopub.status.idle": "2024-11-06T02:11:09.254053Z",
     "shell.execute_reply": "2024-11-06T02:11:09.253134Z",
     "shell.execute_reply.started": "2024-11-06T02:10:51.359087Z"
    },
    "trusted": true
   },
   "outputs": [],
   "source": [
    "import os\n",
    "import re\n",
    "import time\n",
    "\n",
    "import numpy as np\n",
    "import pandas as pd\n",
    "import matplotlib.pyplot as plt\n",
    "import seaborn as sns\n",
    "from sklearn.metrics import accuracy_score, top_k_accuracy_score, classification_report, confusion_matrix\n",
    "\n",
    "import imageio\n",
    "import cv2\n",
    "from IPython.display import Image\n",
    "\n",
    "import tensorflow as tf\n",
    "import keras\n",
    "from keras.callbacks import ModelCheckpoint, EarlyStopping\n",
    "from keras.metrics import top_k_categorical_accuracy\n",
    "\n",
    "from tcn import TCN\n",
    "from keras.layers import Dense, Input, Flatten\n",
    "from keras.models import Model\n",
    "\n",
    "from tqdm import tqdm\n",
    "\n",
    "import kagglehub\n",
    "import wandb"
   ]
  },
  {
   "cell_type": "markdown",
   "metadata": {},
   "source": [
    "## Dataset Loading"
   ]
  },
  {
   "cell_type": "markdown",
   "metadata": {},
   "source": [
    "Download latest version of the ucf101-action-recognition dataset from Kaggle"
   ]
  },
  {
   "cell_type": "code",
   "execution_count": 4,
   "metadata": {},
   "outputs": [],
   "source": [
    "path = kagglehub.dataset_download(\"matthewjansen/ucf101-action-recognition\")"
   ]
  },
  {
   "cell_type": "code",
   "execution_count": 5,
   "metadata": {
    "execution": {
     "iopub.execute_input": "2024-11-06T02:12:09.427435Z",
     "iopub.status.busy": "2024-11-06T02:12:09.427055Z",
     "iopub.status.idle": "2024-11-06T02:12:09.431825Z",
     "shell.execute_reply": "2024-11-06T02:12:09.430893Z",
     "shell.execute_reply.started": "2024-11-06T02:12:09.427384Z"
    },
    "trusted": true
   },
   "outputs": [
    {
     "name": "stdout",
     "output_type": "stream",
     "text": [
      "Path to dataset files: \n",
      " /Users/mzitoh/.cache/kagglehub/datasets/matthewjansen/ucf101-action-recognition/versions/4\n",
      "\n",
      "Files in dataset directory:\n",
      " ['test', 'val.csv', 'test.csv', 'train', 'train.csv', 'val']\n"
     ]
    }
   ],
   "source": [
    "print(\"Path to dataset files: \\n\", path)\n",
    "print(\"\\nFiles in dataset directory:\\n\", os.listdir(path))"
   ]
  },
  {
   "cell_type": "markdown",
   "metadata": {},
   "source": [
    "**Class Definition**"
   ]
  },
  {
   "cell_type": "code",
   "execution_count": 6,
   "metadata": {},
   "outputs": [],
   "source": [
    "sports_actions = [\n",
    "    \"SkyDiving\",\n",
    "    \"Biking\",\n",
    "    \"HorseRace\",\n",
    "    \"Surfing\",\n",
    "    \"TennisSwing\",\n",
    "    \"Punch\",\n",
    "    \"Basketball\",\n",
    "    \"JumpRope\",\n",
    "    \"Archery\",\n",
    "    \"Skiing\",\n",
    "]"
   ]
  },
  {
   "cell_type": "markdown",
   "metadata": {},
   "source": [
    "Utility to transform video paths"
   ]
  },
  {
   "cell_type": "code",
   "execution_count": 7,
   "metadata": {},
   "outputs": [],
   "source": [
    "def load_dataset(dataset_type):\n",
    "    dataset_path = os.path.join(path, f\"{dataset_type}.csv\")\n",
    "    dataset = pd.read_csv(dataset_path)\n",
    "\n",
    "    # Filter dataset to only include the specified sports actions\n",
    "    filtered_dataset = dataset[dataset[\"label\"].isin(sports_actions)]\n",
    "\n",
    "    return pd.DataFrame(\n",
    "        {\n",
    "            \"label\": filtered_dataset[\"label\"],\n",
    "            \"video_name\": filtered_dataset[\"clip_name\"],\n",
    "            \"rel_path\": filtered_dataset[\"clip_path\"],\n",
    "            \"video_path\": filtered_dataset[\"clip_path\"].apply(lambda x: f\"{path}{x}\"),\n",
    "        }\n",
    "    )"
   ]
  },
  {
   "cell_type": "markdown",
   "metadata": {},
   "source": [
    "Load the train and test datasets"
   ]
  },
  {
   "cell_type": "code",
   "execution_count": 8,
   "metadata": {},
   "outputs": [
    {
     "name": "stdout",
     "output_type": "stream",
     "text": [
      "Total videos for training: 1128\n",
      "Total videos for validation: 189\n",
      "Total videos for testing: 192\n"
     ]
    }
   ],
   "source": [
    "train_df = load_dataset(\"train\")\n",
    "val_df = load_dataset(\"val\")\n",
    "test_df = load_dataset(\"test\")\n",
    "\n",
    "print(f\"Total videos for training: {len(train_df)}\")\n",
    "print(f\"Total videos for validation: {len(val_df)}\")\n",
    "print(f\"Total videos for testing: {len(test_df)}\")"
   ]
  },
  {
   "cell_type": "code",
   "execution_count": 9,
   "metadata": {},
   "outputs": [
    {
     "name": "stdout",
     "output_type": "stream",
     "text": [
      "Number of unique classes in training set:  10\n",
      "Number of unique classes in validation set:  10\n",
      "Number of unique classes in test set:  10\n",
      "\n",
      "Labels: \n",
      " ['SkyDiving' 'TennisSwing' 'Skiing' 'Punch' 'Archery' 'JumpRope'\n",
      " 'Basketball' 'Biking' 'HorseRace' 'Surfing']\n"
     ]
    }
   ],
   "source": [
    "print(\"Number of unique classes in training set: \", len(train_df[\"label\"].unique()))\n",
    "print(\"Number of unique classes in validation set: \", len(val_df[\"label\"].unique()))\n",
    "print(\"Number of unique classes in test set: \", len(test_df[\"label\"].unique()))\n",
    "\n",
    "print(\"\\nLabels: \\n\", train_df[\"label\"].unique())"
   ]
  },
  {
   "cell_type": "code",
   "execution_count": 10,
   "metadata": {},
   "outputs": [
    {
     "data": {
      "text/html": [
       "<div>\n",
       "<style scoped>\n",
       "    .dataframe tbody tr th:only-of-type {\n",
       "        vertical-align: middle;\n",
       "    }\n",
       "\n",
       "    .dataframe tbody tr th {\n",
       "        vertical-align: top;\n",
       "    }\n",
       "\n",
       "    .dataframe thead th {\n",
       "        text-align: right;\n",
       "    }\n",
       "</style>\n",
       "<table border=\"1\" class=\"dataframe\">\n",
       "  <thead>\n",
       "    <tr style=\"text-align: right;\">\n",
       "      <th></th>\n",
       "      <th>label</th>\n",
       "      <th>video_name</th>\n",
       "      <th>rel_path</th>\n",
       "      <th>video_path</th>\n",
       "    </tr>\n",
       "  </thead>\n",
       "  <tbody>\n",
       "    <tr>\n",
       "      <th>2897</th>\n",
       "      <td>Punch</td>\n",
       "      <td>v_Punch_g22_c06</td>\n",
       "      <td>/train/Punch/v_Punch_g22_c06.avi</td>\n",
       "      <td>/Users/mzitoh/.cache/kagglehub/datasets/matthe...</td>\n",
       "    </tr>\n",
       "    <tr>\n",
       "      <th>171</th>\n",
       "      <td>SkyDiving</td>\n",
       "      <td>v_SkyDiving_g09_c01</td>\n",
       "      <td>/train/SkyDiving/v_SkyDiving_g09_c01.avi</td>\n",
       "      <td>/Users/mzitoh/.cache/kagglehub/datasets/matthe...</td>\n",
       "    </tr>\n",
       "    <tr>\n",
       "      <th>139</th>\n",
       "      <td>SkyDiving</td>\n",
       "      <td>v_SkyDiving_g22_c02</td>\n",
       "      <td>/train/SkyDiving/v_SkyDiving_g22_c02.avi</td>\n",
       "      <td>/Users/mzitoh/.cache/kagglehub/datasets/matthe...</td>\n",
       "    </tr>\n",
       "    <tr>\n",
       "      <th>4414</th>\n",
       "      <td>JumpRope</td>\n",
       "      <td>v_JumpRope_g24_c06</td>\n",
       "      <td>/train/JumpRope/v_JumpRope_g24_c06.avi</td>\n",
       "      <td>/Users/mzitoh/.cache/kagglehub/datasets/matthe...</td>\n",
       "    </tr>\n",
       "    <tr>\n",
       "      <th>4497</th>\n",
       "      <td>JumpRope</td>\n",
       "      <td>v_JumpRope_g16_c01</td>\n",
       "      <td>/train/JumpRope/v_JumpRope_g16_c01.avi</td>\n",
       "      <td>/Users/mzitoh/.cache/kagglehub/datasets/matthe...</td>\n",
       "    </tr>\n",
       "    <tr>\n",
       "      <th>143</th>\n",
       "      <td>SkyDiving</td>\n",
       "      <td>v_SkyDiving_g18_c06</td>\n",
       "      <td>/train/SkyDiving/v_SkyDiving_g18_c06.avi</td>\n",
       "      <td>/Users/mzitoh/.cache/kagglehub/datasets/matthe...</td>\n",
       "    </tr>\n",
       "    <tr>\n",
       "      <th>9773</th>\n",
       "      <td>Surfing</td>\n",
       "      <td>v_Surfing_g15_c01</td>\n",
       "      <td>/train/Surfing/v_Surfing_g15_c01.avi</td>\n",
       "      <td>/Users/mzitoh/.cache/kagglehub/datasets/matthe...</td>\n",
       "    </tr>\n",
       "    <tr>\n",
       "      <th>9760</th>\n",
       "      <td>Surfing</td>\n",
       "      <td>v_Surfing_g20_c01</td>\n",
       "      <td>/train/Surfing/v_Surfing_g20_c01.avi</td>\n",
       "      <td>/Users/mzitoh/.cache/kagglehub/datasets/matthe...</td>\n",
       "    </tr>\n",
       "    <tr>\n",
       "      <th>8136</th>\n",
       "      <td>Biking</td>\n",
       "      <td>v_Biking_g01_c04</td>\n",
       "      <td>/train/Biking/v_Biking_g01_c04.avi</td>\n",
       "      <td>/Users/mzitoh/.cache/kagglehub/datasets/matthe...</td>\n",
       "    </tr>\n",
       "    <tr>\n",
       "      <th>8076</th>\n",
       "      <td>Biking</td>\n",
       "      <td>v_Biking_g19_c03</td>\n",
       "      <td>/train/Biking/v_Biking_g19_c03.avi</td>\n",
       "      <td>/Users/mzitoh/.cache/kagglehub/datasets/matthe...</td>\n",
       "    </tr>\n",
       "  </tbody>\n",
       "</table>\n",
       "</div>"
      ],
      "text/plain": [
       "          label           video_name  \\\n",
       "2897      Punch      v_Punch_g22_c06   \n",
       "171   SkyDiving  v_SkyDiving_g09_c01   \n",
       "139   SkyDiving  v_SkyDiving_g22_c02   \n",
       "4414   JumpRope   v_JumpRope_g24_c06   \n",
       "4497   JumpRope   v_JumpRope_g16_c01   \n",
       "143   SkyDiving  v_SkyDiving_g18_c06   \n",
       "9773    Surfing    v_Surfing_g15_c01   \n",
       "9760    Surfing    v_Surfing_g20_c01   \n",
       "8136     Biking     v_Biking_g01_c04   \n",
       "8076     Biking     v_Biking_g19_c03   \n",
       "\n",
       "                                      rel_path  \\\n",
       "2897          /train/Punch/v_Punch_g22_c06.avi   \n",
       "171   /train/SkyDiving/v_SkyDiving_g09_c01.avi   \n",
       "139   /train/SkyDiving/v_SkyDiving_g22_c02.avi   \n",
       "4414    /train/JumpRope/v_JumpRope_g24_c06.avi   \n",
       "4497    /train/JumpRope/v_JumpRope_g16_c01.avi   \n",
       "143   /train/SkyDiving/v_SkyDiving_g18_c06.avi   \n",
       "9773      /train/Surfing/v_Surfing_g15_c01.avi   \n",
       "9760      /train/Surfing/v_Surfing_g20_c01.avi   \n",
       "8136        /train/Biking/v_Biking_g01_c04.avi   \n",
       "8076        /train/Biking/v_Biking_g19_c03.avi   \n",
       "\n",
       "                                             video_path  \n",
       "2897  /Users/mzitoh/.cache/kagglehub/datasets/matthe...  \n",
       "171   /Users/mzitoh/.cache/kagglehub/datasets/matthe...  \n",
       "139   /Users/mzitoh/.cache/kagglehub/datasets/matthe...  \n",
       "4414  /Users/mzitoh/.cache/kagglehub/datasets/matthe...  \n",
       "4497  /Users/mzitoh/.cache/kagglehub/datasets/matthe...  \n",
       "143   /Users/mzitoh/.cache/kagglehub/datasets/matthe...  \n",
       "9773  /Users/mzitoh/.cache/kagglehub/datasets/matthe...  \n",
       "9760  /Users/mzitoh/.cache/kagglehub/datasets/matthe...  \n",
       "8136  /Users/mzitoh/.cache/kagglehub/datasets/matthe...  \n",
       "8076  /Users/mzitoh/.cache/kagglehub/datasets/matthe...  "
      ]
     },
     "execution_count": 10,
     "metadata": {},
     "output_type": "execute_result"
    }
   ],
   "source": [
    "train_df.sample(10)"
   ]
  },
  {
   "cell_type": "markdown",
   "metadata": {},
   "source": [
    "## Configs & Hyperparameters"
   ]
  },
  {
   "cell_type": "code",
   "execution_count": null,
   "metadata": {
    "execution": {
     "iopub.execute_input": "2024-11-06T02:12:09.480471Z",
     "iopub.status.busy": "2024-11-06T02:12:09.480187Z",
     "iopub.status.idle": "2024-11-06T02:12:09.484927Z",
     "shell.execute_reply": "2024-11-06T02:12:09.484040Z",
     "shell.execute_reply.started": "2024-11-06T02:12:09.480440Z"
    },
    "trusted": true
   },
   "outputs": [],
   "source": [
    "MODEL_NAME = \"cnn_rnn_ucf101_10c_tl_v6_200f_vgg19\"\n",
    "MODEL_BASE_PATH = f\"../../models/{MODEL_NAME}\"\n",
    "DATA_FILE_BASE = \"../../data/preprocessed_200f_vgg19\"\n",
    "\n",
    "IMG_SIZE = 224\n",
    "BATCH_SIZE = 64\n",
    "EPOCHS = 120\n",
    "LEARNING_RATE = 1e-4\n",
    "\n",
    "MAX_SEQ_LENGTH = 200 # Chosen according to distribution of video lengths below\n",
    "NUM_FEATURES = 512"
   ]
  },
  {
   "cell_type": "markdown",
   "metadata": {},
   "source": [
    "## Video Data Exploration"
   ]
  },
  {
   "cell_type": "markdown",
   "metadata": {},
   "source": [
    "#### Label Encoding"
   ]
  },
  {
   "cell_type": "markdown",
   "metadata": {},
   "source": [
    "Encode the class labels as integers using the Keras StringLookup layer"
   ]
  },
  {
   "cell_type": "code",
   "execution_count": 12,
   "metadata": {},
   "outputs": [
    {
     "data": {
      "text/plain": [
       "array(['Archery', 'Basketball', 'Biking', 'HorseRace', 'JumpRope',\n",
       "       'Punch', 'Skiing', 'SkyDiving', 'Surfing', 'TennisSwing'],\n",
       "      dtype=object)"
      ]
     },
     "execution_count": 12,
     "metadata": {},
     "output_type": "execute_result"
    }
   ],
   "source": [
    "np.unique(train_df[\"label\"])"
   ]
  },
  {
   "cell_type": "code",
   "execution_count": 13,
   "metadata": {},
   "outputs": [
    {
     "name": "stdout",
     "output_type": "stream",
     "text": [
      "Vocabulary: ['SkyDiving', 'Biking', 'HorseRace', 'Surfing', 'TennisSwing', 'Punch', 'Basketball', 'JumpRope', 'Archery', 'Skiing']\n",
      "Number of classes: 10\n"
     ]
    }
   ],
   "source": [
    "label_processor = keras.layers.StringLookup(num_oov_indices=0, vocabulary=sports_actions)\n",
    "\n",
    "class_vocab = label_processor.get_vocabulary()\n",
    "\n",
    "print(f\"Vocabulary: {class_vocab}\")\n",
    "print(f\"Number of classes: {len(class_vocab)}\")"
   ]
  },
  {
   "cell_type": "markdown",
   "metadata": {},
   "source": [
    "Utility to convert string labels to one-hot encoded format"
   ]
  },
  {
   "cell_type": "code",
   "execution_count": 14,
   "metadata": {},
   "outputs": [],
   "source": [
    "def encode_labels(labels: np.ndarray) -> np.ndarray:\n",
    "    integer_labels = keras.ops.convert_to_numpy(label_processor(labels[..., None]))\n",
    "    return keras.utils.to_categorical(integer_labels, num_classes=len(class_vocab))"
   ]
  },
  {
   "cell_type": "markdown",
   "metadata": {},
   "source": [
    "#### Review video category distribution"
   ]
  },
  {
   "cell_type": "code",
   "execution_count": 15,
   "metadata": {},
   "outputs": [
    {
     "name": "stdout",
     "output_type": "stream",
     "text": [
      "Combined average number of videos per class:\n",
      "             Train  Validation  Test  Average\n",
      "label                                        \n",
      "Archery        108          18    19       48\n",
      "Basketball     198          33    34       88\n",
      "Biking         100          17    17       45\n",
      "HorseRace       93          15    16       41\n",
      "JumpRope       108          18    18       48\n",
      "Punch          120          20    20       53\n",
      "Skiing         101          17    17       45\n",
      "SkyDiving       82          14    14       37\n",
      "Surfing         94          16    16       42\n",
      "TennisSwing    124          21    21       55\n"
     ]
    },
    {
     "data": {
      "image/png": "[encoded data removed]",
      "text/plain": [
       "<Figure size 1000x500 with 1 Axes>"
      ]
     },
     "metadata": {},
     "output_type": "display_data"
    }
   ],
   "source": [
    "def review_class_distribution(dataset, dataset_name):\n",
    "    class_counts = dataset[\"label\"].value_counts()\n",
    "    return class_counts\n",
    "\n",
    "# Get class distributions for each dataset\n",
    "train_class_counts = review_class_distribution(train_df, \"Train\")\n",
    "val_class_counts = review_class_distribution(val_df, \"Validation\")\n",
    "test_class_counts = review_class_distribution(test_df, \"Test\")\n",
    "\n",
    "# Create DataFrame for distribution and calculate average\n",
    "distribution_df = pd.DataFrame({\n",
    "    \"Train\": train_class_counts,\n",
    "    \"Validation\": val_class_counts,\n",
    "    \"Test\": test_class_counts\n",
    "}).fillna(0)\n",
    "\n",
    "distribution_df[\"Average\"] = distribution_df.mean(axis=1).round().astype(int)\n",
    "print(\"Combined average number of videos per class:\")\n",
    "print(distribution_df)\n",
    "\n",
    "# Plot the distribution\n",
    "plot_distribution_df = distribution_df.drop(columns=\"Average\")\n",
    "plot_distribution_df.plot(kind=\"bar\", figsize=(10, 5))\n",
    "plt.title(\"Class Distribution Comparison Across Train, Validation, and Test Sets\")\n",
    "plt.xlabel(\"Class Labels\")\n",
    "plt.ylabel(\"Number of Videos\")\n",
    "plt.legend(title=\"Dataset\")\n",
    "plt.xticks(rotation=45)\n",
    "plt.tight_layout()\n",
    "plt.show()"
   ]
  },
  {
   "cell_type": "markdown",
   "metadata": {},
   "source": [
    "#### Review Video frame distribution "
   ]
  },
  {
   "cell_type": "markdown",
   "metadata": {},
   "source": [
    "Count the number of frames for each video"
   ]
  },
  {
   "cell_type": "code",
   "execution_count": 16,
   "metadata": {},
   "outputs": [],
   "source": [
    "def count_frames_per_video(video_paths):\n",
    "    frame_counts = []\n",
    "\n",
    "    for video_path in video_paths: \n",
    "        cap = cv2.VideoCapture(video_path)\n",
    "        count = 0\n",
    "        \n",
    "        while cap.isOpened():\n",
    "            ret, _ = cap.read()\n",
    "            if not ret:\n",
    "                break\n",
    "            count += 1\n",
    "        cap.release()\n",
    "        frame_counts.append(count)\n",
    "\n",
    "    return frame_counts"
   ]
  },
  {
   "cell_type": "code",
   "execution_count": 17,
   "metadata": {},
   "outputs": [],
   "source": [
    "def visualize_frame_distribution(frame_counts):\n",
    "    plt.figure(figsize=(8, 5))\n",
    "    sns.violinplot(x=frame_counts)\n",
    "    plt.title(\"Violin Plot of Frame Counts per Video\")\n",
    "    plt.xlabel(\"Number of Frames\")\n",
    "    plt.xlabel(\"Number of Frames\")\n",
    "    plt.show()"
   ]
  },
  {
   "cell_type": "code",
   "execution_count": 18,
   "metadata": {},
   "outputs": [],
   "source": [
    "frame_counts = count_frames_per_video(train_df[\"video_path\"].values)"
   ]
  },
  {
   "cell_type": "markdown",
   "metadata": {},
   "source": [
    "Distribution of the frames"
   ]
  },
  {
   "cell_type": "code",
   "execution_count": 19,
   "metadata": {},
   "outputs": [
    {
     "name": "stdout",
     "output_type": "stream",
     "text": [
      "Minimum number of frames per video: 30\n",
      "Maximum number of frames per video: 623\n",
      "Average number of frames per video: 214.58\n",
      "Median number of frames per video: 200.0\n",
      "Standard deviation of frames per video: 115.25\n"
     ]
    }
   ],
   "source": [
    "print(f\"Minimum number of frames per video: {np.min(frame_counts)}\")\n",
    "print(f\"Maximum number of frames per video: {np.max(frame_counts)}\")\n",
    "print(f\"Average number of frames per video: {np.mean(frame_counts):.2f}\")\n",
    "print(f\"Median number of frames per video: {np.median(frame_counts)}\")\n",
    "print(f\"Standard deviation of frames per video: {np.std(frame_counts):.2f}\")"
   ]
  },
  {
   "cell_type": "code",
   "execution_count": 20,
   "metadata": {},
   "outputs": [
    {
     "data": {
      "image/png": "[encoded data removed]",
      "text/plain": [
       "<Figure size 800x500 with 1 Axes>"
      ]
     },
     "metadata": {},
     "output_type": "display_data"
    }
   ],
   "source": [
    "visualize_frame_distribution(frame_counts)"
   ]
  },
  {
   "cell_type": "markdown",
   "metadata": {},
   "source": [
    "#### Video preprocessing utilities"
   ]
  },
  {
   "cell_type": "markdown",
   "metadata": {},
   "source": [
    " Function to resize the video frames to a square shape without distorting their content"
   ]
  },
  {
   "cell_type": "code",
   "execution_count": 21,
   "metadata": {
    "execution": {
     "iopub.execute_input": "2024-11-06T02:12:09.486337Z",
     "iopub.status.busy": "2024-11-06T02:12:09.486016Z",
     "iopub.status.idle": "2024-11-06T02:12:09.496479Z",
     "shell.execute_reply": "2024-11-06T02:12:09.495613Z",
     "shell.execute_reply.started": "2024-11-06T02:12:09.486305Z"
    },
    "trusted": true
   },
   "outputs": [],
   "source": [
    "def crop_center_square(frame):\n",
    "    y, x = frame.shape[0:2]  # Get the height (y) and width (x) of the image\n",
    "    min_dim = min(y, x)       # Find the smallest dimension (either height or width)\n",
    "    start_x = (x // 2) - (min_dim // 2)  # Calculate the horizontal starting point for the crop\n",
    "    start_y = (y // 2) - (min_dim // 2)  # Calculate the vertical starting point for the crop\n",
    "\n",
    "    return frame[start_y : start_y + min_dim, start_x : start_x + min_dim]  # Return the cropped square"
   ]
  },
  {
   "cell_type": "markdown",
   "metadata": {},
   "source": [
    "Crop,resize, and reorder color channels"
   ]
  },
  {
   "cell_type": "code",
   "execution_count": 22,
   "metadata": {
    "execution": {
     "iopub.execute_input": "2024-11-06T02:12:09.499763Z",
     "iopub.status.busy": "2024-11-06T02:12:09.499469Z",
     "iopub.status.idle": "2024-11-06T02:12:09.507023Z",
     "shell.execute_reply": "2024-11-06T02:12:09.506339Z",
     "shell.execute_reply.started": "2024-11-06T02:12:09.499731Z"
    },
    "trusted": true
   },
   "outputs": [],
   "source": [
    "def load_and_preprocess_video(video_path, max_frames=0, resize=(IMG_SIZE, IMG_SIZE)):    \n",
    "    cap = cv2.VideoCapture(video_path)\n",
    "    frames = []\n",
    "    try:\n",
    "        while True:\n",
    "            ret, frame = cap.read()\n",
    "            if not ret:\n",
    "                break\n",
    "            frame = crop_center_square(frame) # Crop center square\n",
    "            frame = cv2.resize(frame, resize) # Resize the image (In this case to 224x224)\n",
    "            frame = frame[:, :, [2, 1, 0]] # Reorder the color channels from OpenCV BGR to RGB\n",
    "            frame = frame / 255.0\n",
    "            \n",
    "            frames.append(frame)\n",
    "\n",
    "            if len(frames) == max_frames:\n",
    "                break\n",
    "    finally:\n",
    "        cap.release()\n",
    "   \n",
    "    return np.array(frames)"
   ]
  },
  {
   "cell_type": "markdown",
   "metadata": {},
   "source": [
    "## Feature Extraction with Transfer Learning"
   ]
  },
  {
   "cell_type": "markdown",
   "metadata": {},
   "source": [
    "Using a pre-trained network to extract meaningful features from the extracted frames\n",
    "- The VGG19 model pretrained on ImageNet-1k dataset"
   ]
  },
  {
   "cell_type": "code",
   "execution_count": 23,
   "metadata": {
    "execution": {
     "iopub.execute_input": "2024-11-06T02:12:09.510210Z",
     "iopub.status.busy": "2024-11-06T02:12:09.507987Z",
     "iopub.status.idle": "2024-11-06T02:12:17.591303Z",
     "shell.execute_reply": "2024-11-06T02:12:17.590307Z",
     "shell.execute_reply.started": "2024-11-06T02:12:09.510168Z"
    },
    "trusted": true
   },
   "outputs": [],
   "source": [
    "def build_feature_extractor():\n",
    "    feature_extractor = keras.applications.VGG19(\n",
    "        weights=\"imagenet\",\n",
    "        include_top=False,\n",
    "        pooling=\"avg\",\n",
    "        input_shape=(IMG_SIZE, IMG_SIZE, 3),\n",
    "    )\n",
    "    preprocess_input = keras.applications.vgg19.preprocess_input\n",
    "\n",
    "    inputs = keras.Input((IMG_SIZE, IMG_SIZE, 3))\n",
    "    preprocessed = preprocess_input(inputs)\n",
    "\n",
    "    outputs = feature_extractor(preprocessed)\n",
    "    return keras.Model(inputs, outputs, name=\"feature_extractor\")"
   ]
  },
  {
   "cell_type": "code",
   "execution_count": 24,
   "metadata": {
    "trusted": true
   },
   "outputs": [],
   "source": [
    "feature_extractor = build_feature_extractor()"
   ]
  },
  {
   "cell_type": "markdown",
   "metadata": {},
   "source": [
    "Helper function to create masks and features for a single video\n",
    "- `frame_features` will contain extracted features per frame\n",
    "- `frame_masks` will contain booleans denoting if a timestep/frame is padded or not"
   ]
  },
  {
   "cell_type": "code",
   "execution_count": 25,
   "metadata": {},
   "outputs": [],
   "source": [
    "def create_video_features_and_mask(frames):\n",
    "    mask = np.zeros((MAX_SEQ_LENGTH,), dtype=\"bool\")\n",
    "    features = np.zeros((MAX_SEQ_LENGTH, NUM_FEATURES), dtype=\"float32\")\n",
    "\n",
    "    # Extract features for each frame\n",
    "    for i, frame in enumerate(frames[:MAX_SEQ_LENGTH]):\n",
    "        feature = feature_extractor(tf.expand_dims(frame, 0))\n",
    "        features[i] = feature\n",
    "        mask[i] = True  # Mark this frame as valid in the mask\n",
    "\n",
    "    return features, mask"
   ]
  },
  {
   "cell_type": "markdown",
   "metadata": {},
   "source": [
    "#### Video frames preprocessing and saving"
   ]
  },
  {
   "cell_type": "markdown",
   "metadata": {},
   "source": [
    "Save features, masks and labels to disk"
   ]
  },
  {
   "cell_type": "code",
   "execution_count": 26,
   "metadata": {},
   "outputs": [],
   "source": [
    "def save_features_masks_and_labels(features, masks, labels, save_path, dataset_type):\n",
    "    np.savez_compressed(save_path, features=features, masks=masks, labels=labels)\n",
    "    print(f\"Saved {dataset_type} features, masks, and labels to {save_path}\")"
   ]
  },
  {
   "cell_type": "markdown",
   "metadata": {},
   "source": [
    "Load a batch of videos and process them"
   ]
  },
  {
   "cell_type": "code",
   "execution_count": 27,
   "metadata": {},
   "outputs": [],
   "source": [
    "def load_and_process_batch(video_paths, dataset_type):\n",
    "    start_time = time.time()\n",
    "\n",
    "    features_list = []\n",
    "    masks_list = []\n",
    "\n",
    "    for video_path in video_paths:\n",
    "        frames = load_and_preprocess_video(video_path)\n",
    "        features, mask = create_video_features_and_mask(frames)\n",
    "\n",
    "        features_list.append(features)\n",
    "        masks_list.append(mask)\n",
    "\n",
    "    # Stack all features and masks for model input\n",
    "    features_batch = np.stack(features_list)\n",
    "    masks_batch = np.stack(masks_list)\n",
    "\n",
    "    elapsed = time.time() - start_time\n",
    "    print(f\"Processed {len(video_paths)} {dataset_type} videos in {elapsed:.2f}s\")\n",
    "\n",
    "    return features_batch, masks_batch"
   ]
  },
  {
   "cell_type": "markdown",
   "metadata": {},
   "source": [
    "Preprocess entire dataset and save to disk for faster future loading"
   ]
  },
  {
   "cell_type": "code",
   "execution_count": 28,
   "metadata": {},
   "outputs": [],
   "source": [
    "def preprocess_dataset_with_resume(data_df, save_path, dataset_type):\n",
    "    CHUNK_SIZE = 64\n",
    "    total_length = len(data_df)\n",
    "    processed_chunks_file = save_path.replace(\".npy\", f\"_progress.npy\")\n",
    "\n",
    "    # Load progress\n",
    "    processed_chunks = np.load(processed_chunks_file).tolist() if os.path.exists(processed_chunks_file) else []\n",
    "\n",
    "    # Initialize lists for storing processed data\n",
    "    all_features, all_masks, all_labels = [], [], []\n",
    "\n",
    "    # Load already processed data if exists\n",
    "    if os.path.exists(save_path):\n",
    "        data = np.load(save_path)\n",
    "        all_features = [data[\"features\"]]\n",
    "        all_masks = [data[\"masks\"]]\n",
    "        all_labels = [data[\"labels\"]]\n",
    "\n",
    "    with tqdm(total=(total_length // CHUNK_SIZE) + 1, desc=\"Processing dataset\", colour=\"green\") as pbar:\n",
    "        pbar.update(len(processed_chunks))  # Update progress based on already processed chunks\n",
    "\n",
    "        for i in range(0, total_length, CHUNK_SIZE):\n",
    "            if i in processed_chunks:\n",
    "                continue  # Skip already processed chunks\n",
    "\n",
    "            chunk_df = data_df.iloc[i:i + CHUNK_SIZE]\n",
    "            labels = keras.ops.convert_to_numpy(label_processor(chunk_df[\"label\"].values[..., None]))\n",
    "            features, masks = load_and_process_batch(chunk_df[\"video_path\"].tolist(), dataset_type)\n",
    "\n",
    "            # Append new data\n",
    "            all_features.append(features)\n",
    "            all_masks.append(masks)\n",
    "            all_labels.append(labels)\n",
    "\n",
    "            # Save progress and current data state\n",
    "            processed_chunks.append(i)\n",
    "            np.save(processed_chunks_file, processed_chunks)\n",
    "            save_features_masks_and_labels(\n",
    "                np.concatenate(all_features, axis=0),\n",
    "                np.concatenate(all_masks, axis=0),\n",
    "                np.concatenate(all_labels, axis=0),\n",
    "                save_path,\n",
    "                dataset_type\n",
    "            )\n",
    "\n",
    "            pbar.update(1)  # Increment progress bar\n",
    "\n",
    "    # Clean up progress file after completion\n",
    "    os.remove(processed_chunks_file) if os.path.exists(processed_chunks_file) else None\n",
    "\n",
    "    return (\n",
    "        np.concatenate(all_features, axis=0),\n",
    "        np.concatenate(all_masks, axis=0),\n",
    "        np.concatenate(all_labels, axis=0),\n",
    "    )"
   ]
  },
  {
   "cell_type": "code",
   "execution_count": 29,
   "metadata": {},
   "outputs": [],
   "source": [
    "# def preprocess_dataset_with_resume(\n",
    "#     data_df,\n",
    "#     save_path,\n",
    "#     dataset_type,\n",
    "#     progress_file,\n",
    "#     processed_chunks,\n",
    "#     clean=False,\n",
    "#     chunk_size=64,\n",
    "# ):\n",
    "#     if os.path.exists(save_path):\n",
    "#         data = np.load(save_path)\n",
    "#         features, masks, labels = data[\"features\"], data[\"masks\"], data[\"labels\"]\n",
    "#     else:\n",
    "#         features, masks, labels = [], [], []\n",
    "\n",
    "#     try:\n",
    "#         # Process remaining chunks\n",
    "#         total_chunks = (len(data_df) + chunk_size - 1) // chunk_size\n",
    "#         with tqdm(\n",
    "#             total=total_chunks,\n",
    "#             initial=len(processed_chunks),\n",
    "#             desc=f\"Processing {dataset_type}\",\n",
    "#             colour=\"green\",\n",
    "#         ) as pbar:\n",
    "\n",
    "#             for chunk_start in range(0, len(data_df), chunk_size):\n",
    "#                 if chunk_start in processed_chunks:\n",
    "#                     continue\n",
    "\n",
    "#                 # Process chunk\n",
    "#                 chunk_df = data_df.iloc[chunk_start : chunk_start + chunk_size]\n",
    "#                 chunk_labels = keras.ops.convert_to_numpy(\n",
    "#                     label_processor(chunk_df[\"label\"].values[..., None])\n",
    "#                 )\n",
    "#                 chunk_features, chunk_masks = load_and_process_batch(\n",
    "#                     chunk_df[\"video_path\"].tolist(),\n",
    "#                     dataset_type,\n",
    "#                 )\n",
    "\n",
    "#                 # Update data\n",
    "#                 if isinstance(features, list):\n",
    "#                     features, masks, labels = chunk_features, chunk_masks, chunk_labels\n",
    "#                 else:\n",
    "#                     features = np.concatenate([features, chunk_features], axis=0)\n",
    "#                     masks = np.concatenate([masks, chunk_masks], axis=0)\n",
    "#                     labels = np.concatenate([labels, chunk_labels], axis=0)\n",
    "\n",
    "#                 # Save progress\n",
    "#                 processed_chunks.append(chunk_start)\n",
    "#                 np.save(progress_file, processed_chunks)\n",
    "#                 print(f\"Saved progress to: {progress_file}\")\n",
    "\n",
    "#                 # Save current state\n",
    "#                 np.savez_compressed(\n",
    "#                     save_path,\n",
    "#                     features=features,\n",
    "#                     masks=masks,\n",
    "#                     labels=labels,\n",
    "#                     dataset_type=dataset_type,\n",
    "#                 )\n",
    "\n",
    "#                 pbar.update(1)\n",
    "\n",
    "#     except Exception as e:\n",
    "#         print(f\"Error during processing: {e}\")\n",
    "#         raise\n",
    "#     finally:\n",
    "#         if clean and os.path.exists(progress_file):\n",
    "#             print(f\"Cleaning up progress file: {progress_file}\")\n",
    "#             os.remove(progress_file)\n",
    "\n",
    "#     return features, masks, labels"
   ]
  },
  {
   "cell_type": "markdown",
   "metadata": {},
   "source": [
    "Load the dataset from a saved file if it exists, otherwise process it, save it, and load it."
   ]
  },
  {
   "cell_type": "code",
   "execution_count": 30,
   "metadata": {},
   "outputs": [],
   "source": [
    "def load_or_preprocess_dataset(data_df, save_path, dataset_type):\n",
    "    if os.path.exists(save_path):\n",
    "        print(f\"Loading dataset from {save_path}\")\n",
    "        data = np.load(save_path)\n",
    "        features, masks, labels = data[\"features\"], data[\"masks\"], data[\"labels\"]\n",
    "    else:\n",
    "        print(f\"Saved {dataset_type} dataset not found. Processing dataset...\")\n",
    "        features, masks, labels = preprocess_dataset_with_resume(\n",
    "            data_df, save_path, dataset_type\n",
    "        )\n",
    "        save_features_masks_and_labels(features, masks, labels, save_path, dataset_type)\n",
    "\n",
    "    return features, masks, labels"
   ]
  },
  {
   "cell_type": "code",
   "execution_count": 31,
   "metadata": {},
   "outputs": [],
   "source": [
    "# def load_or_preprocess_dataset(\n",
    "#     data_df, save_path, dataset_type, chunk_size=64, clean=False\n",
    "# ):\n",
    "#     base_path = os.path.splitext(save_path)[0]  # Remove any extension\n",
    "#     progress_file = f\"{base_path}_progress.npy\"\n",
    "#     processed_chunks = []\n",
    "    \n",
    "#     if os.path.exists(save_path):\n",
    "#         # Check if processing is complete\n",
    "#         total_chunks = (len(data_df) + chunk_size - 1) // chunk_size\n",
    "#         if os.path.exists(progress_file):\n",
    "#             processed_chunks = np.load(progress_file).tolist()\n",
    "\n",
    "#         print(f\"Processed chunks: {len(processed_chunks)}\")\n",
    "#         print(f\"Total chunks: {total_chunks}\")\n",
    "        \n",
    "#         if len(processed_chunks) < total_chunks:\n",
    "#             print(\"Dataset partially processed. Resuming...\")\n",
    "#             features, masks, labels = preprocess_dataset_with_resume(\n",
    "#                 data_df,\n",
    "#                 save_path,\n",
    "#                 dataset_type,\n",
    "#                 progress_file,\n",
    "#                 processed_chunks,\n",
    "#                 clean,\n",
    "#                 chunk_size,\n",
    "#             )\n",
    "#         else:\n",
    "#             print(f\"Loading processed dataset from {save_path}\")\n",
    "            \n",
    "#             data = np.load(save_path)\n",
    "#             features, masks, labels = data[\"features\"], data[\"masks\"], data[\"labels\"]\n",
    " \n",
    "#     else:\n",
    "#         print(f\"Saved {dataset_type} dataset not found. Processing dataset...\")\n",
    "#         features, masks, labels = preprocess_dataset_with_resume(\n",
    "#             data_df,\n",
    "#             save_path,\n",
    "#             dataset_type,\n",
    "#             progress_file,\n",
    "#             [],\n",
    "#             clean,\n",
    "#             chunk_size,\n",
    "#         )\n",
    "\n",
    "#     return features, masks, labels"
   ]
  },
  {
   "cell_type": "markdown",
   "metadata": {},
   "source": [
    "### Load datafiles"
   ]
  },
  {
   "cell_type": "code",
   "execution_count": 32,
   "metadata": {},
   "outputs": [],
   "source": [
    "train_save_path = f\"{DATA_FILE_BASE}/train_features_masks_labels.npz\"\n",
    "val_save_path = f\"{DATA_FILE_BASE}/val_features_masks_labels.npz\"\n",
    "test_save_path = f\"{DATA_FILE_BASE}/test_features_masks_labels.npz\""
   ]
  },
  {
   "cell_type": "markdown",
   "metadata": {},
   "source": [
    "Extract the frame features, feature masks and labels for the `train` set"
   ]
  },
  {
   "cell_type": "code",
   "execution_count": 33,
   "metadata": {},
   "outputs": [
    {
     "name": "stdout",
     "output_type": "stream",
     "text": [
      "Loading dataset from ../data/preprocessed_200f_vgg19/train_features_masks_labels.npz\n"
     ]
    }
   ],
   "source": [
    "train_features, train_masks, train_labels = load_or_preprocess_dataset(train_df, train_save_path, \"Training\")"
   ]
  },
  {
   "cell_type": "markdown",
   "metadata": {},
   "source": [
    "Extract the frame features, feature masks and labels for the `validation` set"
   ]
  },
  {
   "cell_type": "code",
   "execution_count": 34,
   "metadata": {},
   "outputs": [
    {
     "name": "stdout",
     "output_type": "stream",
     "text": [
      "Loading dataset from ../data/preprocessed_200f_vgg19/val_features_masks_labels.npz\n"
     ]
    }
   ],
   "source": [
    "val_features, val_masks, val_labels = load_or_preprocess_dataset(val_df, val_save_path, \"Validation\")"
   ]
  },
  {
   "cell_type": "markdown",
   "metadata": {},
   "source": [
    "Extract the frame features, feature masks and labels for the `test` set"
   ]
  },
  {
   "cell_type": "code",
   "execution_count": 35,
   "metadata": {},
   "outputs": [
    {
     "name": "stdout",
     "output_type": "stream",
     "text": [
      "Loading dataset from ../data/preprocessed_200f_vgg19/test_features_masks_labels.npz\n"
     ]
    }
   ],
   "source": [
    "test_features, test_masks, test_labels = load_or_preprocess_dataset(test_df, test_save_path, \"Test\")"
   ]
  },
  {
   "cell_type": "markdown",
   "metadata": {},
   "source": [
    "Review dataset size"
   ]
  },
  {
   "cell_type": "code",
   "execution_count": 36,
   "metadata": {},
   "outputs": [
    {
     "name": "stdout",
     "output_type": "stream",
     "text": [
      "════════════════════ TRAIN SET ════════════════════\n",
      "\n",
      "Frame features in train set: (1128, 200, 512) \n",
      "    → 1128 samples\n",
      "    → 200 frames per video\n",
      "    → 512 features per frame\n",
      "\n",
      "Frame masks in train set: (1128, 200) \n",
      "    → 1128 samples\n",
      "    → 200 masks per video\n",
      "\n",
      "Labels in train set: (1128, 1) → 1128 samples\n",
      "\n",
      "════════════════════ VALIDATION SET ════════════════════\n",
      "\n",
      "Frame features in validation set: (189, 200, 512)\n",
      "Frame masks in validation set: (189, 200)\n",
      "Labels in validation set: (189, 1) → 189 samples\n",
      "\n",
      "════════════════════ TEST SET ════════════════════\n",
      "\n",
      "Frame features in test set: (192, 200, 512)\n",
      "Frame masks in test set: (192, 200)\n",
      "Labels in test set: (192, 1) → 192 samples\n",
      "\n",
      "All dataset sizes are consistent.\n"
     ]
    }
   ],
   "source": [
    "print(\"════════════════════ TRAIN SET ════════════════════\\n\")\n",
    "\n",
    "# Train set\n",
    "total_samples, frame_count, num_of_features = train_features.shape\n",
    "print(f\"\"\"Frame features in train set: {train_features.shape} \n",
    "    → {total_samples} samples\n",
    "    → {frame_count} frames per video\n",
    "    → {num_of_features} features per frame\n",
    "\"\"\")\n",
    "\n",
    "total_samples, mask_count = train_masks.shape\n",
    "print(f\"\"\"Frame masks in train set: {train_masks.shape} \n",
    "    → {total_samples} samples\n",
    "    → {mask_count} masks per video\n",
    "\"\"\")\n",
    "print(f\"Labels in train set: {train_labels.shape} → {train_labels.shape[0]} samples\\n\")\n",
    "\n",
    "print(\"════════════════════ VALIDATION SET ════════════════════\\n\")\n",
    "\n",
    "# Validation set\n",
    "print(f\"Frame features in validation set: {val_features.shape}\")\n",
    "print(f\"Frame masks in validation set: {val_masks.shape}\")\n",
    "print(f\"Labels in validation set: {val_labels.shape} → {val_labels.shape[0]} samples\\n\")\n",
    "\n",
    "print(\"════════════════════ TEST SET ════════════════════\\n\")\n",
    "\n",
    "# Test set\n",
    "print(f\"Frame features in test set: {test_features.shape}\")\n",
    "print(f\"Frame masks in test set: {test_masks.shape}\")\n",
    "print(f\"Labels in test set: {test_labels.shape} → {test_labels.shape[0]} samples\")\n",
    "\n",
    "# Check the size consistency\n",
    "assert train_features.shape[0] == train_masks.shape[0] == train_labels.shape[0], \"Inconsistent train dataset sizes\"\n",
    "assert val_features.shape[0] == val_masks.shape[0] == val_labels.shape[0], \"Inconsistent validation dataset sizes\"\n",
    "assert test_features.shape[0] == test_masks.shape[0] == test_labels.shape[0], \"Inconsistent test dataset sizes\"\n",
    "print(\"\\nAll dataset sizes are consistent.\")"
   ]
  },
  {
   "cell_type": "markdown",
   "metadata": {},
   "source": [
    "### Create Tensorflow datasets"
   ]
  },
  {
   "cell_type": "code",
   "execution_count": 37,
   "metadata": {},
   "outputs": [],
   "source": [
    "def create_tf_dataset(features, masks, labels, batch_size=32, dataset_type=None):\n",
    "    features_tensor = tf.convert_to_tensor(features, dtype=tf.float32)\n",
    "    masks_tensor = tf.convert_to_tensor(masks, dtype=tf.bool)\n",
    "    labels_tensor = tf.convert_to_tensor(labels, dtype=tf.float32)\n",
    "\n",
    "    dataset = tf.data.Dataset.from_tensor_slices(((features_tensor, masks_tensor), labels_tensor))\n",
    "\n",
    "    # Shuffle and batch the dataset\n",
    "    if dataset_type == \"Training\":\n",
    "        dataset = dataset.shuffle(buffer_size=len(features))\n",
    "    dataset = dataset.batch(batch_size)\n",
    "\n",
    "    # Prefetch for performance optimization\n",
    "    dataset = dataset.prefetch(buffer_size=tf.data.experimental.AUTOTUNE)\n",
    "\n",
    "    return dataset"
   ]
  },
  {
   "cell_type": "code",
   "execution_count": 38,
   "metadata": {},
   "outputs": [],
   "source": [
    "train_dataset = create_tf_dataset(train_features, train_masks, train_labels, batch_size=32, dataset_type=\"Training\")\n",
    "val_dataset = create_tf_dataset(val_features, val_masks, val_labels, batch_size=32, dataset_type=\"Validation\")\n",
    "test_dataset = create_tf_dataset(test_features, test_masks, test_labels, batch_size=32, dataset_type=\"Test\")"
   ]
  },
  {
   "cell_type": "markdown",
   "metadata": {},
   "source": [
    "## TCN Model Architecture"
   ]
  },
  {
   "cell_type": "markdown",
   "metadata": {},
   "source": [
    "Temporal Convolutional Networks (TCNs) for sequence modeling"
   ]
  },
  {
   "cell_type": "code",
   "execution_count": 47,
   "metadata": {},
   "outputs": [],
   "source": [
    "from keras.layers import Conv1D, BatchNormalization, Activation, SpatialDropout1D, Add\n",
    "\n",
    "def TemporalBlock(input_tensor, num_filters, kernel_size, dilation_rate, dropout_rate):\n",
    "    # First convolution block\n",
    "    conv1 = Conv1D(\n",
    "        filters=num_filters,\n",
    "        kernel_size=kernel_size,\n",
    "        dilation_rate=dilation_rate,\n",
    "        padding=\"causal\",\n",
    "    )(input_tensor)\n",
    "    conv1 = BatchNormalization()(conv1)\n",
    "    conv1 = Activation(\"relu\")(conv1)\n",
    "    conv1 = SpatialDropout1D(dropout_rate)(conv1)\n",
    "\n",
    "    # Second convolution block\n",
    "    conv2 = Conv1D(\n",
    "        filters=num_filters,\n",
    "        kernel_size=kernel_size,\n",
    "        dilation_rate=dilation_rate,\n",
    "        padding=\"causal\",\n",
    "    )(conv1)\n",
    "    conv2 = BatchNormalization()(conv2)\n",
    "    conv2 = Activation(\"relu\")(conv2)\n",
    "    conv2 = SpatialDropout1D(dropout_rate)(conv2)\n",
    "\n",
    "    # Residual connection\n",
    "    if input_tensor.shape[-1] != num_filters:\n",
    "        res = Conv1D(num_filters, 1, padding=\"same\")(input_tensor)\n",
    "    else:\n",
    "        res = input_tensor\n",
    "\n",
    "    return Add()([conv2, res])\n",
    "\n",
    "def build_tcn_model_custom(input_shape, num_classes):\n",
    "    inputs = Input(shape=input_shape)\n",
    "    tcn_output = TemporalBlock(inputs, 64, kernel_size=5, dilation_rate=2, dropout_rate=0.2)\n",
    "    dense_layer = Dense(128, activation=\"relu\")(tcn_output)\n",
    "    outputs = Dense(num_classes, activation=\"softmax\")(dense_layer)\n",
    "    model = Model(inputs, outputs)\n",
    "    model.compile(\n",
    "        optimizer=\"adam\",\n",
    "        loss=\"categorical_crossentropy\",\n",
    "        metrics=[\"accuracy\"],\n",
    "    )\n",
    "    return model\n"
   ]
  },
  {
   "cell_type": "code",
   "execution_count": 44,
   "metadata": {},
   "outputs": [
    {
     "name": "stdout",
     "output_type": "stream",
     "text": [
      "2.16.1\n"
     ]
    }
   ],
   "source": [
    "print(tf.__version__)"
   ]
  },
  {
   "cell_type": "markdown",
   "metadata": {},
   "source": [
    "Build the model"
   ]
  },
  {
   "cell_type": "code",
   "execution_count": 48,
   "metadata": {},
   "outputs": [
    {
     "ename": "AttributeError",
     "evalue": "'tuple' object has no attribute 'as_list'",
     "output_type": "error",
     "traceback": [
      "\u001b[0;31m---------------------------------------------------------------------------\u001b[0m",
      "\u001b[0;31mAttributeError\u001b[0m                            Traceback (most recent call last)",
      "Cell \u001b[0;32mIn[48], line 5\u001b[0m\n\u001b[1;32m      2\u001b[0m input_shape \u001b[38;5;241m=\u001b[39m (train_features\u001b[38;5;241m.\u001b[39mshape[\u001b[38;5;241m1\u001b[39m], train_features\u001b[38;5;241m.\u001b[39mshape[\u001b[38;5;241m2\u001b[39m])  \u001b[38;5;66;03m# (sequence_length, num_features)\u001b[39;00m\n\u001b[1;32m      3\u001b[0m num_classes \u001b[38;5;241m=\u001b[39m \u001b[38;5;28mlen\u001b[39m(class_vocab)\n\u001b[0;32m----> 5\u001b[0m tcn_model \u001b[38;5;241m=\u001b[39m build_tcn_model(input_shape, num_classes)\n\u001b[1;32m      6\u001b[0m tcn_model\u001b[38;5;241m.\u001b[39msummary()\n",
      "Cell \u001b[0;32mIn[40], line 5\u001b[0m, in \u001b[0;36mbuild_tcn_model\u001b[0;34m(input_shape, num_classes)\u001b[0m\n\u001b[1;32m      2\u001b[0m inputs \u001b[38;5;241m=\u001b[39m Input(shape\u001b[38;5;241m=\u001b[39minput_shape)\n\u001b[1;32m      4\u001b[0m \u001b[38;5;66;03m# TCN layers for temporal sequence modeling\u001b[39;00m\n\u001b[0;32m----> 5\u001b[0m tcn_layer \u001b[38;5;241m=\u001b[39m TCN(\n\u001b[1;32m      6\u001b[0m     nb_filters\u001b[38;5;241m=\u001b[39m\u001b[38;5;241m64\u001b[39m,  \u001b[38;5;66;03m# Number of filters in the TCN layer\u001b[39;00m\n\u001b[1;32m      7\u001b[0m     kernel_size\u001b[38;5;241m=\u001b[39m\u001b[38;5;241m5\u001b[39m,  \u001b[38;5;66;03m# Size of the convolutional kernel\u001b[39;00m\n\u001b[1;32m      8\u001b[0m     dilations\u001b[38;5;241m=\u001b[39m[\u001b[38;5;241m1\u001b[39m, \u001b[38;5;241m2\u001b[39m, \u001b[38;5;241m4\u001b[39m, \u001b[38;5;241m8\u001b[39m, \u001b[38;5;241m16\u001b[39m, \u001b[38;5;241m32\u001b[39m],  \u001b[38;5;66;03m# Dilation rates\u001b[39;00m\n\u001b[1;32m      9\u001b[0m     dropout_rate\u001b[38;5;241m=\u001b[39m\u001b[38;5;241m0.2\u001b[39m,  \u001b[38;5;66;03m# Dropout rate for regularization\u001b[39;00m\n\u001b[1;32m     10\u001b[0m     return_sequences\u001b[38;5;241m=\u001b[39m\u001b[38;5;28;01mFalse\u001b[39;00m,  \u001b[38;5;66;03m# Return sequence or final state\u001b[39;00m\n\u001b[1;32m     11\u001b[0m )(inputs)\n\u001b[1;32m     13\u001b[0m \u001b[38;5;66;03m# Fully connected layers for classification\u001b[39;00m\n\u001b[1;32m     14\u001b[0m dense_layer \u001b[38;5;241m=\u001b[39m Dense(\u001b[38;5;241m128\u001b[39m, activation\u001b[38;5;241m=\u001b[39m\u001b[38;5;124m\"\u001b[39m\u001b[38;5;124mrelu\u001b[39m\u001b[38;5;124m\"\u001b[39m)(tcn_layer)\n",
      "File \u001b[0;32m~/anaconda3/lib/python3.11/site-packages/keras/src/utils/traceback_utils.py:122\u001b[0m, in \u001b[0;36mfilter_traceback.<locals>.error_handler\u001b[0;34m(*args, **kwargs)\u001b[0m\n\u001b[1;32m    119\u001b[0m     filtered_tb \u001b[38;5;241m=\u001b[39m _process_traceback_frames(e\u001b[38;5;241m.\u001b[39m__traceback__)\n\u001b[1;32m    120\u001b[0m     \u001b[38;5;66;03m# To get the full stack trace, call:\u001b[39;00m\n\u001b[1;32m    121\u001b[0m     \u001b[38;5;66;03m# `keras.config.disable_traceback_filtering()`\u001b[39;00m\n\u001b[0;32m--> 122\u001b[0m     \u001b[38;5;28;01mraise\u001b[39;00m e\u001b[38;5;241m.\u001b[39mwith_traceback(filtered_tb) \u001b[38;5;28;01mfrom\u001b[39;00m \u001b[38;5;28;01mNone\u001b[39;00m\n\u001b[1;32m    123\u001b[0m \u001b[38;5;28;01mfinally\u001b[39;00m:\n\u001b[1;32m    124\u001b[0m     \u001b[38;5;28;01mdel\u001b[39;00m filtered_tb\n",
      "File \u001b[0;32m~/anaconda3/lib/python3.11/site-packages/tcn/tcn.py:316\u001b[0m, in \u001b[0;36mTCN.build\u001b[0;34m(self, input_shape)\u001b[0m\n\u001b[1;32m    314\u001b[0m     \u001b[38;5;28mself\u001b[39m\u001b[38;5;241m.\u001b[39moutput_slice_index \u001b[38;5;241m=\u001b[39m \u001b[38;5;241m-\u001b[39m\u001b[38;5;241m1\u001b[39m  \u001b[38;5;66;03m# causal case.\u001b[39;00m\n\u001b[1;32m    315\u001b[0m \u001b[38;5;28mself\u001b[39m\u001b[38;5;241m.\u001b[39mslicer_layer \u001b[38;5;241m=\u001b[39m Lambda(\u001b[38;5;28;01mlambda\u001b[39;00m tt: tt[:, \u001b[38;5;28mself\u001b[39m\u001b[38;5;241m.\u001b[39moutput_slice_index, :], name\u001b[38;5;241m=\u001b[39m\u001b[38;5;124m'\u001b[39m\u001b[38;5;124mSlice_Output\u001b[39m\u001b[38;5;124m'\u001b[39m)\n\u001b[0;32m--> 316\u001b[0m \u001b[38;5;28mself\u001b[39m\u001b[38;5;241m.\u001b[39mslicer_layer\u001b[38;5;241m.\u001b[39mbuild(\u001b[38;5;28mself\u001b[39m\u001b[38;5;241m.\u001b[39mbuild_output_shape\u001b[38;5;241m.\u001b[39mas_list())\n",
      "\u001b[0;31mAttributeError\u001b[0m: 'tuple' object has no attribute 'as_list'"
     ]
    }
   ],
   "source": [
    "# Train features are of shape (num_samples, seq_len, num_features)\n",
    "input_shape = (train_features.shape[1], train_features.shape[2])  # (sequence_length, num_features)\n",
    "num_classes = len(class_vocab)\n",
    "\n",
    "tcn_model = build_tcn_model(input_shape, num_classes)\n",
    "tcn_model.summary()"
   ]
  },
  {
   "cell_type": "code",
   "execution_count": null,
   "metadata": {},
   "outputs": [
    {
     "data": {
      "text/html": [
       "<pre style=\"white-space:pre;overflow-x:auto;line-height:normal;font-family:Menlo,'DejaVu Sans Mono',consolas,'Courier New',monospace\"><span style=\"font-weight: bold\">Model: \"rnn_sequence_model\"</span>\n",
       "</pre>\n"
      ],
      "text/plain": [
       "\u001b[1mModel: \"rnn_sequence_model\"\u001b[0m\n"
      ]
     },
     "metadata": {},
     "output_type": "display_data"
    },
    {
     "data": {
      "text/html": [
       "<pre style=\"white-space:pre;overflow-x:auto;line-height:normal;font-family:Menlo,'DejaVu Sans Mono',consolas,'Courier New',monospace\">┏━━━━━━━━━━━━━━━━━━━━━┳━━━━━━━━━━━━━━━━━━━┳━━━━━━━━━━━━┳━━━━━━━━━━━━━━━━━━━┓\n",
       "┃<span style=\"font-weight: bold\"> Layer (type)        </span>┃<span style=\"font-weight: bold\"> Output Shape      </span>┃<span style=\"font-weight: bold\">    Param # </span>┃<span style=\"font-weight: bold\"> Connected to      </span>┃\n",
       "┡━━━━━━━━━━━━━━━━━━━━━╇━━━━━━━━━━━━━━━━━━━╇━━━━━━━━━━━━╇━━━━━━━━━━━━━━━━━━━┩\n",
       "│ input_layer_10      │ (<span style=\"color: #00d7ff; text-decoration-color: #00d7ff\">None</span>, <span style=\"color: #00af00; text-decoration-color: #00af00\">200</span>, <span style=\"color: #00af00; text-decoration-color: #00af00\">512</span>)  │          <span style=\"color: #00af00; text-decoration-color: #00af00\">0</span> │ -                 │\n",
       "│ (<span style=\"color: #0087ff; text-decoration-color: #0087ff\">InputLayer</span>)        │                   │            │                   │\n",
       "├─────────────────────┼───────────────────┼────────────┼───────────────────┤\n",
       "│ input_layer_11      │ (<span style=\"color: #00d7ff; text-decoration-color: #00d7ff\">None</span>, <span style=\"color: #00af00; text-decoration-color: #00af00\">200</span>)       │          <span style=\"color: #00af00; text-decoration-color: #00af00\">0</span> │ -                 │\n",
       "│ (<span style=\"color: #0087ff; text-decoration-color: #0087ff\">InputLayer</span>)        │                   │            │                   │\n",
       "├─────────────────────┼───────────────────┼────────────┼───────────────────┤\n",
       "│ bidirectional_4     │ (<span style=\"color: #00d7ff; text-decoration-color: #00d7ff\">None</span>, <span style=\"color: #00af00; text-decoration-color: #00af00\">200</span>, <span style=\"color: #00af00; text-decoration-color: #00af00\">128</span>)  │    <span style=\"color: #00af00; text-decoration-color: #00af00\">221,952</span> │ input_layer_10[<span style=\"color: #00af00; text-decoration-color: #00af00\">0</span>… │\n",
       "│ (<span style=\"color: #0087ff; text-decoration-color: #0087ff\">Bidirectional</span>)     │                   │            │ input_layer_11[<span style=\"color: #00af00; text-decoration-color: #00af00\">0</span>… │\n",
       "├─────────────────────┼───────────────────┼────────────┼───────────────────┤\n",
       "│ bidirectional_5     │ (<span style=\"color: #00d7ff; text-decoration-color: #00d7ff\">None</span>, <span style=\"color: #00af00; text-decoration-color: #00af00\">64</span>)        │     <span style=\"color: #00af00; text-decoration-color: #00af00\">31,104</span> │ bidirectional_4[<span style=\"color: #00af00; text-decoration-color: #00af00\">…</span> │\n",
       "│ (<span style=\"color: #0087ff; text-decoration-color: #0087ff\">Bidirectional</span>)     │                   │            │                   │\n",
       "├─────────────────────┼───────────────────┼────────────┼───────────────────┤\n",
       "│ dropout_4 (<span style=\"color: #0087ff; text-decoration-color: #0087ff\">Dropout</span>) │ (<span style=\"color: #00d7ff; text-decoration-color: #00d7ff\">None</span>, <span style=\"color: #00af00; text-decoration-color: #00af00\">64</span>)        │          <span style=\"color: #00af00; text-decoration-color: #00af00\">0</span> │ bidirectional_5[<span style=\"color: #00af00; text-decoration-color: #00af00\">…</span> │\n",
       "├─────────────────────┼───────────────────┼────────────┼───────────────────┤\n",
       "│ dense_12 (<span style=\"color: #0087ff; text-decoration-color: #0087ff\">Dense</span>)    │ (<span style=\"color: #00d7ff; text-decoration-color: #00d7ff\">None</span>, <span style=\"color: #00af00; text-decoration-color: #00af00\">64</span>)        │      <span style=\"color: #00af00; text-decoration-color: #00af00\">4,160</span> │ dropout_4[<span style=\"color: #00af00; text-decoration-color: #00af00\">0</span>][<span style=\"color: #00af00; text-decoration-color: #00af00\">0</span>]   │\n",
       "├─────────────────────┼───────────────────┼────────────┼───────────────────┤\n",
       "│ dense_13 (<span style=\"color: #0087ff; text-decoration-color: #0087ff\">Dense</span>)    │ (<span style=\"color: #00d7ff; text-decoration-color: #00d7ff\">None</span>, <span style=\"color: #00af00; text-decoration-color: #00af00\">32</span>)        │      <span style=\"color: #00af00; text-decoration-color: #00af00\">2,080</span> │ dense_12[<span style=\"color: #00af00; text-decoration-color: #00af00\">0</span>][<span style=\"color: #00af00; text-decoration-color: #00af00\">0</span>]    │\n",
       "├─────────────────────┼───────────────────┼────────────┼───────────────────┤\n",
       "│ dense_14 (<span style=\"color: #0087ff; text-decoration-color: #0087ff\">Dense</span>)    │ (<span style=\"color: #00d7ff; text-decoration-color: #00d7ff\">None</span>, <span style=\"color: #00af00; text-decoration-color: #00af00\">10</span>)        │        <span style=\"color: #00af00; text-decoration-color: #00af00\">330</span> │ dense_13[<span style=\"color: #00af00; text-decoration-color: #00af00\">0</span>][<span style=\"color: #00af00; text-decoration-color: #00af00\">0</span>]    │\n",
       "└─────────────────────┴───────────────────┴────────────┴───────────────────┘\n",
       "</pre>\n"
      ],
      "text/plain": [
       "┏━━━━━━━━━━━━━━━━━━━━━┳━━━━━━━━━━━━━━━━━━━┳━━━━━━━━━━━━┳━━━━━━━━━━━━━━━━━━━┓\n",
       "┃\u001b[1m \u001b[0m\u001b[1mLayer (type)       \u001b[0m\u001b[1m \u001b[0m┃\u001b[1m \u001b[0m\u001b[1mOutput Shape     \u001b[0m\u001b[1m \u001b[0m┃\u001b[1m \u001b[0m\u001b[1m   Param #\u001b[0m\u001b[1m \u001b[0m┃\u001b[1m \u001b[0m\u001b[1mConnected to     \u001b[0m\u001b[1m \u001b[0m┃\n",
       "┡━━━━━━━━━━━━━━━━━━━━━╇━━━━━━━━━━━━━━━━━━━╇━━━━━━━━━━━━╇━━━━━━━━━━━━━━━━━━━┩\n",
       "│ input_layer_10      │ (\u001b[38;5;45mNone\u001b[0m, \u001b[38;5;34m200\u001b[0m, \u001b[38;5;34m512\u001b[0m)  │          \u001b[38;5;34m0\u001b[0m │ -                 │\n",
       "│ (\u001b[38;5;33mInputLayer\u001b[0m)        │                   │            │                   │\n",
       "├─────────────────────┼───────────────────┼────────────┼───────────────────┤\n",
       "│ input_layer_11      │ (\u001b[38;5;45mNone\u001b[0m, \u001b[38;5;34m200\u001b[0m)       │          \u001b[38;5;34m0\u001b[0m │ -                 │\n",
       "│ (\u001b[38;5;33mInputLayer\u001b[0m)        │                   │            │                   │\n",
       "├─────────────────────┼───────────────────┼────────────┼───────────────────┤\n",
       "│ bidirectional_4     │ (\u001b[38;5;45mNone\u001b[0m, \u001b[38;5;34m200\u001b[0m, \u001b[38;5;34m128\u001b[0m)  │    \u001b[38;5;34m221,952\u001b[0m │ input_layer_10[\u001b[38;5;34m0\u001b[0m… │\n",
       "│ (\u001b[38;5;33mBidirectional\u001b[0m)     │                   │            │ input_layer_11[\u001b[38;5;34m0\u001b[0m… │\n",
       "├─────────────────────┼───────────────────┼────────────┼───────────────────┤\n",
       "│ bidirectional_5     │ (\u001b[38;5;45mNone\u001b[0m, \u001b[38;5;34m64\u001b[0m)        │     \u001b[38;5;34m31,104\u001b[0m │ bidirectional_4[\u001b[38;5;34m…\u001b[0m │\n",
       "│ (\u001b[38;5;33mBidirectional\u001b[0m)     │                   │            │                   │\n",
       "├─────────────────────┼───────────────────┼────────────┼───────────────────┤\n",
       "│ dropout_4 (\u001b[38;5;33mDropout\u001b[0m) │ (\u001b[38;5;45mNone\u001b[0m, \u001b[38;5;34m64\u001b[0m)        │          \u001b[38;5;34m0\u001b[0m │ bidirectional_5[\u001b[38;5;34m…\u001b[0m │\n",
       "├─────────────────────┼───────────────────┼────────────┼───────────────────┤\n",
       "│ dense_12 (\u001b[38;5;33mDense\u001b[0m)    │ (\u001b[38;5;45mNone\u001b[0m, \u001b[38;5;34m64\u001b[0m)        │      \u001b[38;5;34m4,160\u001b[0m │ dropout_4[\u001b[38;5;34m0\u001b[0m][\u001b[38;5;34m0\u001b[0m]   │\n",
       "├─────────────────────┼───────────────────┼────────────┼───────────────────┤\n",
       "│ dense_13 (\u001b[38;5;33mDense\u001b[0m)    │ (\u001b[38;5;45mNone\u001b[0m, \u001b[38;5;34m32\u001b[0m)        │      \u001b[38;5;34m2,080\u001b[0m │ dense_12[\u001b[38;5;34m0\u001b[0m][\u001b[38;5;34m0\u001b[0m]    │\n",
       "├─────────────────────┼───────────────────┼────────────┼───────────────────┤\n",
       "│ dense_14 (\u001b[38;5;33mDense\u001b[0m)    │ (\u001b[38;5;45mNone\u001b[0m, \u001b[38;5;34m10\u001b[0m)        │        \u001b[38;5;34m330\u001b[0m │ dense_13[\u001b[38;5;34m0\u001b[0m][\u001b[38;5;34m0\u001b[0m]    │\n",
       "└─────────────────────┴───────────────────┴────────────┴───────────────────┘\n"
      ]
     },
     "metadata": {},
     "output_type": "display_data"
    },
    {
     "data": {
      "text/html": [
       "<pre style=\"white-space:pre;overflow-x:auto;line-height:normal;font-family:Menlo,'DejaVu Sans Mono',consolas,'Courier New',monospace\"><span style=\"font-weight: bold\"> Total params: </span><span style=\"color: #00af00; text-decoration-color: #00af00\">259,626</span> (1014.16 KB)\n",
       "</pre>\n"
      ],
      "text/plain": [
       "\u001b[1m Total params: \u001b[0m\u001b[38;5;34m259,626\u001b[0m (1014.16 KB)\n"
      ]
     },
     "metadata": {},
     "output_type": "display_data"
    },
    {
     "data": {
      "text/html": [
       "<pre style=\"white-space:pre;overflow-x:auto;line-height:normal;font-family:Menlo,'DejaVu Sans Mono',consolas,'Courier New',monospace\"><span style=\"font-weight: bold\"> Trainable params: </span><span style=\"color: #00af00; text-decoration-color: #00af00\">259,626</span> (1014.16 KB)\n",
       "</pre>\n"
      ],
      "text/plain": [
       "\u001b[1m Trainable params: \u001b[0m\u001b[38;5;34m259,626\u001b[0m (1014.16 KB)\n"
      ]
     },
     "metadata": {},
     "output_type": "display_data"
    },
    {
     "data": {
      "text/html": [
       "<pre style=\"white-space:pre;overflow-x:auto;line-height:normal;font-family:Menlo,'DejaVu Sans Mono',consolas,'Courier New',monospace\"><span style=\"font-weight: bold\"> Non-trainable params: </span><span style=\"color: #00af00; text-decoration-color: #00af00\">0</span> (0.00 B)\n",
       "</pre>\n"
      ],
      "text/plain": [
       "\u001b[1m Non-trainable params: \u001b[0m\u001b[38;5;34m0\u001b[0m (0.00 B)\n"
      ]
     },
     "metadata": {},
     "output_type": "display_data"
    }
   ],
   "source": [
    "# rnn_seq_model = build_tcn_model()\n",
    "# rnn_seq_model.summary()"
   ]
  },
  {
   "cell_type": "markdown",
   "metadata": {},
   "source": [
    "## Model Training"
   ]
  },
  {
   "cell_type": "code",
   "execution_count": null,
   "metadata": {},
   "outputs": [],
   "source": [
    "def get_new_model_version():\n",
    "    model_version = 1\n",
    "    while os.path.exists(f\"{MODEL_BASE_PATH}/v_{model_version}\"):\n",
    "        model_version += 1\n",
    "    return model_version"
   ]
  },
  {
   "cell_type": "code",
   "execution_count": null,
   "metadata": {},
   "outputs": [],
   "source": [
    "def get_model_version_path():\n",
    "    model_version = get_new_model_version()\n",
    "    model_version_path = f\"{MODEL_BASE_PATH}/v_{model_version}\"\n",
    "\n",
    "    return model_version_path"
   ]
  },
  {
   "cell_type": "code",
   "execution_count": null,
   "metadata": {},
   "outputs": [],
   "source": [
    "def get_model_path(model_version_path):\n",
    "    model_path = os.path.join(model_version_path, f\"{MODEL_NAME}.keras\")\n",
    "    \n",
    "    return model_path"
   ]
  },
  {
   "cell_type": "markdown",
   "metadata": {},
   "source": [
    "Utility to run the experiment"
   ]
  },
  {
   "cell_type": "code",
   "execution_count": null,
   "metadata": {},
   "outputs": [],
   "source": [
    "def train_model(model, model_path):\n",
    "    callbacks = [\n",
    "        ModelCheckpoint(\n",
    "            model_path,\n",
    "            save_weights_only=False,\n",
    "            save_best_only=True,\n",
    "            monitor=\"val_accuracy\",\n",
    "        ),\n",
    "        EarlyStopping(monitor=\"val_loss\", patience=10, restore_best_weights=True),\n",
    "    ]\n",
    "\n",
    "    history = tcn_model.fit(\n",
    "        train_features,\n",
    "        train_labels,\n",
    "        validation_data=(val_features, val_labels),\n",
    "        epochs=EPOCHS,\n",
    "        batch_size=BATCH_SIZE,\n",
    "        callbacks=callbacks,\n",
    "    )\n",
    "\n",
    "    return model, history"
   ]
  },
  {
   "cell_type": "code",
   "execution_count": null,
   "metadata": {},
   "outputs": [],
   "source": [
    "# def train_model(model, model_path):\n",
    "#     checkpoint = ModelCheckpoint(\n",
    "#         model_path,\n",
    "#         monitor=\"val_loss\",\n",
    "#         mode=\"min\",  # Save the model when the loss decreases (when model improves)\n",
    "#         save_weights_only=False,\n",
    "#         save_best_only=True,\n",
    "#         verbose=1,\n",
    "#     )\n",
    "\n",
    "#     early_stopping = tf.keras.callbacks.EarlyStopping(\n",
    "#         monitor=\"val_accuracy\", patience=10, restore_best_weights=True\n",
    "#     )\n",
    "\n",
    "#     callbacks = [\n",
    "#         checkpoint,\n",
    "#         # early_stopping,\n",
    "#     ]\n",
    "\n",
    "#     history = model.fit(\n",
    "#         train_dataset,\n",
    "#         validation_data=val_dataset,\n",
    "#         epochs=60,\n",
    "#         callbacks=callbacks,\n",
    "#     )\n",
    "\n",
    "#     return model, history"
   ]
  },
  {
   "cell_type": "markdown",
   "metadata": {},
   "source": [
    "Run the experiment"
   ]
  },
  {
   "cell_type": "code",
   "execution_count": null,
   "metadata": {},
   "outputs": [],
   "source": [
    "model_version_path = get_model_version_path()\n",
    "model_path = get_model_path(model_version_path)\n",
    "\n",
    "sequence_model, history = train_model(tcn_model, model_path)"
   ]
  },
  {
   "cell_type": "code",
   "execution_count": null,
   "metadata": {},
   "outputs": [],
   "source": [
    "test_loss, test_accuracy, test_top_k = tcn_model.evaluate(test_features, test_labels)\n",
    "\n",
    "print(f\"Test Accuracy: {test_accuracy * 100:.2f}%\")\n",
    "print(f\"Test Top-5 Accuracy: {test_top_k * 100:.2f}%\")\n"
   ]
  },
  {
   "cell_type": "code",
   "execution_count": null,
   "metadata": {},
   "outputs": [],
   "source": [
    "plt.plot(history.history[\"accuracy\"], label=\"Train Accuracy\")\n",
    "plt.plot(history.history[\"val_accuracy\"], label=\"Validation Accuracy\")\n",
    "plt.legend()\n",
    "plt.title(\"Model Accuracy\")\n",
    "plt.xlabel(\"Epochs\")\n",
    "plt.ylabel(\"Accuracy\")\n",
    "plt.show()\n"
   ]
  },
  {
   "cell_type": "code",
   "execution_count": null,
   "metadata": {},
   "outputs": [
    {
     "name": "stdout",
     "output_type": "stream",
     "text": [
      "Model saved at: ../models/cnn_rnn_ucf101_10c_tl_v6_200f_vgg19/v_5/cnn_rnn_ucf101_10c_tl_v6_200f_vgg19.keras\n",
      "Model size: 3.04 MB\n"
     ]
    }
   ],
   "source": [
    "if os.path.exists(model_path):\n",
    "    print(f\"Model saved at: {model_path}\")\n",
    "    model_size = os.path.getsize(model_path) / (1024 * 1024)\n",
    "    print(f\"Model size: {model_size:.2f} MB\")"
   ]
  },
  {
   "cell_type": "markdown",
   "metadata": {},
   "source": [
    "Visualise the training and validation loss and accuracy"
   ]
  },
  {
   "cell_type": "code",
   "execution_count": null,
   "metadata": {},
   "outputs": [],
   "source": [
    "def visualize_training_metrics(history, metrics_path):\n",
    "    train_loss = history.history['loss']\n",
    "    val_loss = history.history['val_loss']\n",
    "    train_accuracy = history.history['accuracy']\n",
    "    val_accuracy = history.history['val_accuracy']\n",
    "    \n",
    "    plt.figure(figsize=(12, 6))\n",
    "    \n",
    "    # Loss plot\n",
    "    plt.subplot(1, 2, 1)\n",
    "    plt.plot(train_loss, label='Training Loss')\n",
    "    plt.plot(val_loss, label='Validation Loss')\n",
    "    plt.title(\"Training and Validation Loss\")\n",
    "    plt.xlabel(\"Epochs\")\n",
    "    plt.ylabel(\"Loss\")\n",
    "    plt.legend()\n",
    "\n",
    "    # Accuracy plot\n",
    "    plt.subplot(1, 2, 2)\n",
    "    plt.plot(train_accuracy, label='Training Accuracy')\n",
    "    plt.plot(val_accuracy, label='Validation Accuracy')\n",
    "    plt.title(\"Training and Validation Accuracy\")\n",
    "    plt.xlabel(\"Epochs\")\n",
    "    plt.ylabel(\"Accuracy\")\n",
    "    plt.legend()\n",
    "    \n",
    "    plt.savefig(metrics_path)\n",
    "    print(f\"Training metrics plot saved at: {metrics_path}\")\n",
    "\n",
    "    plt.show()\n",
    "    \n",
    "    plt.close()"
   ]
  },
  {
   "cell_type": "code",
   "execution_count": null,
   "metadata": {},
   "outputs": [],
   "source": [
    "def get_model_image_path(metric_type, model_version_path):\n",
    "    image_path = f\"{model_version_path}/{metric_type}.png\"\n",
    "    return image_path"
   ]
  },
  {
   "cell_type": "code",
   "execution_count": null,
   "metadata": {},
   "outputs": [
    {
     "name": "stdout",
     "output_type": "stream",
     "text": [
      "Training metrics plot saved at: ../models/cnn_rnn_ucf101_10c_tl_v6_200f_vgg19/v_5/loss.png\n"
     ]
    },
    {
     "data": {
      "image/png": "[encoded data removed]",
      "text/plain": [
       "<Figure size 1200x600 with 2 Axes>"
      ]
     },
     "metadata": {},
     "output_type": "display_data"
    }
   ],
   "source": [
    "image_path = get_model_image_path(\"loss\", model_version_path)\n",
    "visualize_training_metrics(history, image_path)"
   ]
  },
  {
   "cell_type": "markdown",
   "metadata": {},
   "source": [
    "## Model Evaluation and Testing"
   ]
  },
  {
   "cell_type": "markdown",
   "metadata": {},
   "source": [
    "#### Evaluate on the entire test dataset"
   ]
  },
  {
   "cell_type": "code",
   "execution_count": null,
   "metadata": {},
   "outputs": [
    {
     "name": "stdout",
     "output_type": "stream",
     "text": [
      "\u001b[1m6/6\u001b[0m \u001b[32m━━━━━━━━━━━━━━━━━━━━\u001b[0m\u001b[37m\u001b[0m \u001b[1m1s\u001b[0m 107ms/step - accuracy: 0.1022 - loss: 2.3036\n",
      "Test Loss: 2.2696\n",
      "Traing Test Accuracy: 17.71%\n"
     ]
    }
   ],
   "source": [
    "sequence_model.load_weights(model_path) # Load the best weights\n",
    "loss, accuracy = sequence_model.evaluate(test_dataset, batch_size=32)\n",
    "\n",
    "print(f\"Test Loss: {loss :.4f}\")\n",
    "print(f\"Traing Test Accuracy: {accuracy * 100:.2f}%\")"
   ]
  },
  {
   "cell_type": "markdown",
   "metadata": {},
   "source": [
    "#### Evaluation with single sample"
   ]
  },
  {
   "cell_type": "markdown",
   "metadata": {},
   "source": [
    "Function to prepare the test video"
   ]
  },
  {
   "cell_type": "code",
   "execution_count": null,
   "metadata": {},
   "outputs": [],
   "source": [
    "def prepare_single_video(frames):\n",
    "    frames = frames[None, ...]\n",
    "    frame_mask = np.zeros(shape=(1, MAX_SEQ_LENGTH, ),dtype=\"bool\" )\n",
    "    frame_features = np.zeros(shape=(1, MAX_SEQ_LENGTH, NUM_FEATURES), dtype=\"float32\")\n",
    "\n",
    "    for i, frames_batch in enumerate(frames):\n",
    "        video_length = frames_batch.shape[0]\n",
    "        length = min(MAX_SEQ_LENGTH, video_length)\n",
    "        for j in range(length):\n",
    "            frame_features[i, j, :] = feature_extractor.predict(frames_batch[None, j, :])\n",
    "        frame_mask[i, :length] = 1  # 1 = not masked, 0 = masked\n",
    "\n",
    "    return frame_features, frame_mask"
   ]
  },
  {
   "cell_type": "markdown",
   "metadata": {},
   "source": [
    "Make predictions on a single video"
   ]
  },
  {
   "cell_type": "code",
   "execution_count": null,
   "metadata": {},
   "outputs": [],
   "source": [
    "def sequence_prediction(seq_model, frames, true_label):\n",
    "    # Add batch dimension to the frames to match model's expected input shape\n",
    "    frames = np.expand_dims(frames, axis=0)  # Shape becomes (1, 20, 2048)\n",
    "    \n",
    "    frame_features, frame_mask = create_video_features_and_mask(frames)\n",
    "    \n",
    "    # Predict using the model\n",
    "    probabilities = seq_model.predict([frame_features, frame_mask])[0]\n",
    "        \n",
    "    print(\"\\nTop-5 predicted actions:\")\n",
    "    for i in np.argsort(probabilities)[::-1][:5]:\n",
    "        print(f\"  - {class_vocab[i]}: {probabilities[i] * 100:5.2f}%\")\n",
    "    \n",
    "    # Get the top-1 predicted label (highest probability)\n",
    "    predicted_index = np.argmax(probabilities)\n",
    "    predicted_label = class_vocab[predicted_index]\n",
    "\n",
    "    # Convert true_label to index to align with predicted index format\n",
    "    true_label_index = class_vocab.index(true_label)\n",
    "\n",
    "    # Prepare y_true and y_pred as binary arrays (1 for correct label, 0 for others)\n",
    "    y_true = np.zeros(len(class_vocab))\n",
    "    y_pred = np.zeros(len(class_vocab))\n",
    "    y_true[true_label_index] = 1\n",
    "    y_pred[predicted_index] = 1\n",
    " \n",
    "    return y_true, y_pred, predicted_label"
   ]
  },
  {
   "cell_type": "code",
   "execution_count": null,
   "metadata": {},
   "outputs": [],
   "source": [
    "# def sequence_prediction(seq_model, frames, true_label):\n",
    "#     frame_features, frame_mask = create_video_features_and_mask(frames)\n",
    "#     probabilities = seq_model.predict([frame_features, frame_mask])[0]\n",
    "        \n",
    "#     print(\"\\nTop-5 predicted actions:\")\n",
    "#     for i in np.argsort(probabilities)[::-1][:5]:\n",
    "#         print(f\"  - {class_vocab[i]}: {probabilities[i] * 100:5.2f}%\")\n",
    "    \n",
    "#     # Get the top-1 predicted label (highest probability)\n",
    "#     predicted_index = np.argmax(probabilities)\n",
    "#     predicted_label = class_vocab[predicted_index]\n",
    "\n",
    "#     # Convert true_label to index to align with predicted index format\n",
    "#     true_label_index = class_vocab.index(true_label)\n",
    "\n",
    "#     # Prepare y_true and y_pred as binary arrays (1 for correct label, 0 for others)\n",
    "#     y_true = np.zeros(len(class_vocab))\n",
    "#     y_pred = np.zeros(len(class_vocab))\n",
    "#     y_true[true_label_index] = 1\n",
    "#     y_pred[predicted_index] = 1\n",
    " \n",
    "#     return y_true, y_pred, predicted_label"
   ]
  },
  {
   "cell_type": "markdown",
   "metadata": {},
   "source": [
    "Display predicted image as GIF"
   ]
  },
  {
   "cell_type": "code",
   "execution_count": null,
   "metadata": {},
   "outputs": [],
   "source": [
    "def display_as_gif(images, model_version_path):\n",
    "    gif_path = f\"{model_version_path}/test_animation.gif\"\n",
    "    converted_images = images.astype(np.uint8)\n",
    "    imageio.mimsave(gif_path, converted_images, duration=100)\n",
    "    # return Image(gif_path)\n",
    "    return Image.open(gif_path)"
   ]
  },
  {
   "cell_type": "markdown",
   "metadata": {},
   "source": [
    "Choosing a random video to use for prediction"
   ]
  },
  {
   "cell_type": "code",
   "execution_count": null,
   "metadata": {},
   "outputs": [
    {
     "name": "stdout",
     "output_type": "stream",
     "text": [
      "Test video path: /Users/mzitoh/.cache/kagglehub/datasets/matthewjansen/ucf101-action-recognition/versions/4/test/Basketball/v_BasketballDunk_g22_c03.avi\n",
      "Label: Basketball\n",
      "\n",
      "Test video frames shape:\n",
      "  - 111 frames\n",
      "  - 224 pixels (height) x 224 pixels (width)\n",
      "  - 3 color channels\n",
      "\n"
     ]
    }
   ],
   "source": [
    "random_index = np.random.randint(len(test_df))\n",
    "\n",
    "# Get the test video path\n",
    "test_video = test_df[\"video_path\"].values[random_index]\n",
    "\n",
    "# Get the true label of the test video\n",
    "true_label_index = test_labels.tolist()[random_index][0]\n",
    "true_label = class_vocab[true_label_index]\n",
    "\n",
    "test_video_frames = load_and_preprocess_video(test_video)\n",
    "\n",
    "print(f\"Test video path: {test_video}\")\n",
    "print(f\"Label: {true_label}\")\n",
    "\n",
    "print(f\"\"\"\n",
    "Test video frames shape:\n",
    "  - {test_video_frames.shape[0]} frames\n",
    "  - {test_video_frames.shape[1]} pixels (height) x {test_video_frames.shape[2]} pixels (width)\n",
    "  - {test_video_frames.shape[3]} color channels\n",
    "\"\"\")\n",
    "\n",
    "# display_as_gif(test_video_frames[:MAX_SEQ_LENGTH], model_version_path)"
   ]
  },
  {
   "cell_type": "markdown",
   "metadata": {},
   "source": [
    "Run the prediction on the test video"
   ]
  },
  {
   "cell_type": "code",
   "execution_count": null,
   "metadata": {},
   "outputs": [],
   "source": [
    "# y_true, y_pred, predicted_label = sequence_prediction(sequence_model, test_video_frames, true_label)"
   ]
  },
  {
   "cell_type": "code",
   "execution_count": null,
   "metadata": {},
   "outputs": [],
   "source": [
    "# print(f\"\\nTrue label: {true_label}\")\n",
    "# print(f\"Predicted label: {predicted_label}\")\n",
    "\n",
    "# print(f\"y_true: {y_true}\")\n",
    "# print(f\"y_pred: {y_pred}\")"
   ]
  },
  {
   "cell_type": "markdown",
   "metadata": {},
   "source": [
    "#### Evaluation on the entire test set"
   ]
  },
  {
   "cell_type": "markdown",
   "metadata": {},
   "source": [
    "Utility to save classification metrics"
   ]
  },
  {
   "cell_type": "code",
   "execution_count": null,
   "metadata": {},
   "outputs": [],
   "source": [
    "def save_classification_report(report, save_path):\n",
    "    report_data = []\n",
    "    lines = report.split(\"\\n\")\n",
    "\n",
    "    for line in filter(None, lines[2:-3]):  # Remove empty lines and headers/footers\n",
    "        row = line.split()\n",
    "        name = row[0]\n",
    "        stats = row[1:]\n",
    "\n",
    "        # Convert stats to float, handling support as int\n",
    "        stats = [float(val) for val in stats[:-1]] + [int(stats[-1])]\n",
    "        report_data.append([name] + stats)\n",
    "\n",
    "    report_df = pd.DataFrame(\n",
    "        report_data, columns=[\"Class\", \"Precision\", \"Recall\", \"F1-score\", \"Support\"]\n",
    "    )\n",
    "\n",
    "    report_df.to_csv(save_path, index=False)\n",
    "\n",
    "    print(f\"Classification report saved at: {save_path}\")"
   ]
  },
  {
   "cell_type": "markdown",
   "metadata": {},
   "source": [
    "Utility to display evaluation Metrics"
   ]
  },
  {
   "cell_type": "code",
   "execution_count": null,
   "metadata": {},
   "outputs": [],
   "source": [
    "def display_evaluation_metrics(y_true, y_pred, predictions, target_classes):\n",
    "    accuracy = accuracy_score(y_true, y_pred)\n",
    "    print(f\"Top-1 Accuracy: {accuracy * 100:.2f}%\")\n",
    "\n",
    "    k = 2\n",
    "    top_k_acc = top_k_accuracy_score(y_true, predictions, k=k)\n",
    "    print(f\"Top-{k} Accuracy: {top_k_acc * 100:.2f}%\")\n",
    "\n",
    "    report = classification_report(y_true, y_pred, target_names=target_classes)\n",
    "    print(\"\\nClassification Report:\\n\", report)\n",
    "\n",
    "    save_classification_report(report, f'{model_version_path}/classification_metrics.csv')"
   ]
  },
  {
   "cell_type": "code",
   "execution_count": null,
   "metadata": {},
   "outputs": [
    {
     "name": "stdout",
     "output_type": "stream",
     "text": [
      "\u001b[1m6/6\u001b[0m \u001b[32m━━━━━━━━━━━━━━━━━━━━\u001b[0m\u001b[37m\u001b[0m \u001b[1m2s\u001b[0m 83ms/step\n"
     ]
    }
   ],
   "source": [
    "predictions = sequence_model.predict([test_features, test_masks], batch_size=32)\n",
    "y_pred = np.argmax(predictions, axis=1)"
   ]
  },
  {
   "cell_type": "code",
   "execution_count": null,
   "metadata": {},
   "outputs": [
    {
     "name": "stdout",
     "output_type": "stream",
     "text": [
      "Top-1 Accuracy: 17.71%\n",
      "Top-2 Accuracy: 28.65%\n",
      "\n",
      "Classification Report:\n",
      "               precision    recall  f1-score   support\n",
      "\n",
      "   SkyDiving       0.00      0.00      0.00        14\n",
      "      Biking       0.00      0.00      0.00        17\n",
      "   HorseRace       0.00      0.00      0.00        16\n",
      "     Surfing       0.00      0.00      0.00        16\n",
      " TennisSwing       0.00      0.00      0.00        21\n",
      "       Punch       0.00      0.00      0.00        20\n",
      "  Basketball       0.18      1.00      0.30        34\n",
      "    JumpRope       0.00      0.00      0.00        18\n",
      "     Archery       0.00      0.00      0.00        19\n",
      "      Skiing       0.00      0.00      0.00        17\n",
      "\n",
      "    accuracy                           0.18       192\n",
      "   macro avg       0.02      0.10      0.03       192\n",
      "weighted avg       0.03      0.18      0.05       192\n",
      "\n",
      "Classification report saved at: ../models/cnn_rnn_ucf101_10c_tl_v6_200f_vgg19/v_5/classification_metrics.csv\n"
     ]
    },
    {
     "name": "stderr",
     "output_type": "stream",
     "text": [
      "/Users/mzitoh/anaconda3/lib/python3.11/site-packages/sklearn/metrics/_classification.py:1509: UndefinedMetricWarning: Precision is ill-defined and being set to 0.0 in labels with no predicted samples. Use `zero_division` parameter to control this behavior.\n",
      "  _warn_prf(average, modifier, f\"{metric.capitalize()} is\", len(result))\n",
      "/Users/mzitoh/anaconda3/lib/python3.11/site-packages/sklearn/metrics/_classification.py:1509: UndefinedMetricWarning: Precision is ill-defined and being set to 0.0 in labels with no predicted samples. Use `zero_division` parameter to control this behavior.\n",
      "  _warn_prf(average, modifier, f\"{metric.capitalize()} is\", len(result))\n",
      "/Users/mzitoh/anaconda3/lib/python3.11/site-packages/sklearn/metrics/_classification.py:1509: UndefinedMetricWarning: Precision is ill-defined and being set to 0.0 in labels with no predicted samples. Use `zero_division` parameter to control this behavior.\n",
      "  _warn_prf(average, modifier, f\"{metric.capitalize()} is\", len(result))\n"
     ]
    }
   ],
   "source": [
    "display_evaluation_metrics(test_labels, y_pred, predictions, class_vocab)"
   ]
  },
  {
   "cell_type": "code",
   "execution_count": null,
   "metadata": {},
   "outputs": [],
   "source": [
    "def display_confusion_matrix(y_true, y_pred, target_classes, plot_path, show_plot=False):\n",
    "    conf_matrix = confusion_matrix(y_true, y_pred)\n",
    "\n",
    "    plt.figure(figsize=(8, 6))\n",
    "    sns.heatmap(\n",
    "        conf_matrix,\n",
    "        fmt=\"d\",\n",
    "        annot=True,\n",
    "        cmap=\"Blues\",\n",
    "        cbar=True,\n",
    "        xticklabels=target_classes,\n",
    "        yticklabels=target_classes,\n",
    "    )\n",
    "    plt.xlabel(\"Predicted\")\n",
    "    plt.ylabel(\"True\")\n",
    "    plt.title(\"Confusion Matrix\")\n",
    "\n",
    "    if show_plot:\n",
    "        plt.show()    \n",
    "    else:\n",
    "        print(conf_matrix)\n",
    "\n",
    "    plt.savefig(plot_path)\n",
    "    print(f\"\\nConfusion matrix saved at: {plot_path}\")\n",
    "\n",
    "    plt.close()"
   ]
  },
  {
   "cell_type": "code",
   "execution_count": null,
   "metadata": {},
   "outputs": [
    {
     "name": "stdout",
     "output_type": "stream",
     "text": [
      "[[ 0  0  0  0  0  0 14  0  0  0]\n",
      " [ 0  0  0  0  0  0 17  0  0  0]\n",
      " [ 0  0  0  0  0  0 16  0  0  0]\n",
      " [ 0  0  0  0  0  0 16  0  0  0]\n",
      " [ 0  0  0  0  0  0 21  0  0  0]\n",
      " [ 0  0  0  0  0  0 20  0  0  0]\n",
      " [ 0  0  0  0  0  0 34  0  0  0]\n",
      " [ 0  0  0  0  0  0 18  0  0  0]\n",
      " [ 0  0  0  0  0  0 19  0  0  0]\n",
      " [ 0  0  0  0  0  0 17  0  0  0]]\n",
      "\n",
      "Confusion matrix saved at: ../models/cnn_rnn_ucf101_10c_tl_v6_200f_vgg19/v_5/confusion_matrix.png\n"
     ]
    }
   ],
   "source": [
    "true_labels = np.array(test_labels).flatten()\n",
    "cm_plot_path = get_model_image_path(\"confusion_matrix\", model_version_path)\n",
    "display_confusion_matrix(true_labels, y_pred, class_vocab, cm_plot_path, show_plot=False)"
   ]
  },
  {
   "cell_type": "markdown",
   "metadata": {},
   "source": [
    "## References"
   ]
  },
  {
   "cell_type": "markdown",
   "metadata": {},
   "source": [
    "> K. Soomro, A. R. Zamir, and M. Shah, \"UCF101: A Dataset of 101 Human Actions Classes From Videos in The Wild,\" arXiv, 2012. [Online]. Available: https://arxiv.org/abs/1212.0402\n",
    "\n",
    "> A. Arnab, M. Dehghani, G. Heigold, C. Sun, M. Lučić, and C. Schmid, “ViVIT: a video vision transformer,” arXiv.org, Mar. 29, 2021. https://arxiv.org/abs/2103.15691\n",
    "\n",
    "> X. Liu, Y. Shen, J. Liu, J. Yang, P. Xiong, and F. Lin, “Parallel Spatial–Temporal Self-Attention CNN-Based Motor Imagery Classification for BCI,” Frontiers in Neuroscience, vol. 14, Dec. 2020, doi: 10.3389/fnins.2020.587520.\n",
    "\n",
    "> C. Szegedy, V. Vanhoucke, S. Ioffe, J. Shlens, and Z. Wojna, \"Rethinking the Inception Architecture for Computer Vision,\" arXiv preprint arXiv:1512.00567, 2015.\n",
    "\n",
    "> Singh, S., Dewangan, S., Krishna, G., Tyagi, V., & Reddy, S. (2022). Video vision transformers for violence detection. arXiv. https://doi.org/10.48550/arXiv.2209.03561"
   ]
  }
 ],
 "metadata": {
  "kaggle": {
   "accelerator": "gpu",
   "dataSources": [
    {
     "databundleVersionId": 4915922,
     "datasetId": 2807884,
     "sourceId": 4849320,
     "sourceType": "datasetVersion"
    }
   ],
   "dockerImageVersionId": 30787,
   "isGpuEnabled": true,
   "isInternetEnabled": true,
   "language": "python",
   "sourceType": "notebook"
  },
  "kernelspec": {
   "display_name": "base",
   "language": "python",
   "name": "python3"
  },
  "language_info": {
   "codemirror_mode": {
    "name": "ipython",
    "version": 3
   },
   "file_extension": ".py",
   "mimetype": "text/x-python",
   "name": "python",
   "nbconvert_exporter": "python",
   "pygments_lexer": "ipython3",
   "version": "3.11.5"
  }
 },
 "nbformat": 4,
 "nbformat_minor": 4
}
