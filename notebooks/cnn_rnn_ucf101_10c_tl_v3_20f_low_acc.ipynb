{
 "cells": [
  {
   "cell_type": "markdown",
   "metadata": {},
   "source": [
    "# Sports Action Recognition Using CNN-RNN Architecture with Transfer Learning on `UCF101 10 Sports actions`"
   ]
  },
  {
   "cell_type": "markdown",
   "metadata": {},
   "source": [
    "## Dependencies"
   ]
  },
  {
   "cell_type": "code",
   "execution_count": 2,
   "metadata": {
    "_cell_guid": "b1076dfc-b9ad-4769-8c92-a6c4dae69d19",
    "_uuid": "8f2839f25d086af736a60e9eeb907d3b93b6e0e5",
    "execution": {
     "iopub.execute_input": "2024-11-06T02:10:51.359159Z",
     "iopub.status.busy": "2024-11-06T02:10:51.358754Z",
     "iopub.status.idle": "2024-11-06T02:11:09.254053Z",
     "shell.execute_reply": "2024-11-06T02:11:09.253134Z",
     "shell.execute_reply.started": "2024-11-06T02:10:51.359087Z"
    },
    "trusted": true
   },
   "outputs": [],
   "source": [
    "import os\n",
    "import re\n",
    "import time\n",
    "\n",
    "import numpy as np\n",
    "import pandas as pd\n",
    "import matplotlib.pyplot as plt\n",
    "import seaborn as sns\n",
    "from sklearn.metrics import accuracy_score, top_k_accuracy_score, classification_report, confusion_matrix\n",
    "\n",
    "import imageio\n",
    "import cv2\n",
    "from IPython.display import Image\n",
    "\n",
    "import tensorflow as tf\n",
    "import keras\n",
    "from keras.callbacks import ModelCheckpoint, EarlyStopping\n",
    "from keras.metrics import top_k_categorical_accuracy\n",
    "\n",
    "import pprint\n",
    "\n",
    "import kagglehub\n",
    "import wandb"
   ]
  },
  {
   "cell_type": "markdown",
   "metadata": {},
   "source": [
    "## Dataset Loading"
   ]
  },
  {
   "cell_type": "markdown",
   "metadata": {},
   "source": [
    "Download latest version of the ucf101-action-recognition dataset from Kaggle"
   ]
  },
  {
   "cell_type": "code",
   "execution_count": 3,
   "metadata": {},
   "outputs": [],
   "source": [
    "path = kagglehub.dataset_download(\"matthewjansen/ucf101-action-recognition\")"
   ]
  },
  {
   "cell_type": "code",
   "execution_count": 4,
   "metadata": {
    "execution": {
     "iopub.execute_input": "2024-11-06T02:12:09.427435Z",
     "iopub.status.busy": "2024-11-06T02:12:09.427055Z",
     "iopub.status.idle": "2024-11-06T02:12:09.431825Z",
     "shell.execute_reply": "2024-11-06T02:12:09.430893Z",
     "shell.execute_reply.started": "2024-11-06T02:12:09.427384Z"
    },
    "trusted": true
   },
   "outputs": [
    {
     "name": "stdout",
     "output_type": "stream",
     "text": [
      "Path to dataset files: \n",
      " /Users/mzitoh/.cache/kagglehub/datasets/matthewjansen/ucf101-action-recognition/versions/4\n",
      "\n",
      "Files in dataset directory:\n",
      " ['test', 'val.csv', 'test.csv', 'train', 'train.csv', 'val']\n"
     ]
    }
   ],
   "source": [
    "print(\"Path to dataset files: \\n\", path)\n",
    "print(\"\\nFiles in dataset directory:\\n\", os.listdir(path))"
   ]
  },
  {
   "cell_type": "markdown",
   "metadata": {},
   "source": [
    "**Class Definition**"
   ]
  },
  {
   "cell_type": "code",
   "execution_count": 5,
   "metadata": {},
   "outputs": [],
   "source": [
    "sports_actions = [\n",
    "    \"SkyDiving\",\n",
    "    \"Biking\",\n",
    "    \"HorseRace\",\n",
    "    \"Surfing\",\n",
    "    \"TennisSwing\",\n",
    "    \"Punch\",\n",
    "    \"Basketball\",\n",
    "    \"JumpRope\",\n",
    "    \"Archery\",\n",
    "    \"Skiing\",\n",
    "]"
   ]
  },
  {
   "cell_type": "markdown",
   "metadata": {},
   "source": [
    "Utility to transform video paths"
   ]
  },
  {
   "cell_type": "code",
   "execution_count": 6,
   "metadata": {},
   "outputs": [],
   "source": [
    "def load_dataset(dataset_type):\n",
    "    dataset_path = os.path.join(path, f\"{dataset_type}.csv\")\n",
    "    dataset = pd.read_csv(dataset_path)\n",
    "\n",
    "    # Filter dataset to only include the specified sports actions\n",
    "    filtered_dataset = dataset[dataset[\"label\"].isin(sports_actions)]\n",
    "\n",
    "    return pd.DataFrame(\n",
    "        {\n",
    "            \"label\": filtered_dataset[\"label\"],\n",
    "            \"video_name\": filtered_dataset[\"clip_name\"],\n",
    "            \"rel_path\": filtered_dataset[\"clip_path\"],\n",
    "            \"video_path\": filtered_dataset[\"clip_path\"].apply(lambda x: f\"{path}{x}\"),\n",
    "        }\n",
    "    )"
   ]
  },
  {
   "cell_type": "markdown",
   "metadata": {},
   "source": [
    "Load the train and test datasets"
   ]
  },
  {
   "cell_type": "code",
   "execution_count": 7,
   "metadata": {},
   "outputs": [
    {
     "name": "stdout",
     "output_type": "stream",
     "text": [
      "Total videos for training: 1128\n",
      "Total videos for validation: 189\n",
      "Total videos for testing: 192\n"
     ]
    }
   ],
   "source": [
    "train_df = load_dataset(\"train\")\n",
    "val_df = load_dataset(\"val\")\n",
    "test_df = load_dataset(\"test\")\n",
    "\n",
    "print(f\"Total videos for training: {len(train_df)}\")\n",
    "print(f\"Total videos for validation: {len(val_df)}\")\n",
    "print(f\"Total videos for testing: {len(test_df)}\")"
   ]
  },
  {
   "cell_type": "code",
   "execution_count": 8,
   "metadata": {},
   "outputs": [
    {
     "name": "stdout",
     "output_type": "stream",
     "text": [
      "Number of unique classes in training set:  10\n",
      "Number of unique classes in validation set:  10\n",
      "Number of unique classes in test set:  10\n",
      "\n",
      "Labels: \n",
      " ['SkyDiving' 'TennisSwing' 'Skiing' 'Punch' 'Archery' 'JumpRope'\n",
      " 'Basketball' 'Biking' 'HorseRace' 'Surfing']\n"
     ]
    }
   ],
   "source": [
    "print(\"Number of unique classes in training set: \", len(train_df[\"label\"].unique()))\n",
    "print(\"Number of unique classes in validation set: \", len(val_df[\"label\"].unique()))\n",
    "print(\"Number of unique classes in test set: \", len(test_df[\"label\"].unique()))\n",
    "\n",
    "print(\"\\nLabels: \\n\", train_df[\"label\"].unique())"
   ]
  },
  {
   "cell_type": "code",
   "execution_count": 9,
   "metadata": {},
   "outputs": [
    {
     "data": {
      "text/html": [
       "<div>\n",
       "<style scoped>\n",
       "    .dataframe tbody tr th:only-of-type {\n",
       "        vertical-align: middle;\n",
       "    }\n",
       "\n",
       "    .dataframe tbody tr th {\n",
       "        vertical-align: top;\n",
       "    }\n",
       "\n",
       "    .dataframe thead th {\n",
       "        text-align: right;\n",
       "    }\n",
       "</style>\n",
       "<table border=\"1\" class=\"dataframe\">\n",
       "  <thead>\n",
       "    <tr style=\"text-align: right;\">\n",
       "      <th></th>\n",
       "      <th>label</th>\n",
       "      <th>video_name</th>\n",
       "      <th>rel_path</th>\n",
       "      <th>video_path</th>\n",
       "    </tr>\n",
       "  </thead>\n",
       "  <tbody>\n",
       "    <tr>\n",
       "      <th>2840</th>\n",
       "      <td>Punch</td>\n",
       "      <td>v_Punch_g23_c07</td>\n",
       "      <td>/train/Punch/v_Punch_g23_c07.avi</td>\n",
       "      <td>/Users/mzitoh/.cache/kagglehub/datasets/matthe...</td>\n",
       "    </tr>\n",
       "    <tr>\n",
       "      <th>814</th>\n",
       "      <td>TennisSwing</td>\n",
       "      <td>v_TennisSwing_g07_c07</td>\n",
       "      <td>/train/TennisSwing/v_TennisSwing_g07_c07.avi</td>\n",
       "      <td>/Users/mzitoh/.cache/kagglehub/datasets/matthe...</td>\n",
       "    </tr>\n",
       "    <tr>\n",
       "      <th>5132</th>\n",
       "      <td>Basketball</td>\n",
       "      <td>v_Basketball_g21_c04</td>\n",
       "      <td>/train/Basketball/v_Basketball_g21_c04.avi</td>\n",
       "      <td>/Users/mzitoh/.cache/kagglehub/datasets/matthe...</td>\n",
       "    </tr>\n",
       "    <tr>\n",
       "      <th>2916</th>\n",
       "      <td>Punch</td>\n",
       "      <td>v_Punch_g16_c06</td>\n",
       "      <td>/train/Punch/v_Punch_g16_c06.avi</td>\n",
       "      <td>/Users/mzitoh/.cache/kagglehub/datasets/matthe...</td>\n",
       "    </tr>\n",
       "    <tr>\n",
       "      <th>8122</th>\n",
       "      <td>Biking</td>\n",
       "      <td>v_Biking_g17_c06</td>\n",
       "      <td>/train/Biking/v_Biking_g17_c06.avi</td>\n",
       "      <td>/Users/mzitoh/.cache/kagglehub/datasets/matthe...</td>\n",
       "    </tr>\n",
       "    <tr>\n",
       "      <th>830</th>\n",
       "      <td>TennisSwing</td>\n",
       "      <td>v_TennisSwing_g06_c02</td>\n",
       "      <td>/train/TennisSwing/v_TennisSwing_g06_c02.avi</td>\n",
       "      <td>/Users/mzitoh/.cache/kagglehub/datasets/matthe...</td>\n",
       "    </tr>\n",
       "    <tr>\n",
       "      <th>4456</th>\n",
       "      <td>JumpRope</td>\n",
       "      <td>v_JumpRope_g04_c01</td>\n",
       "      <td>/train/JumpRope/v_JumpRope_g04_c01.avi</td>\n",
       "      <td>/Users/mzitoh/.cache/kagglehub/datasets/matthe...</td>\n",
       "    </tr>\n",
       "    <tr>\n",
       "      <th>9019</th>\n",
       "      <td>HorseRace</td>\n",
       "      <td>v_HorseRace_g08_c01</td>\n",
       "      <td>/train/HorseRace/v_HorseRace_g08_c01.avi</td>\n",
       "      <td>/Users/mzitoh/.cache/kagglehub/datasets/matthe...</td>\n",
       "    </tr>\n",
       "    <tr>\n",
       "      <th>9750</th>\n",
       "      <td>Surfing</td>\n",
       "      <td>v_Surfing_g12_c05</td>\n",
       "      <td>/train/Surfing/v_Surfing_g12_c05.avi</td>\n",
       "      <td>/Users/mzitoh/.cache/kagglehub/datasets/matthe...</td>\n",
       "    </tr>\n",
       "    <tr>\n",
       "      <th>100</th>\n",
       "      <td>SkyDiving</td>\n",
       "      <td>v_SkyDiving_g10_c03</td>\n",
       "      <td>/train/SkyDiving/v_SkyDiving_g10_c03.avi</td>\n",
       "      <td>/Users/mzitoh/.cache/kagglehub/datasets/matthe...</td>\n",
       "    </tr>\n",
       "  </tbody>\n",
       "</table>\n",
       "</div>"
      ],
      "text/plain": [
       "            label             video_name  \\\n",
       "2840        Punch        v_Punch_g23_c07   \n",
       "814   TennisSwing  v_TennisSwing_g07_c07   \n",
       "5132   Basketball   v_Basketball_g21_c04   \n",
       "2916        Punch        v_Punch_g16_c06   \n",
       "8122       Biking       v_Biking_g17_c06   \n",
       "830   TennisSwing  v_TennisSwing_g06_c02   \n",
       "4456     JumpRope     v_JumpRope_g04_c01   \n",
       "9019    HorseRace    v_HorseRace_g08_c01   \n",
       "9750      Surfing      v_Surfing_g12_c05   \n",
       "100     SkyDiving    v_SkyDiving_g10_c03   \n",
       "\n",
       "                                          rel_path  \\\n",
       "2840              /train/Punch/v_Punch_g23_c07.avi   \n",
       "814   /train/TennisSwing/v_TennisSwing_g07_c07.avi   \n",
       "5132    /train/Basketball/v_Basketball_g21_c04.avi   \n",
       "2916              /train/Punch/v_Punch_g16_c06.avi   \n",
       "8122            /train/Biking/v_Biking_g17_c06.avi   \n",
       "830   /train/TennisSwing/v_TennisSwing_g06_c02.avi   \n",
       "4456        /train/JumpRope/v_JumpRope_g04_c01.avi   \n",
       "9019      /train/HorseRace/v_HorseRace_g08_c01.avi   \n",
       "9750          /train/Surfing/v_Surfing_g12_c05.avi   \n",
       "100       /train/SkyDiving/v_SkyDiving_g10_c03.avi   \n",
       "\n",
       "                                             video_path  \n",
       "2840  /Users/mzitoh/.cache/kagglehub/datasets/matthe...  \n",
       "814   /Users/mzitoh/.cache/kagglehub/datasets/matthe...  \n",
       "5132  /Users/mzitoh/.cache/kagglehub/datasets/matthe...  \n",
       "2916  /Users/mzitoh/.cache/kagglehub/datasets/matthe...  \n",
       "8122  /Users/mzitoh/.cache/kagglehub/datasets/matthe...  \n",
       "830   /Users/mzitoh/.cache/kagglehub/datasets/matthe...  \n",
       "4456  /Users/mzitoh/.cache/kagglehub/datasets/matthe...  \n",
       "9019  /Users/mzitoh/.cache/kagglehub/datasets/matthe...  \n",
       "9750  /Users/mzitoh/.cache/kagglehub/datasets/matthe...  \n",
       "100   /Users/mzitoh/.cache/kagglehub/datasets/matthe...  "
      ]
     },
     "execution_count": 9,
     "metadata": {},
     "output_type": "execute_result"
    }
   ],
   "source": [
    "train_df.sample(10)"
   ]
  },
  {
   "cell_type": "markdown",
   "metadata": {},
   "source": [
    "## Configs & Hyperparameters"
   ]
  },
  {
   "cell_type": "code",
   "execution_count": 10,
   "metadata": {
    "execution": {
     "iopub.execute_input": "2024-11-06T02:12:09.480471Z",
     "iopub.status.busy": "2024-11-06T02:12:09.480187Z",
     "iopub.status.idle": "2024-11-06T02:12:09.484927Z",
     "shell.execute_reply": "2024-11-06T02:12:09.484040Z",
     "shell.execute_reply.started": "2024-11-06T02:12:09.480440Z"
    },
    "trusted": true
   },
   "outputs": [],
   "source": [
    "MODEL_NAME = \"cnn_rnn_ucf101_10c_tl\"\n",
    "MODEL_BASE_PATH = f\"../models/{MODEL_NAME}\"\n",
    "\n",
    "IMG_SIZE = 224\n",
    "BATCH_SIZE = 64\n",
    "EPOCHS = 100\n",
    "LEARNING_RATE = 1e-4\n",
    "\n",
    "MAX_SEQ_LENGTH = 20 # TODO: Use 150 for final test\n",
    "NUM_FEATURES = 2048"
   ]
  },
  {
   "cell_type": "markdown",
   "metadata": {},
   "source": [
    "## Video Data Preprocessing"
   ]
  },
  {
   "cell_type": "markdown",
   "metadata": {},
   "source": [
    "#### Label Encoding"
   ]
  },
  {
   "cell_type": "markdown",
   "metadata": {},
   "source": [
    "Encode the class labels as integers using the Keras StringLookup layer"
   ]
  },
  {
   "cell_type": "code",
   "execution_count": 11,
   "metadata": {},
   "outputs": [
    {
     "data": {
      "text/plain": [
       "array(['Archery', 'Basketball', 'Biking', 'HorseRace', 'JumpRope',\n",
       "       'Punch', 'Skiing', 'SkyDiving', 'Surfing', 'TennisSwing'],\n",
       "      dtype=object)"
      ]
     },
     "execution_count": 11,
     "metadata": {},
     "output_type": "execute_result"
    }
   ],
   "source": [
    "np.unique(train_df[\"label\"])"
   ]
  },
  {
   "cell_type": "code",
   "execution_count": 12,
   "metadata": {},
   "outputs": [
    {
     "name": "stdout",
     "output_type": "stream",
     "text": [
      "Vocabulary: ['SkyDiving', 'Biking', 'HorseRace', 'Surfing', 'TennisSwing', 'Punch', 'Basketball', 'JumpRope', 'Archery', 'Skiing']\n",
      "Number of classes: 10\n"
     ]
    }
   ],
   "source": [
    "label_processor = keras.layers.StringLookup(num_oov_indices=0, vocabulary=sports_actions)\n",
    "\n",
    "class_vocab = label_processor.get_vocabulary()\n",
    "\n",
    "print(f\"Vocabulary: {class_vocab}\")\n",
    "print(f\"Number of classes: {len(class_vocab)}\")"
   ]
  },
  {
   "cell_type": "markdown",
   "metadata": {},
   "source": [
    "Utility to convert string labels to one-hot encoded format"
   ]
  },
  {
   "cell_type": "code",
   "execution_count": 13,
   "metadata": {},
   "outputs": [],
   "source": [
    "def encode_labels(labels: np.ndarray) -> np.ndarray:\n",
    "    integer_labels = keras.ops.convert_to_numpy(label_processor(labels[..., None]))\n",
    "    return keras.utils.to_categorical(integer_labels, num_classes=len(class_vocab))\n"
   ]
  },
  {
   "cell_type": "markdown",
   "metadata": {},
   "source": [
    "#### Review video category distribution"
   ]
  },
  {
   "cell_type": "code",
   "execution_count": 14,
   "metadata": {},
   "outputs": [
    {
     "name": "stdout",
     "output_type": "stream",
     "text": [
      "Combined average number of videos per class:\n",
      "             Train  Validation  Test  Average\n",
      "label                                        \n",
      "Archery        108          18    19       48\n",
      "Basketball     198          33    34       88\n",
      "Biking         100          17    17       45\n",
      "HorseRace       93          15    16       41\n",
      "JumpRope       108          18    18       48\n",
      "Punch          120          20    20       53\n",
      "Skiing         101          17    17       45\n",
      "SkyDiving       82          14    14       37\n",
      "Surfing         94          16    16       42\n",
      "TennisSwing    124          21    21       55\n"
     ]
    },
    {
     "data": {
      "image/png": "[encoded data removed]",
      "text/plain": [
       "<Figure size 1000x500 with 1 Axes>"
      ]
     },
     "metadata": {},
     "output_type": "display_data"
    }
   ],
   "source": [
    "def review_class_distribution(dataset, dataset_name):\n",
    "    class_counts = dataset[\"label\"].value_counts()\n",
    "    return class_counts\n",
    "\n",
    "# Get class distributions for each dataset\n",
    "train_class_counts = review_class_distribution(train_df, \"Train\")\n",
    "val_class_counts = review_class_distribution(val_df, \"Validation\")\n",
    "test_class_counts = review_class_distribution(test_df, \"Test\")\n",
    "\n",
    "# Create DataFrame for distribution and calculate average\n",
    "distribution_df = pd.DataFrame({\n",
    "    \"Train\": train_class_counts,\n",
    "    \"Validation\": val_class_counts,\n",
    "    \"Test\": test_class_counts\n",
    "}).fillna(0)\n",
    "\n",
    "distribution_df[\"Average\"] = distribution_df.mean(axis=1).round().astype(int)\n",
    "print(\"Combined average number of videos per class:\")\n",
    "print(distribution_df)\n",
    "\n",
    "# Plot the distribution\n",
    "plot_distribution_df = distribution_df.drop(columns=\"Average\")\n",
    "plot_distribution_df.plot(kind=\"bar\", figsize=(10, 5))\n",
    "plt.title(\"Class Distribution Comparison Across Train, Validation, and Test Sets\")\n",
    "plt.xlabel(\"Class Labels\")\n",
    "plt.ylabel(\"Number of Videos\")\n",
    "plt.legend(title=\"Dataset\")\n",
    "plt.xticks(rotation=45)\n",
    "plt.tight_layout()\n",
    "plt.show()"
   ]
  },
  {
   "cell_type": "markdown",
   "metadata": {},
   "source": [
    "#### Review Video frame distribution "
   ]
  },
  {
   "cell_type": "markdown",
   "metadata": {},
   "source": [
    "Count the number of frames for each video"
   ]
  },
  {
   "cell_type": "code",
   "execution_count": 15,
   "metadata": {},
   "outputs": [],
   "source": [
    "def count_frames_per_video(video_paths):\n",
    "    frame_counts = []\n",
    "\n",
    "    for video_path in video_paths: \n",
    "        cap = cv2.VideoCapture(video_path)\n",
    "        count = 0\n",
    "        \n",
    "        while cap.isOpened():\n",
    "            ret, _ = cap.read()\n",
    "            if not ret:\n",
    "                break\n",
    "            count += 1\n",
    "        cap.release()\n",
    "        frame_counts.append(count)\n",
    "\n",
    "    return frame_counts"
   ]
  },
  {
   "cell_type": "code",
   "execution_count": 16,
   "metadata": {},
   "outputs": [],
   "source": [
    "def visualize_frame_distribution(frame_counts):\n",
    "    plt.figure(figsize=(8, 5))\n",
    "    sns.violinplot(x=frame_counts)\n",
    "    plt.title(\"Violin Plot of Frame Counts per Video\")\n",
    "    plt.xlabel(\"Number of Frames\")\n",
    "    plt.xlabel(\"Number of Frames\")\n",
    "    plt.show()"
   ]
  },
  {
   "cell_type": "code",
   "execution_count": 17,
   "metadata": {},
   "outputs": [],
   "source": [
    "frame_counts = count_frames_per_video(train_df[\"video_path\"].values)"
   ]
  },
  {
   "cell_type": "markdown",
   "metadata": {},
   "source": [
    "Standard deviation of the frame counts"
   ]
  },
  {
   "cell_type": "code",
   "execution_count": 18,
   "metadata": {},
   "outputs": [
    {
     "data": {
      "text/plain": [
       "115.2541453710833"
      ]
     },
     "execution_count": 18,
     "metadata": {},
     "output_type": "execute_result"
    }
   ],
   "source": [
    "np.std(frame_counts)"
   ]
  },
  {
   "cell_type": "code",
   "execution_count": 19,
   "metadata": {},
   "outputs": [
    {
     "data": {
      "image/png": "[encoded data removed]",
      "text/plain": [
       "<Figure size 800x500 with 1 Axes>"
      ]
     },
     "metadata": {},
     "output_type": "display_data"
    }
   ],
   "source": [
    "visualize_frame_distribution(frame_counts)"
   ]
  },
  {
   "cell_type": "markdown",
   "metadata": {},
   "source": [
    "#### Video preprocessing utilities"
   ]
  },
  {
   "cell_type": "markdown",
   "metadata": {},
   "source": [
    " Function to resize the video frames to a square shape without distorting their content"
   ]
  },
  {
   "cell_type": "code",
   "execution_count": 20,
   "metadata": {
    "execution": {
     "iopub.execute_input": "2024-11-06T02:12:09.486337Z",
     "iopub.status.busy": "2024-11-06T02:12:09.486016Z",
     "iopub.status.idle": "2024-11-06T02:12:09.496479Z",
     "shell.execute_reply": "2024-11-06T02:12:09.495613Z",
     "shell.execute_reply.started": "2024-11-06T02:12:09.486305Z"
    },
    "trusted": true
   },
   "outputs": [],
   "source": [
    "def crop_center_square(frame):\n",
    "    y, x = frame.shape[0:2]  # Get the height (y) and width (x) of the image\n",
    "    min_dim = min(y, x)       # Find the smallest dimension (either height or width)\n",
    "    start_x = (x // 2) - (min_dim // 2)  # Calculate the horizontal starting point for the crop\n",
    "    start_y = (y // 2) - (min_dim // 2)  # Calculate the vertical starting point for the crop\n",
    "    \n",
    "    return frame[start_y : start_y + min_dim, start_x : start_x + min_dim]  # Return the cropped square"
   ]
  },
  {
   "cell_type": "markdown",
   "metadata": {},
   "source": [
    "Crop,resize, and reorder color channels"
   ]
  },
  {
   "cell_type": "code",
   "execution_count": 21,
   "metadata": {
    "execution": {
     "iopub.execute_input": "2024-11-06T02:12:09.499763Z",
     "iopub.status.busy": "2024-11-06T02:12:09.499469Z",
     "iopub.status.idle": "2024-11-06T02:12:09.507023Z",
     "shell.execute_reply": "2024-11-06T02:12:09.506339Z",
     "shell.execute_reply.started": "2024-11-06T02:12:09.499731Z"
    },
    "trusted": true
   },
   "outputs": [],
   "source": [
    "def load_and_preprocess_video(video_path, max_frames=0, resize=(IMG_SIZE, IMG_SIZE)):    \n",
    "    cap = cv2.VideoCapture(video_path)\n",
    "    frames = []\n",
    "    try:\n",
    "        while True:\n",
    "            ret, frame = cap.read()\n",
    "            if not ret:\n",
    "                break\n",
    "            frame = crop_center_square(frame) # Crop center square\n",
    "            frame = cv2.resize(frame, resize) # Resize the image (In this case to 224x224)\n",
    "            frame = frame[:, :, [2, 1, 0]] # Reorder the color channels from OpenCV BGR to RGB\n",
    "            frame = frame / 255.0\n",
    "            \n",
    "            frames.append(frame)\n",
    "\n",
    "            if len(frames) == max_frames:\n",
    "                break\n",
    "    finally:\n",
    "        cap.release()\n",
    "   \n",
    "    return np.array(frames)"
   ]
  },
  {
   "cell_type": "markdown",
   "metadata": {},
   "source": [
    "#### Feature Extraction with Transfer Learning"
   ]
  },
  {
   "cell_type": "markdown",
   "metadata": {},
   "source": [
    "Using a pre-trained network to extract meaningful features from the extracted frames\n",
    "- The InceptionV3 model pretrained on ImageNet-1k dataset"
   ]
  },
  {
   "cell_type": "code",
   "execution_count": 22,
   "metadata": {
    "execution": {
     "iopub.execute_input": "2024-11-06T02:12:09.510210Z",
     "iopub.status.busy": "2024-11-06T02:12:09.507987Z",
     "iopub.status.idle": "2024-11-06T02:12:17.591303Z",
     "shell.execute_reply": "2024-11-06T02:12:17.590307Z",
     "shell.execute_reply.started": "2024-11-06T02:12:09.510168Z"
    },
    "trusted": true
   },
   "outputs": [],
   "source": [
    "def build_feature_extractor():\n",
    "    feature_extractor = keras.applications.InceptionV3(\n",
    "        weights=\"imagenet\",\n",
    "        include_top=False,\n",
    "        pooling=\"avg\",\n",
    "        input_shape=(IMG_SIZE, IMG_SIZE, 3),\n",
    "    )\n",
    "    preprocess_input = keras.applications.inception_v3.preprocess_input\n",
    "\n",
    "    inputs = keras.Input((IMG_SIZE, IMG_SIZE, 3))\n",
    "    preprocessed = preprocess_input(inputs)\n",
    "\n",
    "    outputs = feature_extractor(preprocessed)\n",
    "    return keras.Model(inputs, outputs, name=\"feature_extractor\")"
   ]
  },
  {
   "cell_type": "code",
   "execution_count": 23,
   "metadata": {
    "trusted": true
   },
   "outputs": [],
   "source": [
    "feature_extractor = build_feature_extractor()"
   ]
  },
  {
   "cell_type": "markdown",
   "metadata": {},
   "source": [
    "Helper function to create masks and features for a single video\n",
    "- `frame_features` will contain extracted features per frame\n",
    "- `frame_masks` will contain booleans denoting if a timestep/frame is padded or not"
   ]
  },
  {
   "cell_type": "code",
   "execution_count": 24,
   "metadata": {},
   "outputs": [],
   "source": [
    "def create_video_features_and_mask(frames):\n",
    "    mask = np.zeros((MAX_SEQ_LENGTH,), dtype=\"bool\")\n",
    "    features = np.zeros((MAX_SEQ_LENGTH, NUM_FEATURES), dtype=\"float32\")\n",
    "\n",
    "    # Extract features for each frame\n",
    "    for i, frame in enumerate(frames[:MAX_SEQ_LENGTH]):\n",
    "        feature = feature_extractor(tf.expand_dims(frame, 0))\n",
    "        features[i] = feature\n",
    "        mask[i] = True  # Mark this frame as valid in the mask\n",
    "\n",
    "    return features, mask"
   ]
  },
  {
   "cell_type": "markdown",
   "metadata": {},
   "source": [
    "#### Video frames preprocessing and saving"
   ]
  },
  {
   "cell_type": "code",
   "execution_count": 25,
   "metadata": {},
   "outputs": [],
   "source": [
    "def load_and_process_batch(video_paths, dataset_type):\n",
    "    start_time = time.time()\n",
    "\n",
    "    features_list = []\n",
    "    masks_list = []\n",
    "\n",
    "    for video_path in video_paths:\n",
    "        frames = load_and_preprocess_video(video_path)\n",
    "        features, mask = create_video_features_and_mask(frames)\n",
    "\n",
    "        features_list.append(features)\n",
    "        masks_list.append(mask)\n",
    "\n",
    "    # Stack all features and masks for model input\n",
    "    features_batch = np.stack(features_list)\n",
    "    masks_batch = np.stack(masks_list)\n",
    "\n",
    "    elapsed = time.time() - start_time\n",
    "    print(f\"Processed {len(video_paths)} {dataset_type} videos in {elapsed:.2f}s\")\n",
    "\n",
    "    return features_batch, masks_batch"
   ]
  },
  {
   "cell_type": "markdown",
   "metadata": {},
   "source": [
    "Preprocess entire dataset and save to disk for faster future loading"
   ]
  },
  {
   "cell_type": "code",
   "execution_count": 26,
   "metadata": {},
   "outputs": [],
   "source": [
    "def preprocess_dataset(data_df, dataset_type):\n",
    "    # Process in smaller chunks to manage memory\n",
    "    CHUNK_SIZE = 64\n",
    "    \n",
    "    all_features = []\n",
    "    all_masks = []\n",
    "    all_labels = []\n",
    "    \n",
    "    for i in range(0, len(data_df), CHUNK_SIZE):\n",
    "        chunk_df = data_df.iloc[i:i + CHUNK_SIZE]\n",
    "        # labels = encode_labels(chunk_df[\"label\"])\n",
    "        # labels = label_processor(chunk_df[\"label\"].values[..., None])\n",
    "        labels = keras.ops.convert_to_numpy(label_processor(chunk_df[\"label\"].values[..., None]))\n",
    "        features, masks = load_and_process_batch(\n",
    "            video_paths=chunk_df[\"video_path\"].tolist(),\n",
    "            dataset_type=dataset_type\n",
    "        )\n",
    "        \n",
    "        all_features.append(features)\n",
    "        all_masks.append(masks)\n",
    "        all_labels.append(labels)\n",
    "    \n",
    "    # Combine all chunks\n",
    "    features = np.concatenate(all_features, axis=0)\n",
    "    masks = np.concatenate(all_masks, axis=0)\n",
    "    labels = np.concatenate(all_labels, axis=0)\n",
    "    \n",
    "    return features, masks, labels"
   ]
  },
  {
   "cell_type": "markdown",
   "metadata": {},
   "source": [
    "Save features and mask to disk"
   ]
  },
  {
   "cell_type": "code",
   "execution_count": 27,
   "metadata": {},
   "outputs": [],
   "source": [
    "def save_features_masks_and_labels(features, masks, labels, save_path, dataset_type):\n",
    "    np.savez_compressed(save_path, features=features, masks=masks, labels=labels)\n",
    "    print(f\"Saved {dataset_type} features, masks, and labels to {save_path}\")"
   ]
  },
  {
   "cell_type": "markdown",
   "metadata": {},
   "source": [
    "Load the dataset from a saved file if it exists, otherwise process it, save it, and load it."
   ]
  },
  {
   "cell_type": "code",
   "execution_count": 28,
   "metadata": {},
   "outputs": [],
   "source": [
    "def load_or_preprocess_dataset(data_df, save_path, dataset_type):\n",
    "    if os.path.exists(save_path):\n",
    "        print(f\"Loading dataset from {save_path}\")\n",
    "        data = np.load(save_path)\n",
    "        features, masks, labels = data[\"features\"], data[\"masks\"], data[\"labels\"]\n",
    "                    \n",
    "    else:\n",
    "        print(f\"Saved {dataset_type} dataset not found. Processing dataset...\")\n",
    "        features, masks, labels = preprocess_dataset(data_df, dataset_type)\n",
    "        save_features_masks_and_labels(features, masks, labels, save_path, dataset_type)\n",
    "        \n",
    "    return features, masks, labels"
   ]
  },
  {
   "cell_type": "markdown",
   "metadata": {},
   "source": [
    "### Load datafiles"
   ]
  },
  {
   "cell_type": "code",
   "execution_count": 29,
   "metadata": {},
   "outputs": [],
   "source": [
    "train_save_path = \"../data/preprocessed/train_features_masks_labels.npz\"\n",
    "val_save_path = \"../data/preprocessed/val_features_masks_labels.npz\"\n",
    "test_save_path = \"../data/preprocessed/test_features_masks_labels.npz\""
   ]
  },
  {
   "cell_type": "markdown",
   "metadata": {},
   "source": [
    "Extract the frame features, feature masks and labels for the `train` set"
   ]
  },
  {
   "cell_type": "code",
   "execution_count": 30,
   "metadata": {},
   "outputs": [
    {
     "name": "stdout",
     "output_type": "stream",
     "text": [
      "Loading dataset from ../data/preprocessed/train_features_masks_labels.npz\n"
     ]
    }
   ],
   "source": [
    "train_features, train_masks, train_labels = load_or_preprocess_dataset(train_df, train_save_path, \"Training\")"
   ]
  },
  {
   "cell_type": "markdown",
   "metadata": {},
   "source": [
    "Extract the frame features, feature masks and labels for the `validation` set"
   ]
  },
  {
   "cell_type": "code",
   "execution_count": 31,
   "metadata": {},
   "outputs": [
    {
     "name": "stdout",
     "output_type": "stream",
     "text": [
      "Loading dataset from ../data/preprocessed/val_features_masks_labels.npz\n"
     ]
    }
   ],
   "source": [
    "val_features, val_masks, val_labels = load_or_preprocess_dataset(val_df, val_save_path, \"Validation\")"
   ]
  },
  {
   "cell_type": "markdown",
   "metadata": {},
   "source": [
    "Extract the frame features, feature masks and labels for the `test` set"
   ]
  },
  {
   "cell_type": "code",
   "execution_count": 32,
   "metadata": {},
   "outputs": [
    {
     "name": "stdout",
     "output_type": "stream",
     "text": [
      "Loading dataset from ../data/preprocessed/test_features_masks_labels.npz\n"
     ]
    }
   ],
   "source": [
    "test_features, test_masks, test_labels = load_or_preprocess_dataset(test_df, test_save_path, \"Test\")"
   ]
  },
  {
   "cell_type": "markdown",
   "metadata": {},
   "source": [
    "Review dataset size"
   ]
  },
  {
   "cell_type": "code",
   "execution_count": 33,
   "metadata": {},
   "outputs": [
    {
     "name": "stdout",
     "output_type": "stream",
     "text": [
      "════════════════════ TRAIN SET ════════════════════\n",
      "\n",
      "Frame features in train set: (1128, 20, 2048) \n",
      "    → 1128 samples\n",
      "    → 20 frames per video\n",
      "    → 2048 features per frame\n",
      "\n",
      "Frame masks in train set: (1128, 20) \n",
      "    → 1128 samples\n",
      "    → 20 masks per video\n",
      "\n",
      "Labels in train set: (1128, 1) → 1128 samples\n",
      "\n",
      "════════════════════ VALIDATION SET ════════════════════\n",
      "\n",
      "Frame features in validation set: (189, 20, 2048)\n",
      "Frame masks in validation set: (189, 20)\n",
      "Labels in validation set: (189, 1) → 189 samples\n",
      "\n",
      "════════════════════ TEST SET ════════════════════\n",
      "\n",
      "Frame features in test set: (192, 20, 2048)\n",
      "Frame masks in test set: (192, 20)\n",
      "Labels in test set: (192, 1) → 192 samples\n",
      "\n",
      "All dataset sizes are consistent.\n"
     ]
    }
   ],
   "source": [
    "print(\"════════════════════ TRAIN SET ════════════════════\\n\")\n",
    "\n",
    "# Train set\n",
    "total_samples, frame_count, num_of_features = train_features.shape\n",
    "print(f\"\"\"Frame features in train set: {train_features.shape} \n",
    "    → {total_samples} samples\n",
    "    → {frame_count} frames per video\n",
    "    → {num_of_features} features per frame\n",
    "\"\"\")\n",
    "\n",
    "total_samples, mask_count = train_masks.shape\n",
    "print(f\"\"\"Frame masks in train set: {train_masks.shape} \n",
    "    → {total_samples} samples\n",
    "    → {mask_count} masks per video\n",
    "\"\"\")\n",
    "print(f\"Labels in train set: {train_labels.shape} → {train_labels.shape[0]} samples\\n\")\n",
    "\n",
    "print(\"════════════════════ VALIDATION SET ════════════════════\\n\")\n",
    "\n",
    "# Validation set\n",
    "print(f\"Frame features in validation set: {val_features.shape}\")\n",
    "print(f\"Frame masks in validation set: {val_masks.shape}\")\n",
    "print(f\"Labels in validation set: {val_labels.shape} → {val_labels.shape[0]} samples\\n\")\n",
    "\n",
    "print(\"════════════════════ TEST SET ════════════════════\\n\")\n",
    "\n",
    "# Test set\n",
    "print(f\"Frame features in test set: {test_features.shape}\")\n",
    "print(f\"Frame masks in test set: {test_masks.shape}\")\n",
    "print(f\"Labels in test set: {test_labels.shape} → {test_labels.shape[0]} samples\")\n",
    "\n",
    "# Check the size consistency\n",
    "assert train_features.shape[0] == train_masks.shape[0] == train_labels.shape[0], \"Inconsistent train dataset sizes\"\n",
    "assert val_features.shape[0] == val_masks.shape[0] == val_labels.shape[0], \"Inconsistent validation dataset sizes\"\n",
    "assert test_features.shape[0] == test_masks.shape[0] == test_labels.shape[0], \"Inconsistent test dataset sizes\"\n",
    "print(\"\\nAll dataset sizes are consistent.\")"
   ]
  },
  {
   "cell_type": "markdown",
   "metadata": {},
   "source": [
    "### Create Tensorflow datasets"
   ]
  },
  {
   "cell_type": "code",
   "execution_count": 34,
   "metadata": {},
   "outputs": [],
   "source": [
    "def create_tf_dataset(features, masks, labels, batch_size=32, dataset_type=None):\n",
    "    features_tensor = tf.convert_to_tensor(features, dtype=tf.float32)\n",
    "    masks_tensor = tf.convert_to_tensor(masks, dtype=tf.bool)\n",
    "    labels_tensor = tf.convert_to_tensor(labels, dtype=tf.float32)\n",
    "\n",
    "    dataset = tf.data.Dataset.from_tensor_slices(((features_tensor, masks_tensor), labels_tensor))\n",
    "\n",
    "    # Shuffle and batch the dataset\n",
    "    if dataset_type == \"Training\":\n",
    "        dataset = dataset.shuffle(buffer_size=len(features))\n",
    "    dataset = dataset.batch(batch_size)\n",
    "\n",
    "    # Prefetch for performance optimization\n",
    "    dataset = dataset.prefetch(buffer_size=tf.data.experimental.AUTOTUNE)\n",
    "\n",
    "    return dataset"
   ]
  },
  {
   "cell_type": "code",
   "execution_count": 62,
   "metadata": {},
   "outputs": [],
   "source": [
    "train_dataset = create_tf_dataset(train_features, train_masks, train_labels, batch_size=32, dataset_type=\"Training\")\n",
    "val_dataset = create_tf_dataset(val_features, val_masks, val_labels, batch_size=32, dataset_type=\"Validation\")\n",
    "test_dataset = create_tf_dataset(test_features, test_masks, test_labels, batch_size=32, dataset_type=\"Test\")"
   ]
  },
  {
   "cell_type": "markdown",
   "metadata": {},
   "source": [
    "## RNN GRU Model Architecture"
   ]
  },
  {
   "cell_type": "markdown",
   "metadata": {},
   "source": [
    "Recurrent Neural Network architecture with GRU (Gated Recurrent Unit) layers"
   ]
  },
  {
   "cell_type": "code",
   "execution_count": 63,
   "metadata": {},
   "outputs": [],
   "source": [
    "# def build_rnn_sequence_model():\n",
    "#     frame_features_input = keras.Input((MAX_SEQ_LENGTH, NUM_FEATURES))\n",
    "#     mask_input = keras.Input((MAX_SEQ_LENGTH,), dtype=\"bool\")\n",
    "\n",
    "#     x = keras.layers.Bidirectional(\n",
    "#         keras.layers.GRU(12, \n",
    "#                          return_sequences=True, \n",
    "#                          recurrent_dropout=0.3, \n",
    "#                          kernel_regularizer=keras.regularizers.L1(0.01),\n",
    "#                          activity_regularizer=keras.regularizers.L2(0.01))\n",
    "#     )(frame_features_input, mask=mask_input)\n",
    "\n",
    "#     x = keras.layers.GRU(8, \n",
    "#                          recurrent_dropout=0.4, \n",
    "#                          kernel_regularizer=keras.regularizers.L1(0.01),\n",
    "#                          activity_regularizer=keras.regularizers.L2(0.01))(x)\n",
    "#     x = keras.layers.Dropout(0.5)(x)\n",
    "\n",
    "#     x = keras.layers.Dense(32, \n",
    "#                            activation=\"relu\", \n",
    "#                            kernel_regularizer=keras.regularizers.L1(0.01),\n",
    "#                            activity_regularizer=keras.regularizers.L2(0.01))(x)\n",
    "#     x = keras.layers.BatchNormalization()(x)\n",
    "#     x = keras.layers.Dropout(0.4)(x)\n",
    "\n",
    "#     x = keras.layers.Dense(64, \n",
    "#                            activation=\"relu\", \n",
    "#                            kernel_regularizer=keras.regularizers.L1(0.01),\n",
    "#                            activity_regularizer=keras.regularizers.L2(0.01))(x)\n",
    "#     x = keras.layers.BatchNormalization()(x)\n",
    "#     x = keras.layers.Dropout(0.4)(x)\n",
    "\n",
    "#     output = keras.layers.Dense(len(class_vocab), activation=\"softmax\")(x)\n",
    "\n",
    "#     rnn_model = keras.Model([frame_features_input, mask_input], output, name=\"rnn_sequence_model\")\n",
    "\n",
    "#     adam_optimizer = keras.optimizers.Adam(learning_rate=LEARNING_RATE)\n",
    "    \n",
    "#     rnn_model.compile(\n",
    "#         loss=\"sparse_categorical_crossentropy\",\n",
    "#         optimizer=adam_optimizer,\n",
    "#         metrics=[\"accuracy\"],\n",
    "#     )\n",
    "\n",
    "#     return rnn_model"
   ]
  },
  {
   "cell_type": "code",
   "execution_count": 64,
   "metadata": {},
   "outputs": [],
   "source": [
    "def build_rnn_sequence_model():\n",
    "    frame_features_input = keras.Input((MAX_SEQ_LENGTH, NUM_FEATURES))\n",
    "    mask_input = keras.Input((MAX_SEQ_LENGTH,), dtype=\"bool\")\n",
    "\n",
    "    x = keras.layers.Bidirectional(\n",
    "        keras.layers.GRU(12, \n",
    "                         return_sequences=True, \n",
    "                         recurrent_dropout=0.3, \n",
    "                         kernel_regularizer=keras.regularizers.L1(0.01),\n",
    "                         activity_regularizer=keras.regularizers.L2(0.01))\n",
    "    )(frame_features_input, mask=mask_input)\n",
    "\n",
    "    x = keras.layers.GRU(8, \n",
    "                         recurrent_dropout=0.4, \n",
    "                         kernel_regularizer=keras.regularizers.L1(0.01),\n",
    "                         activity_regularizer=keras.regularizers.L2(0.01))(x)\n",
    "    x = keras.layers.Dropout(0.5)(x)\n",
    "\n",
    "    x = keras.layers.Dense(32, \n",
    "                           activation=\"relu\", \n",
    "                           kernel_regularizer=keras.regularizers.L1(0.01),\n",
    "                           activity_regularizer=keras.regularizers.L2(0.01))(x)\n",
    "    x = keras.layers.BatchNormalization()(x)\n",
    "    x = keras.layers.Dropout(0.4)(x)\n",
    "\n",
    "    x = keras.layers.Dense(64, \n",
    "                           activation=\"relu\", \n",
    "                           kernel_regularizer=keras.regularizers.L1(0.01),\n",
    "                           activity_regularizer=keras.regularizers.L2(0.01))(x)\n",
    "    x = keras.layers.BatchNormalization()(x)\n",
    "    x = keras.layers.Dropout(0.4)(x)\n",
    "\n",
    "    output = keras.layers.Dense(len(class_vocab), activation=\"softmax\")(x)\n",
    "\n",
    "    rnn_model = keras.Model([frame_features_input, mask_input], output)\n",
    "\n",
    "    adam_optimizer = keras.optimizers.Adam(learning_rate=LEARNING_RATE)\n",
    "    rnn_model.compile(\n",
    "        loss=\"sparse_categorical_crossentropy\", # Since the targets are integer-labeled\n",
    "        optimizer=adam_optimizer,\n",
    "        metrics=[\"accuracy\"],\n",
    "    )\n",
    "\n",
    "\n",
    "    return rnn_model"
   ]
  },
  {
   "cell_type": "markdown",
   "metadata": {},
   "source": [
    "Build the model"
   ]
  },
  {
   "cell_type": "code",
   "execution_count": 65,
   "metadata": {},
   "outputs": [
    {
     "data": {
      "text/html": [
       "<pre style=\"white-space:pre;overflow-x:auto;line-height:normal;font-family:Menlo,'DejaVu Sans Mono',consolas,'Courier New',monospace\"><span style=\"font-weight: bold\">Model: \"functional_1\"</span>\n",
       "</pre>\n"
      ],
      "text/plain": [
       "\u001b[1mModel: \"functional_1\"\u001b[0m\n"
      ]
     },
     "metadata": {},
     "output_type": "display_data"
    },
    {
     "data": {
      "text/html": [
       "<pre style=\"white-space:pre;overflow-x:auto;line-height:normal;font-family:Menlo,'DejaVu Sans Mono',consolas,'Courier New',monospace\">┏━━━━━━━━━━━━━━━━━━━━━┳━━━━━━━━━━━━━━━━━━━┳━━━━━━━━━━━━┳━━━━━━━━━━━━━━━━━━━┓\n",
       "┃<span style=\"font-weight: bold\"> Layer (type)        </span>┃<span style=\"font-weight: bold\"> Output Shape      </span>┃<span style=\"font-weight: bold\">    Param # </span>┃<span style=\"font-weight: bold\"> Connected to      </span>┃\n",
       "┡━━━━━━━━━━━━━━━━━━━━━╇━━━━━━━━━━━━━━━━━━━╇━━━━━━━━━━━━╇━━━━━━━━━━━━━━━━━━━┩\n",
       "│ input_layer_8       │ (<span style=\"color: #00d7ff; text-decoration-color: #00d7ff\">None</span>, <span style=\"color: #00af00; text-decoration-color: #00af00\">20</span>, <span style=\"color: #00af00; text-decoration-color: #00af00\">2048</span>)  │          <span style=\"color: #00af00; text-decoration-color: #00af00\">0</span> │ -                 │\n",
       "│ (<span style=\"color: #0087ff; text-decoration-color: #0087ff\">InputLayer</span>)        │                   │            │                   │\n",
       "├─────────────────────┼───────────────────┼────────────┼───────────────────┤\n",
       "│ input_layer_9       │ (<span style=\"color: #00d7ff; text-decoration-color: #00d7ff\">None</span>, <span style=\"color: #00af00; text-decoration-color: #00af00\">20</span>)        │          <span style=\"color: #00af00; text-decoration-color: #00af00\">0</span> │ -                 │\n",
       "│ (<span style=\"color: #0087ff; text-decoration-color: #0087ff\">InputLayer</span>)        │                   │            │                   │\n",
       "├─────────────────────┼───────────────────┼────────────┼───────────────────┤\n",
       "│ bidirectional_3     │ (<span style=\"color: #00d7ff; text-decoration-color: #00d7ff\">None</span>, <span style=\"color: #00af00; text-decoration-color: #00af00\">20</span>, <span style=\"color: #00af00; text-decoration-color: #00af00\">24</span>)    │    <span style=\"color: #00af00; text-decoration-color: #00af00\">148,464</span> │ input_layer_8[<span style=\"color: #00af00; text-decoration-color: #00af00\">0</span>]… │\n",
       "│ (<span style=\"color: #0087ff; text-decoration-color: #0087ff\">Bidirectional</span>)     │                   │            │ input_layer_9[<span style=\"color: #00af00; text-decoration-color: #00af00\">0</span>]… │\n",
       "├─────────────────────┼───────────────────┼────────────┼───────────────────┤\n",
       "│ gru_7 (<span style=\"color: #0087ff; text-decoration-color: #0087ff\">GRU</span>)         │ (<span style=\"color: #00d7ff; text-decoration-color: #00d7ff\">None</span>, <span style=\"color: #00af00; text-decoration-color: #00af00\">8</span>)         │        <span style=\"color: #00af00; text-decoration-color: #00af00\">816</span> │ bidirectional_3[<span style=\"color: #00af00; text-decoration-color: #00af00\">…</span> │\n",
       "├─────────────────────┼───────────────────┼────────────┼───────────────────┤\n",
       "│ dropout_9 (<span style=\"color: #0087ff; text-decoration-color: #0087ff\">Dropout</span>) │ (<span style=\"color: #00d7ff; text-decoration-color: #00d7ff\">None</span>, <span style=\"color: #00af00; text-decoration-color: #00af00\">8</span>)         │          <span style=\"color: #00af00; text-decoration-color: #00af00\">0</span> │ gru_7[<span style=\"color: #00af00; text-decoration-color: #00af00\">0</span>][<span style=\"color: #00af00; text-decoration-color: #00af00\">0</span>]       │\n",
       "├─────────────────────┼───────────────────┼────────────┼───────────────────┤\n",
       "│ dense_9 (<span style=\"color: #0087ff; text-decoration-color: #0087ff\">Dense</span>)     │ (<span style=\"color: #00d7ff; text-decoration-color: #00d7ff\">None</span>, <span style=\"color: #00af00; text-decoration-color: #00af00\">32</span>)        │        <span style=\"color: #00af00; text-decoration-color: #00af00\">288</span> │ dropout_9[<span style=\"color: #00af00; text-decoration-color: #00af00\">0</span>][<span style=\"color: #00af00; text-decoration-color: #00af00\">0</span>]   │\n",
       "├─────────────────────┼───────────────────┼────────────┼───────────────────┤\n",
       "│ batch_normalizatio… │ (<span style=\"color: #00d7ff; text-decoration-color: #00d7ff\">None</span>, <span style=\"color: #00af00; text-decoration-color: #00af00\">32</span>)        │        <span style=\"color: #00af00; text-decoration-color: #00af00\">128</span> │ dense_9[<span style=\"color: #00af00; text-decoration-color: #00af00\">0</span>][<span style=\"color: #00af00; text-decoration-color: #00af00\">0</span>]     │\n",
       "│ (<span style=\"color: #0087ff; text-decoration-color: #0087ff\">BatchNormalizatio…</span> │                   │            │                   │\n",
       "├─────────────────────┼───────────────────┼────────────┼───────────────────┤\n",
       "│ dropout_10          │ (<span style=\"color: #00d7ff; text-decoration-color: #00d7ff\">None</span>, <span style=\"color: #00af00; text-decoration-color: #00af00\">32</span>)        │          <span style=\"color: #00af00; text-decoration-color: #00af00\">0</span> │ batch_normalizat… │\n",
       "│ (<span style=\"color: #0087ff; text-decoration-color: #0087ff\">Dropout</span>)           │                   │            │                   │\n",
       "├─────────────────────┼───────────────────┼────────────┼───────────────────┤\n",
       "│ dense_10 (<span style=\"color: #0087ff; text-decoration-color: #0087ff\">Dense</span>)    │ (<span style=\"color: #00d7ff; text-decoration-color: #00d7ff\">None</span>, <span style=\"color: #00af00; text-decoration-color: #00af00\">64</span>)        │      <span style=\"color: #00af00; text-decoration-color: #00af00\">2,112</span> │ dropout_10[<span style=\"color: #00af00; text-decoration-color: #00af00\">0</span>][<span style=\"color: #00af00; text-decoration-color: #00af00\">0</span>]  │\n",
       "├─────────────────────┼───────────────────┼────────────┼───────────────────┤\n",
       "│ batch_normalizatio… │ (<span style=\"color: #00d7ff; text-decoration-color: #00d7ff\">None</span>, <span style=\"color: #00af00; text-decoration-color: #00af00\">64</span>)        │        <span style=\"color: #00af00; text-decoration-color: #00af00\">256</span> │ dense_10[<span style=\"color: #00af00; text-decoration-color: #00af00\">0</span>][<span style=\"color: #00af00; text-decoration-color: #00af00\">0</span>]    │\n",
       "│ (<span style=\"color: #0087ff; text-decoration-color: #0087ff\">BatchNormalizatio…</span> │                   │            │                   │\n",
       "├─────────────────────┼───────────────────┼────────────┼───────────────────┤\n",
       "│ dropout_11          │ (<span style=\"color: #00d7ff; text-decoration-color: #00d7ff\">None</span>, <span style=\"color: #00af00; text-decoration-color: #00af00\">64</span>)        │          <span style=\"color: #00af00; text-decoration-color: #00af00\">0</span> │ batch_normalizat… │\n",
       "│ (<span style=\"color: #0087ff; text-decoration-color: #0087ff\">Dropout</span>)           │                   │            │                   │\n",
       "├─────────────────────┼───────────────────┼────────────┼───────────────────┤\n",
       "│ dense_11 (<span style=\"color: #0087ff; text-decoration-color: #0087ff\">Dense</span>)    │ (<span style=\"color: #00d7ff; text-decoration-color: #00d7ff\">None</span>, <span style=\"color: #00af00; text-decoration-color: #00af00\">10</span>)        │        <span style=\"color: #00af00; text-decoration-color: #00af00\">650</span> │ dropout_11[<span style=\"color: #00af00; text-decoration-color: #00af00\">0</span>][<span style=\"color: #00af00; text-decoration-color: #00af00\">0</span>]  │\n",
       "└─────────────────────┴───────────────────┴────────────┴───────────────────┘\n",
       "</pre>\n"
      ],
      "text/plain": [
       "┏━━━━━━━━━━━━━━━━━━━━━┳━━━━━━━━━━━━━━━━━━━┳━━━━━━━━━━━━┳━━━━━━━━━━━━━━━━━━━┓\n",
       "┃\u001b[1m \u001b[0m\u001b[1mLayer (type)       \u001b[0m\u001b[1m \u001b[0m┃\u001b[1m \u001b[0m\u001b[1mOutput Shape     \u001b[0m\u001b[1m \u001b[0m┃\u001b[1m \u001b[0m\u001b[1m   Param #\u001b[0m\u001b[1m \u001b[0m┃\u001b[1m \u001b[0m\u001b[1mConnected to     \u001b[0m\u001b[1m \u001b[0m┃\n",
       "┡━━━━━━━━━━━━━━━━━━━━━╇━━━━━━━━━━━━━━━━━━━╇━━━━━━━━━━━━╇━━━━━━━━━━━━━━━━━━━┩\n",
       "│ input_layer_8       │ (\u001b[38;5;45mNone\u001b[0m, \u001b[38;5;34m20\u001b[0m, \u001b[38;5;34m2048\u001b[0m)  │          \u001b[38;5;34m0\u001b[0m │ -                 │\n",
       "│ (\u001b[38;5;33mInputLayer\u001b[0m)        │                   │            │                   │\n",
       "├─────────────────────┼───────────────────┼────────────┼───────────────────┤\n",
       "│ input_layer_9       │ (\u001b[38;5;45mNone\u001b[0m, \u001b[38;5;34m20\u001b[0m)        │          \u001b[38;5;34m0\u001b[0m │ -                 │\n",
       "│ (\u001b[38;5;33mInputLayer\u001b[0m)        │                   │            │                   │\n",
       "├─────────────────────┼───────────────────┼────────────┼───────────────────┤\n",
       "│ bidirectional_3     │ (\u001b[38;5;45mNone\u001b[0m, \u001b[38;5;34m20\u001b[0m, \u001b[38;5;34m24\u001b[0m)    │    \u001b[38;5;34m148,464\u001b[0m │ input_layer_8[\u001b[38;5;34m0\u001b[0m]… │\n",
       "│ (\u001b[38;5;33mBidirectional\u001b[0m)     │                   │            │ input_layer_9[\u001b[38;5;34m0\u001b[0m]… │\n",
       "├─────────────────────┼───────────────────┼────────────┼───────────────────┤\n",
       "│ gru_7 (\u001b[38;5;33mGRU\u001b[0m)         │ (\u001b[38;5;45mNone\u001b[0m, \u001b[38;5;34m8\u001b[0m)         │        \u001b[38;5;34m816\u001b[0m │ bidirectional_3[\u001b[38;5;34m…\u001b[0m │\n",
       "├─────────────────────┼───────────────────┼────────────┼───────────────────┤\n",
       "│ dropout_9 (\u001b[38;5;33mDropout\u001b[0m) │ (\u001b[38;5;45mNone\u001b[0m, \u001b[38;5;34m8\u001b[0m)         │          \u001b[38;5;34m0\u001b[0m │ gru_7[\u001b[38;5;34m0\u001b[0m][\u001b[38;5;34m0\u001b[0m]       │\n",
       "├─────────────────────┼───────────────────┼────────────┼───────────────────┤\n",
       "│ dense_9 (\u001b[38;5;33mDense\u001b[0m)     │ (\u001b[38;5;45mNone\u001b[0m, \u001b[38;5;34m32\u001b[0m)        │        \u001b[38;5;34m288\u001b[0m │ dropout_9[\u001b[38;5;34m0\u001b[0m][\u001b[38;5;34m0\u001b[0m]   │\n",
       "├─────────────────────┼───────────────────┼────────────┼───────────────────┤\n",
       "│ batch_normalizatio… │ (\u001b[38;5;45mNone\u001b[0m, \u001b[38;5;34m32\u001b[0m)        │        \u001b[38;5;34m128\u001b[0m │ dense_9[\u001b[38;5;34m0\u001b[0m][\u001b[38;5;34m0\u001b[0m]     │\n",
       "│ (\u001b[38;5;33mBatchNormalizatio…\u001b[0m │                   │            │                   │\n",
       "├─────────────────────┼───────────────────┼────────────┼───────────────────┤\n",
       "│ dropout_10          │ (\u001b[38;5;45mNone\u001b[0m, \u001b[38;5;34m32\u001b[0m)        │          \u001b[38;5;34m0\u001b[0m │ batch_normalizat… │\n",
       "│ (\u001b[38;5;33mDropout\u001b[0m)           │                   │            │                   │\n",
       "├─────────────────────┼───────────────────┼────────────┼───────────────────┤\n",
       "│ dense_10 (\u001b[38;5;33mDense\u001b[0m)    │ (\u001b[38;5;45mNone\u001b[0m, \u001b[38;5;34m64\u001b[0m)        │      \u001b[38;5;34m2,112\u001b[0m │ dropout_10[\u001b[38;5;34m0\u001b[0m][\u001b[38;5;34m0\u001b[0m]  │\n",
       "├─────────────────────┼───────────────────┼────────────┼───────────────────┤\n",
       "│ batch_normalizatio… │ (\u001b[38;5;45mNone\u001b[0m, \u001b[38;5;34m64\u001b[0m)        │        \u001b[38;5;34m256\u001b[0m │ dense_10[\u001b[38;5;34m0\u001b[0m][\u001b[38;5;34m0\u001b[0m]    │\n",
       "│ (\u001b[38;5;33mBatchNormalizatio…\u001b[0m │                   │            │                   │\n",
       "├─────────────────────┼───────────────────┼────────────┼───────────────────┤\n",
       "│ dropout_11          │ (\u001b[38;5;45mNone\u001b[0m, \u001b[38;5;34m64\u001b[0m)        │          \u001b[38;5;34m0\u001b[0m │ batch_normalizat… │\n",
       "│ (\u001b[38;5;33mDropout\u001b[0m)           │                   │            │                   │\n",
       "├─────────────────────┼───────────────────┼────────────┼───────────────────┤\n",
       "│ dense_11 (\u001b[38;5;33mDense\u001b[0m)    │ (\u001b[38;5;45mNone\u001b[0m, \u001b[38;5;34m10\u001b[0m)        │        \u001b[38;5;34m650\u001b[0m │ dropout_11[\u001b[38;5;34m0\u001b[0m][\u001b[38;5;34m0\u001b[0m]  │\n",
       "└─────────────────────┴───────────────────┴────────────┴───────────────────┘\n"
      ]
     },
     "metadata": {},
     "output_type": "display_data"
    },
    {
     "data": {
      "text/html": [
       "<pre style=\"white-space:pre;overflow-x:auto;line-height:normal;font-family:Menlo,'DejaVu Sans Mono',consolas,'Courier New',monospace\"><span style=\"font-weight: bold\"> Total params: </span><span style=\"color: #00af00; text-decoration-color: #00af00\">152,714</span> (596.54 KB)\n",
       "</pre>\n"
      ],
      "text/plain": [
       "\u001b[1m Total params: \u001b[0m\u001b[38;5;34m152,714\u001b[0m (596.54 KB)\n"
      ]
     },
     "metadata": {},
     "output_type": "display_data"
    },
    {
     "data": {
      "text/html": [
       "<pre style=\"white-space:pre;overflow-x:auto;line-height:normal;font-family:Menlo,'DejaVu Sans Mono',consolas,'Courier New',monospace\"><span style=\"font-weight: bold\"> Trainable params: </span><span style=\"color: #00af00; text-decoration-color: #00af00\">152,522</span> (595.79 KB)\n",
       "</pre>\n"
      ],
      "text/plain": [
       "\u001b[1m Trainable params: \u001b[0m\u001b[38;5;34m152,522\u001b[0m (595.79 KB)\n"
      ]
     },
     "metadata": {},
     "output_type": "display_data"
    },
    {
     "data": {
      "text/html": [
       "<pre style=\"white-space:pre;overflow-x:auto;line-height:normal;font-family:Menlo,'DejaVu Sans Mono',consolas,'Courier New',monospace\"><span style=\"font-weight: bold\"> Non-trainable params: </span><span style=\"color: #00af00; text-decoration-color: #00af00\">192</span> (768.00 B)\n",
       "</pre>\n"
      ],
      "text/plain": [
       "\u001b[1m Non-trainable params: \u001b[0m\u001b[38;5;34m192\u001b[0m (768.00 B)\n"
      ]
     },
     "metadata": {},
     "output_type": "display_data"
    }
   ],
   "source": [
    "rnn_seq_model = build_rnn_sequence_model()\n",
    "rnn_seq_model.summary()"
   ]
  },
  {
   "cell_type": "markdown",
   "metadata": {},
   "source": [
    "## Model Training"
   ]
  },
  {
   "cell_type": "code",
   "execution_count": 66,
   "metadata": {},
   "outputs": [],
   "source": [
    "def get_new_model_version():\n",
    "    model_version = 1\n",
    "    while os.path.exists(f\"{MODEL_BASE_PATH}/v_{model_version}\"):\n",
    "        model_version += 1\n",
    "    return model_version"
   ]
  },
  {
   "cell_type": "code",
   "execution_count": 67,
   "metadata": {},
   "outputs": [],
   "source": [
    "def get_model_version_path():\n",
    "    model_version = get_new_model_version()\n",
    "    model_version_path = f\"{MODEL_BASE_PATH}/v_{model_version}\"\n",
    "\n",
    "    return model_version_path"
   ]
  },
  {
   "cell_type": "code",
   "execution_count": 68,
   "metadata": {},
   "outputs": [],
   "source": [
    "def get_model_path(model_version_path):\n",
    "    model_path = os.path.join(model_version_path, f\"{MODEL_NAME}.keras\")\n",
    "    \n",
    "    return model_path"
   ]
  },
  {
   "cell_type": "markdown",
   "metadata": {},
   "source": [
    "Utility to run the experiment"
   ]
  },
  {
   "cell_type": "code",
   "execution_count": 69,
   "metadata": {},
   "outputs": [],
   "source": [
    "def train_model(model, model_path):\n",
    "    checkpoint = ModelCheckpoint(\n",
    "        model_path,\n",
    "        monitor=\"val_loss\",\n",
    "        mode=\"min\",  # Save the model when the loss decreases (when model improves)\n",
    "        save_weights_only=False,\n",
    "        save_best_only=True,\n",
    "        verbose=1,\n",
    "    )\n",
    "    # TODO: Experiment with accuracy increase\n",
    "\n",
    "    # early_stopping = EarlyStopping(\n",
    "    #     monitor=\"val_loss\",\n",
    "    #     patience=5,\n",
    "    #     min_delta=0.001,\n",
    "    #     restore_best_weights=True,\n",
    "    #     verbose=1,\n",
    "    # )\n",
    "\n",
    "    history = model.fit(\n",
    "        train_dataset,\n",
    "        validation_data=val_dataset,\n",
    "        epochs=EPOCHS,\n",
    "        callbacks=[checkpoint],\n",
    "    )\n",
    "\n",
    "    return model, history"
   ]
  },
  {
   "cell_type": "markdown",
   "metadata": {},
   "source": [
    "Run the experiment"
   ]
  },
  {
   "cell_type": "code",
   "execution_count": 70,
   "metadata": {
    "trusted": true
   },
   "outputs": [
    {
     "name": "stdout",
     "output_type": "stream",
     "text": [
      "Epoch 1/100\n",
      "\u001b[1m33/36\u001b[0m \u001b[32m━━━━━━━━━━━━━━━━━━\u001b[0m\u001b[37m━━\u001b[0m \u001b[1m0s\u001b[0m 14ms/step - accuracy: 0.1189 - loss: 57.8082\n",
      "Epoch 1: val_loss improved from inf to 43.69559, saving model to ../models/cnn_rnn_ucf101_10c_tl/v_4/cnn_rnn_ucf101_10c_tl.keras\n",
      "\u001b[1m36/36\u001b[0m \u001b[32m━━━━━━━━━━━━━━━━━━━━\u001b[0m\u001b[37m\u001b[0m \u001b[1m4s\u001b[0m 24ms/step - accuracy: 0.1178 - loss: 57.3676 - val_accuracy: 0.1746 - val_loss: 43.6956\n",
      "Epoch 2/100\n",
      "\u001b[1m32/36\u001b[0m \u001b[32m━━━━━━━━━━━━━━━━━\u001b[0m\u001b[37m━━━\u001b[0m \u001b[1m0s\u001b[0m 15ms/step - accuracy: 0.1106 - loss: 47.5459\n",
      "Epoch 2: val_loss improved from 43.69559 to 40.34249, saving model to ../models/cnn_rnn_ucf101_10c_tl/v_4/cnn_rnn_ucf101_10c_tl.keras\n",
      "\u001b[1m36/36\u001b[0m \u001b[32m━━━━━━━━━━━━━━━━━━━━\u001b[0m\u001b[37m\u001b[0m \u001b[1m1s\u001b[0m 16ms/step - accuracy: 0.1090 - loss: 47.3994 - val_accuracy: 0.1746 - val_loss: 40.3425\n",
      "Epoch 3/100\n",
      "\u001b[1m36/36\u001b[0m \u001b[32m━━━━━━━━━━━━━━━━━━━━\u001b[0m\u001b[37m\u001b[0m \u001b[1m0s\u001b[0m 18ms/step - accuracy: 0.0970 - loss: 43.2605\n",
      "Epoch 3: val_loss improved from 40.34249 to 37.20021, saving model to ../models/cnn_rnn_ucf101_10c_tl/v_4/cnn_rnn_ucf101_10c_tl.keras\n",
      "\u001b[1m36/36\u001b[0m \u001b[32m━━━━━━━━━━━━━━━━━━━━\u001b[0m\u001b[37m\u001b[0m \u001b[1m1s\u001b[0m 19ms/step - accuracy: 0.0972 - loss: 43.2333 - val_accuracy: 0.1746 - val_loss: 37.2002\n",
      "Epoch 4/100\n",
      "\u001b[1m34/36\u001b[0m \u001b[32m━━━━━━━━━━━━━━━━━━\u001b[0m\u001b[37m━━\u001b[0m \u001b[1m0s\u001b[0m 19ms/step - accuracy: 0.1278 - loss: 39.7396\n",
      "Epoch 4: val_loss improved from 37.20021 to 34.36507, saving model to ../models/cnn_rnn_ucf101_10c_tl/v_4/cnn_rnn_ucf101_10c_tl.keras\n",
      "\u001b[1m36/36\u001b[0m \u001b[32m━━━━━━━━━━━━━━━━━━━━\u001b[0m\u001b[37m\u001b[0m \u001b[1m1s\u001b[0m 20ms/step - accuracy: 0.1262 - loss: 39.6634 - val_accuracy: 0.1746 - val_loss: 34.3651\n",
      "Epoch 5/100\n",
      "\u001b[1m36/36\u001b[0m \u001b[32m━━━━━━━━━━━━━━━━━━━━\u001b[0m\u001b[37m\u001b[0m \u001b[1m0s\u001b[0m 20ms/step - accuracy: 0.1206 - loss: 36.2343\n",
      "Epoch 5: val_loss improved from 34.36507 to 31.67851, saving model to ../models/cnn_rnn_ucf101_10c_tl/v_4/cnn_rnn_ucf101_10c_tl.keras\n",
      "\u001b[1m36/36\u001b[0m \u001b[32m━━━━━━━━━━━━━━━━━━━━\u001b[0m\u001b[37m\u001b[0m \u001b[1m1s\u001b[0m 21ms/step - accuracy: 0.1204 - loss: 36.2119 - val_accuracy: 0.1746 - val_loss: 31.6785\n",
      "Epoch 6/100\n",
      "\u001b[1m36/36\u001b[0m \u001b[32m━━━━━━━━━━━━━━━━━━━━\u001b[0m\u001b[37m\u001b[0m \u001b[1m0s\u001b[0m 20ms/step - accuracy: 0.1135 - loss: 33.1830\n",
      "Epoch 6: val_loss improved from 31.67851 to 29.26772, saving model to ../models/cnn_rnn_ucf101_10c_tl/v_4/cnn_rnn_ucf101_10c_tl.keras\n",
      "\u001b[1m36/36\u001b[0m \u001b[32m━━━━━━━━━━━━━━━━━━━━\u001b[0m\u001b[37m\u001b[0m \u001b[1m1s\u001b[0m 22ms/step - accuracy: 0.1137 - loss: 33.1626 - val_accuracy: 0.1746 - val_loss: 29.2677\n",
      "Epoch 7/100\n",
      "\u001b[1m34/36\u001b[0m \u001b[32m━━━━━━━━━━━━━━━━━━\u001b[0m\u001b[37m━━\u001b[0m \u001b[1m0s\u001b[0m 21ms/step - accuracy: 0.1075 - loss: 30.4800\n",
      "Epoch 7: val_loss improved from 29.26772 to 27.07076, saving model to ../models/cnn_rnn_ucf101_10c_tl/v_4/cnn_rnn_ucf101_10c_tl.keras\n",
      "\u001b[1m36/36\u001b[0m \u001b[32m━━━━━━━━━━━━━━━━━━━━\u001b[0m\u001b[37m\u001b[0m \u001b[1m1s\u001b[0m 23ms/step - accuracy: 0.1075 - loss: 30.4318 - val_accuracy: 0.1746 - val_loss: 27.0708\n",
      "Epoch 8/100\n",
      "\u001b[1m35/36\u001b[0m \u001b[32m━━━━━━━━━━━━━━━━━━━\u001b[0m\u001b[37m━\u001b[0m \u001b[1m0s\u001b[0m 21ms/step - accuracy: 0.1192 - loss: 28.1858\n",
      "Epoch 8: val_loss improved from 27.07076 to 25.08435, saving model to ../models/cnn_rnn_ucf101_10c_tl/v_4/cnn_rnn_ucf101_10c_tl.keras\n",
      "\u001b[1m36/36\u001b[0m \u001b[32m━━━━━━━━━━━━━━━━━━━━\u001b[0m\u001b[37m\u001b[0m \u001b[1m1s\u001b[0m 22ms/step - accuracy: 0.1190 - loss: 28.1486 - val_accuracy: 0.1746 - val_loss: 25.0843\n",
      "Epoch 9/100\n",
      "\u001b[1m34/36\u001b[0m \u001b[32m━━━━━━━━━━━━━━━━━━\u001b[0m\u001b[37m━━\u001b[0m \u001b[1m0s\u001b[0m 23ms/step - accuracy: 0.1186 - loss: 26.1338\n",
      "Epoch 9: val_loss improved from 25.08435 to 23.32152, saving model to ../models/cnn_rnn_ucf101_10c_tl/v_4/cnn_rnn_ucf101_10c_tl.keras\n",
      "\u001b[1m36/36\u001b[0m \u001b[32m━━━━━━━━━━━━━━━━━━━━\u001b[0m\u001b[37m\u001b[0m \u001b[1m1s\u001b[0m 24ms/step - accuracy: 0.1188 - loss: 26.0925 - val_accuracy: 0.1746 - val_loss: 23.3215\n",
      "Epoch 10/100\n",
      "\u001b[1m34/36\u001b[0m \u001b[32m━━━━━━━━━━━━━━━━━━\u001b[0m\u001b[37m━━\u001b[0m \u001b[1m0s\u001b[0m 18ms/step - accuracy: 0.1275 - loss: 24.6976\n",
      "Epoch 10: val_loss improved from 23.32152 to 21.77481, saving model to ../models/cnn_rnn_ucf101_10c_tl/v_4/cnn_rnn_ucf101_10c_tl.keras\n",
      "\u001b[1m36/36\u001b[0m \u001b[32m━━━━━━━━━━━━━━━━━━━━\u001b[0m\u001b[37m\u001b[0m \u001b[1m1s\u001b[0m 19ms/step - accuracy: 0.1270 - loss: 24.6408 - val_accuracy: 0.1746 - val_loss: 21.7748\n",
      "Epoch 11/100\n",
      "\u001b[1m34/36\u001b[0m \u001b[32m━━━━━━━━━━━━━━━━━━\u001b[0m\u001b[37m━━\u001b[0m \u001b[1m0s\u001b[0m 19ms/step - accuracy: 0.1165 - loss: 22.4071\n",
      "Epoch 11: val_loss improved from 21.77481 to 20.42614, saving model to ../models/cnn_rnn_ucf101_10c_tl/v_4/cnn_rnn_ucf101_10c_tl.keras\n",
      "\u001b[1m36/36\u001b[0m \u001b[32m━━━━━━━━━━━━━━━━━━━━\u001b[0m\u001b[37m\u001b[0m \u001b[1m1s\u001b[0m 20ms/step - accuracy: 0.1160 - loss: 22.3851 - val_accuracy: 0.1746 - val_loss: 20.4261\n",
      "Epoch 12/100\n",
      "\u001b[1m36/36\u001b[0m \u001b[32m━━━━━━━━━━━━━━━━━━━━\u001b[0m\u001b[37m\u001b[0m \u001b[1m0s\u001b[0m 19ms/step - accuracy: 0.1081 - loss: 21.1712\n",
      "Epoch 12: val_loss improved from 20.42614 to 19.28803, saving model to ../models/cnn_rnn_ucf101_10c_tl/v_4/cnn_rnn_ucf101_10c_tl.keras\n",
      "\u001b[1m36/36\u001b[0m \u001b[32m━━━━━━━━━━━━━━━━━━━━\u001b[0m\u001b[37m\u001b[0m \u001b[1m1s\u001b[0m 20ms/step - accuracy: 0.1080 - loss: 21.1619 - val_accuracy: 0.1746 - val_loss: 19.2880\n",
      "Epoch 13/100\n",
      "\u001b[1m34/36\u001b[0m \u001b[32m━━━━━━━━━━━━━━━━━━\u001b[0m\u001b[37m━━\u001b[0m \u001b[1m0s\u001b[0m 19ms/step - accuracy: 0.1416 - loss: 19.8029\n",
      "Epoch 13: val_loss improved from 19.28803 to 18.36661, saving model to ../models/cnn_rnn_ucf101_10c_tl/v_4/cnn_rnn_ucf101_10c_tl.keras\n",
      "\u001b[1m36/36\u001b[0m \u001b[32m━━━━━━━━━━━━━━━━━━━━\u001b[0m\u001b[37m\u001b[0m \u001b[1m1s\u001b[0m 20ms/step - accuracy: 0.1410 - loss: 19.7885 - val_accuracy: 0.1746 - val_loss: 18.3666\n",
      "Epoch 14/100\n",
      "\u001b[1m34/36\u001b[0m \u001b[32m━━━━━━━━━━━━━━━━━━\u001b[0m\u001b[37m━━\u001b[0m \u001b[1m0s\u001b[0m 19ms/step - accuracy: 0.1032 - loss: 19.0573\n",
      "Epoch 14: val_loss improved from 18.36661 to 17.65120, saving model to ../models/cnn_rnn_ucf101_10c_tl/v_4/cnn_rnn_ucf101_10c_tl.keras\n",
      "\u001b[1m36/36\u001b[0m \u001b[32m━━━━━━━━━━━━━━━━━━━━\u001b[0m\u001b[37m\u001b[0m \u001b[1m1s\u001b[0m 20ms/step - accuracy: 0.1044 - loss: 19.0355 - val_accuracy: 0.1693 - val_loss: 17.6512\n",
      "Epoch 15/100\n",
      "\u001b[1m34/36\u001b[0m \u001b[32m━━━━━━━━━━━━━━━━━━\u001b[0m\u001b[37m━━\u001b[0m \u001b[1m0s\u001b[0m 19ms/step - accuracy: 0.1006 - loss: 18.4796\n",
      "Epoch 15: val_loss improved from 17.65120 to 17.16811, saving model to ../models/cnn_rnn_ucf101_10c_tl/v_4/cnn_rnn_ucf101_10c_tl.keras\n",
      "\u001b[1m36/36\u001b[0m \u001b[32m━━━━━━━━━━━━━━━━━━━━\u001b[0m\u001b[37m\u001b[0m \u001b[1m1s\u001b[0m 20ms/step - accuracy: 0.1014 - loss: 18.4659 - val_accuracy: 0.1746 - val_loss: 17.1681\n",
      "Epoch 16/100\n",
      "\u001b[1m36/36\u001b[0m \u001b[32m━━━━━━━━━━━━━━━━━━━━\u001b[0m\u001b[37m\u001b[0m \u001b[1m0s\u001b[0m 20ms/step - accuracy: 0.1465 - loss: 17.7370\n",
      "Epoch 16: val_loss improved from 17.16811 to 16.81087, saving model to ../models/cnn_rnn_ucf101_10c_tl/v_4/cnn_rnn_ucf101_10c_tl.keras\n",
      "\u001b[1m36/36\u001b[0m \u001b[32m━━━━━━━━━━━━━━━━━━━━\u001b[0m\u001b[37m\u001b[0m \u001b[1m1s\u001b[0m 21ms/step - accuracy: 0.1459 - loss: 17.7342 - val_accuracy: 0.1746 - val_loss: 16.8109\n",
      "Epoch 17/100\n",
      "\u001b[1m34/36\u001b[0m \u001b[32m━━━━━━━━━━━━━━━━━━\u001b[0m\u001b[37m━━\u001b[0m \u001b[1m0s\u001b[0m 19ms/step - accuracy: 0.1215 - loss: 17.4150\n",
      "Epoch 17: val_loss improved from 16.81087 to 16.51571, saving model to ../models/cnn_rnn_ucf101_10c_tl/v_4/cnn_rnn_ucf101_10c_tl.keras\n",
      "\u001b[1m36/36\u001b[0m \u001b[32m━━━━━━━━━━━━━━━━━━━━\u001b[0m\u001b[37m\u001b[0m \u001b[1m1s\u001b[0m 20ms/step - accuracy: 0.1215 - loss: 17.4098 - val_accuracy: 0.1693 - val_loss: 16.5157\n",
      "Epoch 18/100\n",
      "\u001b[1m34/36\u001b[0m \u001b[32m━━━━━━━━━━━━━━━━━━\u001b[0m\u001b[37m━━\u001b[0m \u001b[1m0s\u001b[0m 20ms/step - accuracy: 0.1211 - loss: 16.9944\n",
      "Epoch 18: val_loss improved from 16.51571 to 16.26861, saving model to ../models/cnn_rnn_ucf101_10c_tl/v_4/cnn_rnn_ucf101_10c_tl.keras\n",
      "\u001b[1m36/36\u001b[0m \u001b[32m━━━━━━━━━━━━━━━━━━━━\u001b[0m\u001b[37m\u001b[0m \u001b[1m1s\u001b[0m 21ms/step - accuracy: 0.1220 - loss: 16.9811 - val_accuracy: 0.1746 - val_loss: 16.2686\n",
      "Epoch 19/100\n",
      "\u001b[1m34/36\u001b[0m \u001b[32m━━━━━━━━━━━━━━━━━━\u001b[0m\u001b[37m━━\u001b[0m \u001b[1m0s\u001b[0m 20ms/step - accuracy: 0.1405 - loss: 16.7033\n",
      "Epoch 19: val_loss improved from 16.26861 to 16.04110, saving model to ../models/cnn_rnn_ucf101_10c_tl/v_4/cnn_rnn_ucf101_10c_tl.keras\n",
      "\u001b[1m36/36\u001b[0m \u001b[32m━━━━━━━━━━━━━━━━━━━━\u001b[0m\u001b[37m\u001b[0m \u001b[1m1s\u001b[0m 22ms/step - accuracy: 0.1402 - loss: 16.6999 - val_accuracy: 0.1746 - val_loss: 16.0411\n",
      "Epoch 20/100\n",
      "\u001b[1m35/36\u001b[0m \u001b[32m━━━━━━━━━━━━━━━━━━━\u001b[0m\u001b[37m━\u001b[0m \u001b[1m0s\u001b[0m 20ms/step - accuracy: 0.1360 - loss: 16.4067\n",
      "Epoch 20: val_loss improved from 16.04110 to 15.83288, saving model to ../models/cnn_rnn_ucf101_10c_tl/v_4/cnn_rnn_ucf101_10c_tl.keras\n",
      "\u001b[1m36/36\u001b[0m \u001b[32m━━━━━━━━━━━━━━━━━━━━\u001b[0m\u001b[37m\u001b[0m \u001b[1m1s\u001b[0m 22ms/step - accuracy: 0.1360 - loss: 16.4010 - val_accuracy: 0.1746 - val_loss: 15.8329\n",
      "Epoch 21/100\n",
      "\u001b[1m34/36\u001b[0m \u001b[32m━━━━━━━━━━━━━━━━━━\u001b[0m\u001b[37m━━\u001b[0m \u001b[1m0s\u001b[0m 19ms/step - accuracy: 0.1445 - loss: 16.2536\n",
      "Epoch 21: val_loss improved from 15.83288 to 15.62738, saving model to ../models/cnn_rnn_ucf101_10c_tl/v_4/cnn_rnn_ucf101_10c_tl.keras\n",
      "\u001b[1m36/36\u001b[0m \u001b[32m━━━━━━━━━━━━━━━━━━━━\u001b[0m\u001b[37m\u001b[0m \u001b[1m1s\u001b[0m 21ms/step - accuracy: 0.1437 - loss: 16.2485 - val_accuracy: 0.1852 - val_loss: 15.6274\n",
      "Epoch 22/100\n",
      "\u001b[1m35/36\u001b[0m \u001b[32m━━━━━━━━━━━━━━━━━━━\u001b[0m\u001b[37m━\u001b[0m \u001b[1m0s\u001b[0m 19ms/step - accuracy: 0.1218 - loss: 15.9123\n",
      "Epoch 22: val_loss improved from 15.62738 to 15.43596, saving model to ../models/cnn_rnn_ucf101_10c_tl/v_4/cnn_rnn_ucf101_10c_tl.keras\n",
      "\u001b[1m36/36\u001b[0m \u001b[32m━━━━━━━━━━━━━━━━━━━━\u001b[0m\u001b[37m\u001b[0m \u001b[1m1s\u001b[0m 20ms/step - accuracy: 0.1223 - loss: 15.9112 - val_accuracy: 0.1640 - val_loss: 15.4360\n",
      "Epoch 23/100\n",
      "\u001b[1m36/36\u001b[0m \u001b[32m━━━━━━━━━━━━━━━━━━━━\u001b[0m\u001b[37m\u001b[0m \u001b[1m0s\u001b[0m 20ms/step - accuracy: 0.1491 - loss: 15.7426\n",
      "Epoch 23: val_loss improved from 15.43596 to 15.26436, saving model to ../models/cnn_rnn_ucf101_10c_tl/v_4/cnn_rnn_ucf101_10c_tl.keras\n",
      "\u001b[1m36/36\u001b[0m \u001b[32m━━━━━━━━━━━━━━━━━━━━\u001b[0m\u001b[37m\u001b[0m \u001b[1m1s\u001b[0m 21ms/step - accuracy: 0.1488 - loss: 15.7419 - val_accuracy: 0.1746 - val_loss: 15.2644\n",
      "Epoch 24/100\n",
      "\u001b[1m34/36\u001b[0m \u001b[32m━━━━━━━━━━━━━━━━━━\u001b[0m\u001b[37m━━\u001b[0m \u001b[1m0s\u001b[0m 19ms/step - accuracy: 0.1364 - loss: 15.5492\n",
      "Epoch 24: val_loss improved from 15.26436 to 15.08495, saving model to ../models/cnn_rnn_ucf101_10c_tl/v_4/cnn_rnn_ucf101_10c_tl.keras\n",
      "\u001b[1m36/36\u001b[0m \u001b[32m━━━━━━━━━━━━━━━━━━━━\u001b[0m\u001b[37m\u001b[0m \u001b[1m1s\u001b[0m 20ms/step - accuracy: 0.1363 - loss: 15.5428 - val_accuracy: 0.1746 - val_loss: 15.0850\n",
      "Epoch 25/100\n",
      "\u001b[1m36/36\u001b[0m \u001b[32m━━━━━━━━━━━━━━━━━━━━\u001b[0m\u001b[37m\u001b[0m \u001b[1m0s\u001b[0m 19ms/step - accuracy: 0.1544 - loss: 15.2072\n",
      "Epoch 25: val_loss improved from 15.08495 to 14.90794, saving model to ../models/cnn_rnn_ucf101_10c_tl/v_4/cnn_rnn_ucf101_10c_tl.keras\n",
      "\u001b[1m36/36\u001b[0m \u001b[32m━━━━━━━━━━━━━━━━━━━━\u001b[0m\u001b[37m\u001b[0m \u001b[1m1s\u001b[0m 21ms/step - accuracy: 0.1543 - loss: 15.2064 - val_accuracy: 0.1799 - val_loss: 14.9079\n",
      "Epoch 26/100\n",
      "\u001b[1m34/36\u001b[0m \u001b[32m━━━━━━━━━━━━━━━━━━\u001b[0m\u001b[37m━━\u001b[0m \u001b[1m0s\u001b[0m 19ms/step - accuracy: 0.1508 - loss: 15.0179\n",
      "Epoch 26: val_loss improved from 14.90794 to 14.75077, saving model to ../models/cnn_rnn_ucf101_10c_tl/v_4/cnn_rnn_ucf101_10c_tl.keras\n",
      "\u001b[1m36/36\u001b[0m \u001b[32m━━━━━━━━━━━━━━━━━━━━\u001b[0m\u001b[37m\u001b[0m \u001b[1m1s\u001b[0m 20ms/step - accuracy: 0.1503 - loss: 15.0165 - val_accuracy: 0.1799 - val_loss: 14.7508\n",
      "Epoch 27/100\n",
      "\u001b[1m35/36\u001b[0m \u001b[32m━━━━━━━━━━━━━━━━━━━\u001b[0m\u001b[37m━\u001b[0m \u001b[1m0s\u001b[0m 20ms/step - accuracy: 0.1373 - loss: 14.8019\n",
      "Epoch 27: val_loss improved from 14.75077 to 14.58907, saving model to ../models/cnn_rnn_ucf101_10c_tl/v_4/cnn_rnn_ucf101_10c_tl.keras\n",
      "\u001b[1m36/36\u001b[0m \u001b[32m━━━━━━━━━━━━━━━━━━━━\u001b[0m\u001b[37m\u001b[0m \u001b[1m1s\u001b[0m 21ms/step - accuracy: 0.1376 - loss: 14.7999 - val_accuracy: 0.1746 - val_loss: 14.5891\n",
      "Epoch 28/100\n",
      "\u001b[1m34/36\u001b[0m \u001b[32m━━━━━━━━━━━━━━━━━━\u001b[0m\u001b[37m━━\u001b[0m \u001b[1m0s\u001b[0m 19ms/step - accuracy: 0.1474 - loss: 14.7608\n",
      "Epoch 28: val_loss improved from 14.58907 to 14.43385, saving model to ../models/cnn_rnn_ucf101_10c_tl/v_4/cnn_rnn_ucf101_10c_tl.keras\n",
      "\u001b[1m36/36\u001b[0m \u001b[32m━━━━━━━━━━━━━━━━━━━━\u001b[0m\u001b[37m\u001b[0m \u001b[1m1s\u001b[0m 20ms/step - accuracy: 0.1475 - loss: 14.7559 - val_accuracy: 0.1746 - val_loss: 14.4338\n",
      "Epoch 29/100\n",
      "\u001b[1m36/36\u001b[0m \u001b[32m━━━━━━━━━━━━━━━━━━━━\u001b[0m\u001b[37m\u001b[0m \u001b[1m0s\u001b[0m 19ms/step - accuracy: 0.1169 - loss: 14.6304\n",
      "Epoch 29: val_loss improved from 14.43385 to 14.27927, saving model to ../models/cnn_rnn_ucf101_10c_tl/v_4/cnn_rnn_ucf101_10c_tl.keras\n",
      "\u001b[1m36/36\u001b[0m \u001b[32m━━━━━━━━━━━━━━━━━━━━\u001b[0m\u001b[37m\u001b[0m \u001b[1m1s\u001b[0m 21ms/step - accuracy: 0.1177 - loss: 14.6261 - val_accuracy: 0.1746 - val_loss: 14.2793\n",
      "Epoch 30/100\n",
      "\u001b[1m36/36\u001b[0m \u001b[32m━━━━━━━━━━━━━━━━━━━━\u001b[0m\u001b[37m\u001b[0m \u001b[1m0s\u001b[0m 20ms/step - accuracy: 0.1714 - loss: 14.3468\n",
      "Epoch 30: val_loss improved from 14.27927 to 14.18979, saving model to ../models/cnn_rnn_ucf101_10c_tl/v_4/cnn_rnn_ucf101_10c_tl.keras\n",
      "\u001b[1m36/36\u001b[0m \u001b[32m━━━━━━━━━━━━━━━━━━━━\u001b[0m\u001b[37m\u001b[0m \u001b[1m1s\u001b[0m 22ms/step - accuracy: 0.1709 - loss: 14.3474 - val_accuracy: 0.1746 - val_loss: 14.1898\n",
      "Epoch 31/100\n",
      "\u001b[1m34/36\u001b[0m \u001b[32m━━━━━━━━━━━━━━━━━━\u001b[0m\u001b[37m━━\u001b[0m \u001b[1m0s\u001b[0m 19ms/step - accuracy: 0.1522 - loss: 14.2896\n",
      "Epoch 31: val_loss improved from 14.18979 to 14.06766, saving model to ../models/cnn_rnn_ucf101_10c_tl/v_4/cnn_rnn_ucf101_10c_tl.keras\n",
      "\u001b[1m36/36\u001b[0m \u001b[32m━━━━━━━━━━━━━━━━━━━━\u001b[0m\u001b[37m\u001b[0m \u001b[1m1s\u001b[0m 20ms/step - accuracy: 0.1518 - loss: 14.2856 - val_accuracy: 0.1693 - val_loss: 14.0677\n",
      "Epoch 32/100\n",
      "\u001b[1m34/36\u001b[0m \u001b[32m━━━━━━━━━━━━━━━━━━\u001b[0m\u001b[37m━━\u001b[0m \u001b[1m0s\u001b[0m 19ms/step - accuracy: 0.1737 - loss: 14.1114\n",
      "Epoch 32: val_loss improved from 14.06766 to 13.85805, saving model to ../models/cnn_rnn_ucf101_10c_tl/v_4/cnn_rnn_ucf101_10c_tl.keras\n",
      "\u001b[1m36/36\u001b[0m \u001b[32m━━━━━━━━━━━━━━━━━━━━\u001b[0m\u001b[37m\u001b[0m \u001b[1m1s\u001b[0m 22ms/step - accuracy: 0.1728 - loss: 14.1034 - val_accuracy: 0.1693 - val_loss: 13.8581\n",
      "Epoch 33/100\n",
      "\u001b[1m36/36\u001b[0m \u001b[32m━━━━━━━━━━━━━━━━━━━━\u001b[0m\u001b[37m\u001b[0m \u001b[1m0s\u001b[0m 20ms/step - accuracy: 0.1567 - loss: 13.9431\n",
      "Epoch 33: val_loss improved from 13.85805 to 13.72375, saving model to ../models/cnn_rnn_ucf101_10c_tl/v_4/cnn_rnn_ucf101_10c_tl.keras\n",
      "\u001b[1m36/36\u001b[0m \u001b[32m━━━━━━━━━━━━━━━━━━━━\u001b[0m\u001b[37m\u001b[0m \u001b[1m1s\u001b[0m 21ms/step - accuracy: 0.1568 - loss: 13.9424 - val_accuracy: 0.1693 - val_loss: 13.7237\n",
      "Epoch 34/100\n",
      "\u001b[1m36/36\u001b[0m \u001b[32m━━━━━━━━━━━━━━━━━━━━\u001b[0m\u001b[37m\u001b[0m \u001b[1m0s\u001b[0m 20ms/step - accuracy: 0.1886 - loss: 13.7230\n",
      "Epoch 34: val_loss improved from 13.72375 to 13.57631, saving model to ../models/cnn_rnn_ucf101_10c_tl/v_4/cnn_rnn_ucf101_10c_tl.keras\n",
      "\u001b[1m36/36\u001b[0m \u001b[32m━━━━━━━━━━━━━━━━━━━━\u001b[0m\u001b[37m\u001b[0m \u001b[1m1s\u001b[0m 22ms/step - accuracy: 0.1882 - loss: 13.7221 - val_accuracy: 0.1799 - val_loss: 13.5763\n",
      "Epoch 35/100\n",
      "\u001b[1m34/36\u001b[0m \u001b[32m━━━━━━━━━━━━━━━━━━\u001b[0m\u001b[37m━━\u001b[0m \u001b[1m0s\u001b[0m 22ms/step - accuracy: 0.1701 - loss: 13.6093\n",
      "Epoch 35: val_loss improved from 13.57631 to 13.45274, saving model to ../models/cnn_rnn_ucf101_10c_tl/v_4/cnn_rnn_ucf101_10c_tl.keras\n",
      "\u001b[1m36/36\u001b[0m \u001b[32m━━━━━━━━━━━━━━━━━━━━\u001b[0m\u001b[37m\u001b[0m \u001b[1m1s\u001b[0m 23ms/step - accuracy: 0.1697 - loss: 13.6061 - val_accuracy: 0.1746 - val_loss: 13.4527\n",
      "Epoch 36/100\n",
      "\u001b[1m34/36\u001b[0m \u001b[32m━━━━━━━━━━━━━━━━━━\u001b[0m\u001b[37m━━\u001b[0m \u001b[1m0s\u001b[0m 19ms/step - accuracy: 0.1702 - loss: 13.4904\n",
      "Epoch 36: val_loss improved from 13.45274 to 13.31287, saving model to ../models/cnn_rnn_ucf101_10c_tl/v_4/cnn_rnn_ucf101_10c_tl.keras\n",
      "\u001b[1m36/36\u001b[0m \u001b[32m━━━━━━━━━━━━━━━━━━━━\u001b[0m\u001b[37m\u001b[0m \u001b[1m1s\u001b[0m 20ms/step - accuracy: 0.1701 - loss: 13.4833 - val_accuracy: 0.1746 - val_loss: 13.3129\n",
      "Epoch 37/100\n",
      "\u001b[1m34/36\u001b[0m \u001b[32m━━━━━━━━━━━━━━━━━━\u001b[0m\u001b[37m━━\u001b[0m \u001b[1m0s\u001b[0m 20ms/step - accuracy: 0.1802 - loss: 13.2913\n",
      "Epoch 37: val_loss improved from 13.31287 to 13.19428, saving model to ../models/cnn_rnn_ucf101_10c_tl/v_4/cnn_rnn_ucf101_10c_tl.keras\n",
      "\u001b[1m36/36\u001b[0m \u001b[32m━━━━━━━━━━━━━━━━━━━━\u001b[0m\u001b[37m\u001b[0m \u001b[1m1s\u001b[0m 21ms/step - accuracy: 0.1789 - loss: 13.2923 - val_accuracy: 0.1746 - val_loss: 13.1943\n",
      "Epoch 38/100\n",
      "\u001b[1m34/36\u001b[0m \u001b[32m━━━━━━━━━━━━━━━━━━\u001b[0m\u001b[37m━━\u001b[0m \u001b[1m0s\u001b[0m 21ms/step - accuracy: 0.1698 - loss: 13.1976\n",
      "Epoch 38: val_loss improved from 13.19428 to 13.06912, saving model to ../models/cnn_rnn_ucf101_10c_tl/v_4/cnn_rnn_ucf101_10c_tl.keras\n",
      "\u001b[1m36/36\u001b[0m \u001b[32m━━━━━━━━━━━━━━━━━━━━\u001b[0m\u001b[37m\u001b[0m \u001b[1m1s\u001b[0m 22ms/step - accuracy: 0.1705 - loss: 13.1943 - val_accuracy: 0.1746 - val_loss: 13.0691\n",
      "Epoch 39/100\n",
      "\u001b[1m34/36\u001b[0m \u001b[32m━━━━━━━━━━━━━━━━━━\u001b[0m\u001b[37m━━\u001b[0m \u001b[1m0s\u001b[0m 19ms/step - accuracy: 0.1581 - loss: 13.1023\n",
      "Epoch 39: val_loss improved from 13.06912 to 12.93469, saving model to ../models/cnn_rnn_ucf101_10c_tl/v_4/cnn_rnn_ucf101_10c_tl.keras\n",
      "\u001b[1m36/36\u001b[0m \u001b[32m━━━━━━━━━━━━━━━━━━━━\u001b[0m\u001b[37m\u001b[0m \u001b[1m1s\u001b[0m 21ms/step - accuracy: 0.1591 - loss: 13.0977 - val_accuracy: 0.1746 - val_loss: 12.9347\n",
      "Epoch 40/100\n",
      "\u001b[1m36/36\u001b[0m \u001b[32m━━━━━━━━━━━━━━━━━━━━\u001b[0m\u001b[37m\u001b[0m \u001b[1m0s\u001b[0m 23ms/step - accuracy: 0.1611 - loss: 12.9486\n",
      "Epoch 40: val_loss improved from 12.93469 to 12.82867, saving model to ../models/cnn_rnn_ucf101_10c_tl/v_4/cnn_rnn_ucf101_10c_tl.keras\n",
      "\u001b[1m36/36\u001b[0m \u001b[32m━━━━━━━━━━━━━━━━━━━━\u001b[0m\u001b[37m\u001b[0m \u001b[1m1s\u001b[0m 24ms/step - accuracy: 0.1612 - loss: 12.9478 - val_accuracy: 0.1746 - val_loss: 12.8287\n",
      "Epoch 41/100\n",
      "\u001b[1m34/36\u001b[0m \u001b[32m━━━━━━━━━━━━━━━━━━\u001b[0m\u001b[37m━━\u001b[0m \u001b[1m0s\u001b[0m 20ms/step - accuracy: 0.1611 - loss: 12.8024\n",
      "Epoch 41: val_loss improved from 12.82867 to 12.73034, saving model to ../models/cnn_rnn_ucf101_10c_tl/v_4/cnn_rnn_ucf101_10c_tl.keras\n",
      "\u001b[1m36/36\u001b[0m \u001b[32m━━━━━━━━━━━━━━━━━━━━\u001b[0m\u001b[37m\u001b[0m \u001b[1m1s\u001b[0m 21ms/step - accuracy: 0.1618 - loss: 12.7993 - val_accuracy: 0.1746 - val_loss: 12.7303\n",
      "Epoch 42/100\n",
      "\u001b[1m34/36\u001b[0m \u001b[32m━━━━━━━━━━━━━━━━━━\u001b[0m\u001b[37m━━\u001b[0m \u001b[1m0s\u001b[0m 19ms/step - accuracy: 0.1426 - loss: 12.8194\n",
      "Epoch 42: val_loss improved from 12.73034 to 12.57131, saving model to ../models/cnn_rnn_ucf101_10c_tl/v_4/cnn_rnn_ucf101_10c_tl.keras\n",
      "\u001b[1m36/36\u001b[0m \u001b[32m━━━━━━━━━━━━━━━━━━━━\u001b[0m\u001b[37m\u001b[0m \u001b[1m1s\u001b[0m 20ms/step - accuracy: 0.1447 - loss: 12.8108 - val_accuracy: 0.1746 - val_loss: 12.5713\n",
      "Epoch 43/100\n",
      "\u001b[1m34/36\u001b[0m \u001b[32m━━━━━━━━━━━━━━━━━━\u001b[0m\u001b[37m━━\u001b[0m \u001b[1m0s\u001b[0m 19ms/step - accuracy: 0.1695 - loss: 12.5812\n",
      "Epoch 43: val_loss improved from 12.57131 to 12.44142, saving model to ../models/cnn_rnn_ucf101_10c_tl/v_4/cnn_rnn_ucf101_10c_tl.keras\n",
      "\u001b[1m36/36\u001b[0m \u001b[32m━━━━━━━━━━━━━━━━━━━━\u001b[0m\u001b[37m\u001b[0m \u001b[1m1s\u001b[0m 20ms/step - accuracy: 0.1696 - loss: 12.5777 - val_accuracy: 0.1746 - val_loss: 12.4414\n",
      "Epoch 44/100\n",
      "\u001b[1m35/36\u001b[0m \u001b[32m━━━━━━━━━━━━━━━━━━━\u001b[0m\u001b[37m━\u001b[0m \u001b[1m0s\u001b[0m 19ms/step - accuracy: 0.1561 - loss: 12.4189\n",
      "Epoch 44: val_loss improved from 12.44142 to 12.31995, saving model to ../models/cnn_rnn_ucf101_10c_tl/v_4/cnn_rnn_ucf101_10c_tl.keras\n",
      "\u001b[1m36/36\u001b[0m \u001b[32m━━━━━━━━━━━━━━━━━━━━\u001b[0m\u001b[37m\u001b[0m \u001b[1m1s\u001b[0m 21ms/step - accuracy: 0.1572 - loss: 12.4170 - val_accuracy: 0.1746 - val_loss: 12.3200\n",
      "Epoch 45/100\n",
      "\u001b[1m34/36\u001b[0m \u001b[32m━━━━━━━━━━━━━━━━━━\u001b[0m\u001b[37m━━\u001b[0m \u001b[1m0s\u001b[0m 19ms/step - accuracy: 0.1850 - loss: 12.3226\n",
      "Epoch 45: val_loss improved from 12.31995 to 12.21757, saving model to ../models/cnn_rnn_ucf101_10c_tl/v_4/cnn_rnn_ucf101_10c_tl.keras\n",
      "\u001b[1m36/36\u001b[0m \u001b[32m━━━━━━━━━━━━━━━━━━━━\u001b[0m\u001b[37m\u001b[0m \u001b[1m1s\u001b[0m 20ms/step - accuracy: 0.1838 - loss: 12.3228 - val_accuracy: 0.1799 - val_loss: 12.2176\n",
      "Epoch 46/100\n",
      "\u001b[1m34/36\u001b[0m \u001b[32m━━━━━━━━━━━━━━━━━━\u001b[0m\u001b[37m━━\u001b[0m \u001b[1m0s\u001b[0m 19ms/step - accuracy: 0.1869 - loss: 12.1900\n",
      "Epoch 46: val_loss improved from 12.21757 to 12.09840, saving model to ../models/cnn_rnn_ucf101_10c_tl/v_4/cnn_rnn_ucf101_10c_tl.keras\n",
      "\u001b[1m36/36\u001b[0m \u001b[32m━━━━━━━━━━━━━━━━━━━━\u001b[0m\u001b[37m\u001b[0m \u001b[1m1s\u001b[0m 20ms/step - accuracy: 0.1853 - loss: 12.1893 - val_accuracy: 0.1746 - val_loss: 12.0984\n",
      "Epoch 47/100\n",
      "\u001b[1m36/36\u001b[0m \u001b[32m━━━━━━━━━━━━━━━━━━━━\u001b[0m\u001b[37m\u001b[0m \u001b[1m0s\u001b[0m 20ms/step - accuracy: 0.1626 - loss: 12.0630\n",
      "Epoch 47: val_loss improved from 12.09840 to 11.97137, saving model to ../models/cnn_rnn_ucf101_10c_tl/v_4/cnn_rnn_ucf101_10c_tl.keras\n",
      "\u001b[1m36/36\u001b[0m \u001b[32m━━━━━━━━━━━━━━━━━━━━\u001b[0m\u001b[37m\u001b[0m \u001b[1m1s\u001b[0m 22ms/step - accuracy: 0.1629 - loss: 12.0617 - val_accuracy: 0.1746 - val_loss: 11.9714\n",
      "Epoch 48/100\n",
      "\u001b[1m34/36\u001b[0m \u001b[32m━━━━━━━━━━━━━━━━━━\u001b[0m\u001b[37m━━\u001b[0m \u001b[1m0s\u001b[0m 19ms/step - accuracy: 0.1738 - loss: 11.9196\n",
      "Epoch 48: val_loss improved from 11.97137 to 11.85688, saving model to ../models/cnn_rnn_ucf101_10c_tl/v_4/cnn_rnn_ucf101_10c_tl.keras\n",
      "\u001b[1m36/36\u001b[0m \u001b[32m━━━━━━━━━━━━━━━━━━━━\u001b[0m\u001b[37m\u001b[0m \u001b[1m1s\u001b[0m 20ms/step - accuracy: 0.1744 - loss: 11.9179 - val_accuracy: 0.1746 - val_loss: 11.8569\n",
      "Epoch 49/100\n",
      "\u001b[1m35/36\u001b[0m \u001b[32m━━━━━━━━━━━━━━━━━━━\u001b[0m\u001b[37m━\u001b[0m \u001b[1m0s\u001b[0m 19ms/step - accuracy: 0.1659 - loss: 11.8109\n",
      "Epoch 49: val_loss improved from 11.85688 to 11.74230, saving model to ../models/cnn_rnn_ucf101_10c_tl/v_4/cnn_rnn_ucf101_10c_tl.keras\n",
      "\u001b[1m36/36\u001b[0m \u001b[32m━━━━━━━━━━━━━━━━━━━━\u001b[0m\u001b[37m\u001b[0m \u001b[1m1s\u001b[0m 20ms/step - accuracy: 0.1664 - loss: 11.8100 - val_accuracy: 0.1746 - val_loss: 11.7423\n",
      "Epoch 50/100\n",
      "\u001b[1m35/36\u001b[0m \u001b[32m━━━━━━━━━━━━━━━━━━━\u001b[0m\u001b[37m━\u001b[0m \u001b[1m0s\u001b[0m 19ms/step - accuracy: 0.1852 - loss: 11.7273\n",
      "Epoch 50: val_loss improved from 11.74230 to 11.64287, saving model to ../models/cnn_rnn_ucf101_10c_tl/v_4/cnn_rnn_ucf101_10c_tl.keras\n",
      "\u001b[1m36/36\u001b[0m \u001b[32m━━━━━━━━━━━━━━━━━━━━\u001b[0m\u001b[37m\u001b[0m \u001b[1m1s\u001b[0m 21ms/step - accuracy: 0.1848 - loss: 11.7248 - val_accuracy: 0.1746 - val_loss: 11.6429\n",
      "Epoch 51/100\n",
      "\u001b[1m34/36\u001b[0m \u001b[32m━━━━━━━━━━━━━━━━━━\u001b[0m\u001b[37m━━\u001b[0m \u001b[1m0s\u001b[0m 19ms/step - accuracy: 0.1681 - loss: 11.5998\n",
      "Epoch 51: val_loss improved from 11.64287 to 11.51303, saving model to ../models/cnn_rnn_ucf101_10c_tl/v_4/cnn_rnn_ucf101_10c_tl.keras\n",
      "\u001b[1m36/36\u001b[0m \u001b[32m━━━━━━━━━━━━━━━━━━━━\u001b[0m\u001b[37m\u001b[0m \u001b[1m1s\u001b[0m 20ms/step - accuracy: 0.1687 - loss: 11.5970 - val_accuracy: 0.1746 - val_loss: 11.5130\n",
      "Epoch 52/100\n",
      "\u001b[1m34/36\u001b[0m \u001b[32m━━━━━━━━━━━━━━━━━━\u001b[0m\u001b[37m━━\u001b[0m \u001b[1m0s\u001b[0m 20ms/step - accuracy: 0.1745 - loss: 11.5248\n",
      "Epoch 52: val_loss improved from 11.51303 to 11.42739, saving model to ../models/cnn_rnn_ucf101_10c_tl/v_4/cnn_rnn_ucf101_10c_tl.keras\n",
      "\u001b[1m36/36\u001b[0m \u001b[32m━━━━━━━━━━━━━━━━━━━━\u001b[0m\u001b[37m\u001b[0m \u001b[1m1s\u001b[0m 21ms/step - accuracy: 0.1751 - loss: 11.5202 - val_accuracy: 0.1746 - val_loss: 11.4274\n",
      "Epoch 53/100\n",
      "\u001b[1m34/36\u001b[0m \u001b[32m━━━━━━━━━━━━━━━━━━\u001b[0m\u001b[37m━━\u001b[0m \u001b[1m0s\u001b[0m 18ms/step - accuracy: 0.1840 - loss: 11.3819\n",
      "Epoch 53: val_loss improved from 11.42739 to 11.29766, saving model to ../models/cnn_rnn_ucf101_10c_tl/v_4/cnn_rnn_ucf101_10c_tl.keras\n",
      "\u001b[1m36/36\u001b[0m \u001b[32m━━━━━━━━━━━━━━━━━━━━\u001b[0m\u001b[37m\u001b[0m \u001b[1m1s\u001b[0m 20ms/step - accuracy: 0.1832 - loss: 11.3789 - val_accuracy: 0.1746 - val_loss: 11.2977\n",
      "Epoch 54/100\n",
      "\u001b[1m34/36\u001b[0m \u001b[32m━━━━━━━━━━━━━━━━━━\u001b[0m\u001b[37m━━\u001b[0m \u001b[1m0s\u001b[0m 19ms/step - accuracy: 0.1912 - loss: 11.2282\n",
      "Epoch 54: val_loss improved from 11.29766 to 11.16709, saving model to ../models/cnn_rnn_ucf101_10c_tl/v_4/cnn_rnn_ucf101_10c_tl.keras\n",
      "\u001b[1m36/36\u001b[0m \u001b[32m━━━━━━━━━━━━━━━━━━━━\u001b[0m\u001b[37m\u001b[0m \u001b[1m1s\u001b[0m 20ms/step - accuracy: 0.1898 - loss: 11.2262 - val_accuracy: 0.1746 - val_loss: 11.1671\n",
      "Epoch 55/100\n",
      "\u001b[1m34/36\u001b[0m \u001b[32m━━━━━━━━━━━━━━━━━━\u001b[0m\u001b[37m━━\u001b[0m \u001b[1m0s\u001b[0m 19ms/step - accuracy: 0.1727 - loss: 11.1218\n",
      "Epoch 55: val_loss improved from 11.16709 to 11.06055, saving model to ../models/cnn_rnn_ucf101_10c_tl/v_4/cnn_rnn_ucf101_10c_tl.keras\n",
      "\u001b[1m36/36\u001b[0m \u001b[32m━━━━━━━━━━━━━━━━━━━━\u001b[0m\u001b[37m\u001b[0m \u001b[1m1s\u001b[0m 20ms/step - accuracy: 0.1729 - loss: 11.1189 - val_accuracy: 0.1746 - val_loss: 11.0605\n",
      "Epoch 56/100\n",
      "\u001b[1m34/36\u001b[0m \u001b[32m━━━━━━━━━━━━━━━━━━\u001b[0m\u001b[37m━━\u001b[0m \u001b[1m0s\u001b[0m 19ms/step - accuracy: 0.1814 - loss: 11.0196\n",
      "Epoch 56: val_loss improved from 11.06055 to 10.97175, saving model to ../models/cnn_rnn_ucf101_10c_tl/v_4/cnn_rnn_ucf101_10c_tl.keras\n",
      "\u001b[1m36/36\u001b[0m \u001b[32m━━━━━━━━━━━━━━━━━━━━\u001b[0m\u001b[37m\u001b[0m \u001b[1m1s\u001b[0m 20ms/step - accuracy: 0.1806 - loss: 11.0188 - val_accuracy: 0.1746 - val_loss: 10.9717\n",
      "Epoch 57/100\n",
      "\u001b[1m34/36\u001b[0m \u001b[32m━━━━━━━━━━━━━━━━━━\u001b[0m\u001b[37m━━\u001b[0m \u001b[1m0s\u001b[0m 19ms/step - accuracy: 0.1789 - loss: 10.9255\n",
      "Epoch 57: val_loss improved from 10.97175 to 10.84364, saving model to ../models/cnn_rnn_ucf101_10c_tl/v_4/cnn_rnn_ucf101_10c_tl.keras\n",
      "\u001b[1m36/36\u001b[0m \u001b[32m━━━━━━━━━━━━━━━━━━━━\u001b[0m\u001b[37m\u001b[0m \u001b[1m1s\u001b[0m 20ms/step - accuracy: 0.1790 - loss: 10.9224 - val_accuracy: 0.1746 - val_loss: 10.8436\n",
      "Epoch 58/100\n",
      "\u001b[1m34/36\u001b[0m \u001b[32m━━━━━━━━━━━━━━━━━━\u001b[0m\u001b[37m━━\u001b[0m \u001b[1m0s\u001b[0m 19ms/step - accuracy: 0.1868 - loss: 10.8066\n",
      "Epoch 58: val_loss improved from 10.84364 to 10.74748, saving model to ../models/cnn_rnn_ucf101_10c_tl/v_4/cnn_rnn_ucf101_10c_tl.keras\n",
      "\u001b[1m36/36\u001b[0m \u001b[32m━━━━━━━━━━━━━━━━━━━━\u001b[0m\u001b[37m\u001b[0m \u001b[1m1s\u001b[0m 20ms/step - accuracy: 0.1859 - loss: 10.8058 - val_accuracy: 0.1746 - val_loss: 10.7475\n",
      "Epoch 59/100\n",
      "\u001b[1m36/36\u001b[0m \u001b[32m━━━━━━━━━━━━━━━━━━━━\u001b[0m\u001b[37m\u001b[0m \u001b[1m0s\u001b[0m 19ms/step - accuracy: 0.1675 - loss: 10.7034\n",
      "Epoch 59: val_loss improved from 10.74748 to 10.62972, saving model to ../models/cnn_rnn_ucf101_10c_tl/v_4/cnn_rnn_ucf101_10c_tl.keras\n",
      "\u001b[1m36/36\u001b[0m \u001b[32m━━━━━━━━━━━━━━━━━━━━\u001b[0m\u001b[37m\u001b[0m \u001b[1m1s\u001b[0m 21ms/step - accuracy: 0.1677 - loss: 10.7024 - val_accuracy: 0.1746 - val_loss: 10.6297\n",
      "Epoch 60/100\n",
      "\u001b[1m36/36\u001b[0m \u001b[32m━━━━━━━━━━━━━━━━━━━━\u001b[0m\u001b[37m\u001b[0m \u001b[1m0s\u001b[0m 19ms/step - accuracy: 0.1759 - loss: 10.5863\n",
      "Epoch 60: val_loss improved from 10.62972 to 10.56217, saving model to ../models/cnn_rnn_ucf101_10c_tl/v_4/cnn_rnn_ucf101_10c_tl.keras\n",
      "\u001b[1m36/36\u001b[0m \u001b[32m━━━━━━━━━━━━━━━━━━━━\u001b[0m\u001b[37m\u001b[0m \u001b[1m1s\u001b[0m 21ms/step - accuracy: 0.1760 - loss: 10.5859 - val_accuracy: 0.1746 - val_loss: 10.5622\n",
      "Epoch 61/100\n",
      "\u001b[1m34/36\u001b[0m \u001b[32m━━━━━━━━━━━━━━━━━━\u001b[0m\u001b[37m━━\u001b[0m \u001b[1m0s\u001b[0m 19ms/step - accuracy: 0.1925 - loss: 10.5167\n",
      "Epoch 61: val_loss improved from 10.56217 to 10.42083, saving model to ../models/cnn_rnn_ucf101_10c_tl/v_4/cnn_rnn_ucf101_10c_tl.keras\n",
      "\u001b[1m36/36\u001b[0m \u001b[32m━━━━━━━━━━━━━━━━━━━━\u001b[0m\u001b[37m\u001b[0m \u001b[1m1s\u001b[0m 21ms/step - accuracy: 0.1915 - loss: 10.5127 - val_accuracy: 0.1746 - val_loss: 10.4208\n",
      "Epoch 62/100\n",
      "\u001b[1m34/36\u001b[0m \u001b[32m━━━━━━━━━━━━━━━━━━\u001b[0m\u001b[37m━━\u001b[0m \u001b[1m0s\u001b[0m 20ms/step - accuracy: 0.1621 - loss: 10.3863\n",
      "Epoch 62: val_loss improved from 10.42083 to 10.30932, saving model to ../models/cnn_rnn_ucf101_10c_tl/v_4/cnn_rnn_ucf101_10c_tl.keras\n",
      "\u001b[1m36/36\u001b[0m \u001b[32m━━━━━━━━━━━━━━━━━━━━\u001b[0m\u001b[37m\u001b[0m \u001b[1m1s\u001b[0m 21ms/step - accuracy: 0.1634 - loss: 10.3828 - val_accuracy: 0.1746 - val_loss: 10.3093\n",
      "Epoch 63/100\n",
      "\u001b[1m35/36\u001b[0m \u001b[32m━━━━━━━━━━━━━━━━━━━\u001b[0m\u001b[37m━\u001b[0m \u001b[1m0s\u001b[0m 19ms/step - accuracy: 0.1911 - loss: 10.2382\n",
      "Epoch 63: val_loss improved from 10.30932 to 10.20364, saving model to ../models/cnn_rnn_ucf101_10c_tl/v_4/cnn_rnn_ucf101_10c_tl.keras\n",
      "\u001b[1m36/36\u001b[0m \u001b[32m━━━━━━━━━━━━━━━━━━━━\u001b[0m\u001b[37m\u001b[0m \u001b[1m1s\u001b[0m 21ms/step - accuracy: 0.1905 - loss: 10.2372 - val_accuracy: 0.1746 - val_loss: 10.2036\n",
      "Epoch 64/100\n",
      "\u001b[1m34/36\u001b[0m \u001b[32m━━━━━━━━━━━━━━━━━━\u001b[0m\u001b[37m━━\u001b[0m \u001b[1m0s\u001b[0m 19ms/step - accuracy: 0.1578 - loss: 10.1611\n",
      "Epoch 64: val_loss improved from 10.20364 to 10.09603, saving model to ../models/cnn_rnn_ucf101_10c_tl/v_4/cnn_rnn_ucf101_10c_tl.keras\n",
      "\u001b[1m36/36\u001b[0m \u001b[32m━━━━━━━━━━━━━━━━━━━━\u001b[0m\u001b[37m\u001b[0m \u001b[1m1s\u001b[0m 20ms/step - accuracy: 0.1594 - loss: 10.1577 - val_accuracy: 0.1746 - val_loss: 10.0960\n",
      "Epoch 65/100\n",
      "\u001b[1m34/36\u001b[0m \u001b[32m━━━━━━━━━━━━━━━━━━\u001b[0m\u001b[37m━━\u001b[0m \u001b[1m0s\u001b[0m 19ms/step - accuracy: 0.1540 - loss: 10.0665\n",
      "Epoch 65: val_loss improved from 10.09603 to 9.99579, saving model to ../models/cnn_rnn_ucf101_10c_tl/v_4/cnn_rnn_ucf101_10c_tl.keras\n",
      "\u001b[1m36/36\u001b[0m \u001b[32m━━━━━━━━━━━━━━━━━━━━\u001b[0m\u001b[37m\u001b[0m \u001b[1m1s\u001b[0m 20ms/step - accuracy: 0.1558 - loss: 10.0629 - val_accuracy: 0.1746 - val_loss: 9.9958\n",
      "Epoch 66/100\n",
      "\u001b[1m34/36\u001b[0m \u001b[32m━━━━━━━━━━━━━━━━━━\u001b[0m\u001b[37m━━\u001b[0m \u001b[1m0s\u001b[0m 20ms/step - accuracy: 0.1924 - loss: 9.9234\n",
      "Epoch 66: val_loss improved from 9.99579 to 9.90375, saving model to ../models/cnn_rnn_ucf101_10c_tl/v_4/cnn_rnn_ucf101_10c_tl.keras\n",
      "\u001b[1m36/36\u001b[0m \u001b[32m━━━━━━━━━━━━━━━━━━━━\u001b[0m\u001b[37m\u001b[0m \u001b[1m1s\u001b[0m 21ms/step - accuracy: 0.1912 - loss: 9.9225 - val_accuracy: 0.1746 - val_loss: 9.9037\n",
      "Epoch 67/100\n",
      "\u001b[1m34/36\u001b[0m \u001b[32m━━━━━━━━━━━━━━━━━━\u001b[0m\u001b[37m━━\u001b[0m \u001b[1m0s\u001b[0m 20ms/step - accuracy: 0.1731 - loss: 9.8544\n",
      "Epoch 67: val_loss improved from 9.90375 to 9.79557, saving model to ../models/cnn_rnn_ucf101_10c_tl/v_4/cnn_rnn_ucf101_10c_tl.keras\n",
      "\u001b[1m36/36\u001b[0m \u001b[32m━━━━━━━━━━━━━━━━━━━━\u001b[0m\u001b[37m\u001b[0m \u001b[1m1s\u001b[0m 21ms/step - accuracy: 0.1736 - loss: 9.8509 - val_accuracy: 0.1746 - val_loss: 9.7956\n",
      "Epoch 68/100\n",
      "\u001b[1m35/36\u001b[0m \u001b[32m━━━━━━━━━━━━━━━━━━━\u001b[0m\u001b[37m━\u001b[0m \u001b[1m0s\u001b[0m 19ms/step - accuracy: 0.1774 - loss: 9.7583\n",
      "Epoch 68: val_loss improved from 9.79557 to 9.69280, saving model to ../models/cnn_rnn_ucf101_10c_tl/v_4/cnn_rnn_ucf101_10c_tl.keras\n",
      "\u001b[1m36/36\u001b[0m \u001b[32m━━━━━━━━━━━━━━━━━━━━\u001b[0m\u001b[37m\u001b[0m \u001b[1m1s\u001b[0m 20ms/step - accuracy: 0.1774 - loss: 9.7563 - val_accuracy: 0.1746 - val_loss: 9.6928\n",
      "Epoch 69/100\n",
      "\u001b[1m34/36\u001b[0m \u001b[32m━━━━━━━━━━━━━━━━━━\u001b[0m\u001b[37m━━\u001b[0m \u001b[1m0s\u001b[0m 20ms/step - accuracy: 0.1913 - loss: 9.6285\n",
      "Epoch 69: val_loss improved from 9.69280 to 9.59826, saving model to ../models/cnn_rnn_ucf101_10c_tl/v_4/cnn_rnn_ucf101_10c_tl.keras\n",
      "\u001b[1m36/36\u001b[0m \u001b[32m━━━━━━━━━━━━━━━━━━━━\u001b[0m\u001b[37m\u001b[0m \u001b[1m1s\u001b[0m 21ms/step - accuracy: 0.1900 - loss: 9.6273 - val_accuracy: 0.1746 - val_loss: 9.5983\n",
      "Epoch 70/100\n",
      "\u001b[1m34/36\u001b[0m \u001b[32m━━━━━━━━━━━━━━━━━━\u001b[0m\u001b[37m━━\u001b[0m \u001b[1m0s\u001b[0m 20ms/step - accuracy: 0.1604 - loss: 9.5449\n",
      "Epoch 70: val_loss improved from 9.59826 to 9.47530, saving model to ../models/cnn_rnn_ucf101_10c_tl/v_4/cnn_rnn_ucf101_10c_tl.keras\n",
      "\u001b[1m36/36\u001b[0m \u001b[32m━━━━━━━━━━━━━━━━━━━━\u001b[0m\u001b[37m\u001b[0m \u001b[1m1s\u001b[0m 21ms/step - accuracy: 0.1619 - loss: 9.5416 - val_accuracy: 0.1746 - val_loss: 9.4753\n",
      "Epoch 71/100\n",
      "\u001b[1m34/36\u001b[0m \u001b[32m━━━━━━━━━━━━━━━━━━\u001b[0m\u001b[37m━━\u001b[0m \u001b[1m0s\u001b[0m 20ms/step - accuracy: 0.1842 - loss: 9.4288\n",
      "Epoch 71: val_loss improved from 9.47530 to 9.39360, saving model to ../models/cnn_rnn_ucf101_10c_tl/v_4/cnn_rnn_ucf101_10c_tl.keras\n",
      "\u001b[1m36/36\u001b[0m \u001b[32m━━━━━━━━━━━━━━━━━━━━\u001b[0m\u001b[37m\u001b[0m \u001b[1m1s\u001b[0m 21ms/step - accuracy: 0.1837 - loss: 9.4274 - val_accuracy: 0.1746 - val_loss: 9.3936\n",
      "Epoch 72/100\n",
      "\u001b[1m36/36\u001b[0m \u001b[32m━━━━━━━━━━━━━━━━━━━━\u001b[0m\u001b[37m\u001b[0m \u001b[1m0s\u001b[0m 20ms/step - accuracy: 0.1752 - loss: 9.3469\n",
      "Epoch 72: val_loss improved from 9.39360 to 9.28763, saving model to ../models/cnn_rnn_ucf101_10c_tl/v_4/cnn_rnn_ucf101_10c_tl.keras\n",
      "\u001b[1m36/36\u001b[0m \u001b[32m━━━━━━━━━━━━━━━━━━━━\u001b[0m\u001b[37m\u001b[0m \u001b[1m1s\u001b[0m 21ms/step - accuracy: 0.1752 - loss: 9.3459 - val_accuracy: 0.1746 - val_loss: 9.2876\n",
      "Epoch 73/100\n",
      "\u001b[1m34/36\u001b[0m \u001b[32m━━━━━━━━━━━━━━━━━━\u001b[0m\u001b[37m━━\u001b[0m \u001b[1m0s\u001b[0m 19ms/step - accuracy: 0.1789 - loss: 9.2235\n",
      "Epoch 73: val_loss improved from 9.28763 to 9.18303, saving model to ../models/cnn_rnn_ucf101_10c_tl/v_4/cnn_rnn_ucf101_10c_tl.keras\n",
      "\u001b[1m36/36\u001b[0m \u001b[32m━━━━━━━━━━━━━━━━━━━━\u001b[0m\u001b[37m\u001b[0m \u001b[1m1s\u001b[0m 20ms/step - accuracy: 0.1786 - loss: 9.2218 - val_accuracy: 0.1746 - val_loss: 9.1830\n",
      "Epoch 74/100\n",
      "\u001b[1m35/36\u001b[0m \u001b[32m━━━━━━━━━━━━━━━━━━━\u001b[0m\u001b[37m━\u001b[0m \u001b[1m0s\u001b[0m 20ms/step - accuracy: 0.1888 - loss: 9.1260\n",
      "Epoch 74: val_loss improved from 9.18303 to 9.08566, saving model to ../models/cnn_rnn_ucf101_10c_tl/v_4/cnn_rnn_ucf101_10c_tl.keras\n",
      "\u001b[1m36/36\u001b[0m \u001b[32m━━━━━━━━━━━━━━━━━━━━\u001b[0m\u001b[37m\u001b[0m \u001b[1m1s\u001b[0m 21ms/step - accuracy: 0.1882 - loss: 9.1249 - val_accuracy: 0.1746 - val_loss: 9.0857\n",
      "Epoch 75/100\n",
      "\u001b[1m34/36\u001b[0m \u001b[32m━━━━━━━━━━━━━━━━━━\u001b[0m\u001b[37m━━\u001b[0m \u001b[1m0s\u001b[0m 19ms/step - accuracy: 0.1737 - loss: 9.0378\n",
      "Epoch 75: val_loss improved from 9.08566 to 8.98965, saving model to ../models/cnn_rnn_ucf101_10c_tl/v_4/cnn_rnn_ucf101_10c_tl.keras\n",
      "\u001b[1m36/36\u001b[0m \u001b[32m━━━━━━━━━━━━━━━━━━━━\u001b[0m\u001b[37m\u001b[0m \u001b[1m1s\u001b[0m 20ms/step - accuracy: 0.1740 - loss: 9.0357 - val_accuracy: 0.1746 - val_loss: 8.9896\n",
      "Epoch 76/100\n",
      "\u001b[1m34/36\u001b[0m \u001b[32m━━━━━━━━━━━━━━━━━━\u001b[0m\u001b[37m━━\u001b[0m \u001b[1m0s\u001b[0m 20ms/step - accuracy: 0.1694 - loss: 8.9495\n",
      "Epoch 76: val_loss improved from 8.98965 to 8.88512, saving model to ../models/cnn_rnn_ucf101_10c_tl/v_4/cnn_rnn_ucf101_10c_tl.keras\n",
      "\u001b[1m36/36\u001b[0m \u001b[32m━━━━━━━━━━━━━━━━━━━━\u001b[0m\u001b[37m\u001b[0m \u001b[1m1s\u001b[0m 21ms/step - accuracy: 0.1703 - loss: 8.9460 - val_accuracy: 0.1799 - val_loss: 8.8851\n",
      "Epoch 77/100\n",
      "\u001b[1m36/36\u001b[0m \u001b[32m━━━━━━━━━━━━━━━━━━━━\u001b[0m\u001b[37m\u001b[0m \u001b[1m0s\u001b[0m 21ms/step - accuracy: 0.1843 - loss: 8.8247\n",
      "Epoch 77: val_loss improved from 8.88512 to 8.78146, saving model to ../models/cnn_rnn_ucf101_10c_tl/v_4/cnn_rnn_ucf101_10c_tl.keras\n",
      "\u001b[1m36/36\u001b[0m \u001b[32m━━━━━━━━━━━━━━━━━━━━\u001b[0m\u001b[37m\u001b[0m \u001b[1m1s\u001b[0m 22ms/step - accuracy: 0.1841 - loss: 8.8242 - val_accuracy: 0.1746 - val_loss: 8.7815\n",
      "Epoch 78/100\n",
      "\u001b[1m34/36\u001b[0m \u001b[32m━━━━━━━━━━━━━━━━━━\u001b[0m\u001b[37m━━\u001b[0m \u001b[1m0s\u001b[0m 19ms/step - accuracy: 0.1681 - loss: 8.7274\n",
      "Epoch 78: val_loss improved from 8.78146 to 8.68778, saving model to ../models/cnn_rnn_ucf101_10c_tl/v_4/cnn_rnn_ucf101_10c_tl.keras\n",
      "\u001b[1m36/36\u001b[0m \u001b[32m━━━━━━━━━━━━━━━━━━━━\u001b[0m\u001b[37m\u001b[0m \u001b[1m1s\u001b[0m 20ms/step - accuracy: 0.1690 - loss: 8.7250 - val_accuracy: 0.1746 - val_loss: 8.6878\n",
      "Epoch 79/100\n",
      "\u001b[1m35/36\u001b[0m \u001b[32m━━━━━━━━━━━━━━━━━━━\u001b[0m\u001b[37m━\u001b[0m \u001b[1m0s\u001b[0m 21ms/step - accuracy: 0.1635 - loss: 8.6419\n",
      "Epoch 79: val_loss improved from 8.68778 to 8.58873, saving model to ../models/cnn_rnn_ucf101_10c_tl/v_4/cnn_rnn_ucf101_10c_tl.keras\n",
      "\u001b[1m36/36\u001b[0m \u001b[32m━━━━━━━━━━━━━━━━━━━━\u001b[0m\u001b[37m\u001b[0m \u001b[1m1s\u001b[0m 22ms/step - accuracy: 0.1642 - loss: 8.6403 - val_accuracy: 0.1746 - val_loss: 8.5887\n",
      "Epoch 80/100\n",
      "\u001b[1m34/36\u001b[0m \u001b[32m━━━━━━━━━━━━━━━━━━\u001b[0m\u001b[37m━━\u001b[0m \u001b[1m0s\u001b[0m 19ms/step - accuracy: 0.1710 - loss: 8.5413\n",
      "Epoch 80: val_loss improved from 8.58873 to 8.51132, saving model to ../models/cnn_rnn_ucf101_10c_tl/v_4/cnn_rnn_ucf101_10c_tl.keras\n",
      "\u001b[1m36/36\u001b[0m \u001b[32m━━━━━━━━━━━━━━━━━━━━\u001b[0m\u001b[37m\u001b[0m \u001b[1m1s\u001b[0m 21ms/step - accuracy: 0.1715 - loss: 8.5394 - val_accuracy: 0.1799 - val_loss: 8.5113\n",
      "Epoch 81/100\n",
      "\u001b[1m34/36\u001b[0m \u001b[32m━━━━━━━━━━━━━━━━━━\u001b[0m\u001b[37m━━\u001b[0m \u001b[1m0s\u001b[0m 20ms/step - accuracy: 0.1806 - loss: 8.4619\n",
      "Epoch 81: val_loss improved from 8.51132 to 8.40019, saving model to ../models/cnn_rnn_ucf101_10c_tl/v_4/cnn_rnn_ucf101_10c_tl.keras\n",
      "\u001b[1m36/36\u001b[0m \u001b[32m━━━━━━━━━━━━━━━━━━━━\u001b[0m\u001b[37m\u001b[0m \u001b[1m1s\u001b[0m 21ms/step - accuracy: 0.1807 - loss: 8.4589 - val_accuracy: 0.1746 - val_loss: 8.4002\n",
      "Epoch 82/100\n",
      "\u001b[1m36/36\u001b[0m \u001b[32m━━━━━━━━━━━━━━━━━━━━\u001b[0m\u001b[37m\u001b[0m \u001b[1m0s\u001b[0m 21ms/step - accuracy: 0.1831 - loss: 8.3636\n",
      "Epoch 82: val_loss improved from 8.40019 to 8.31168, saving model to ../models/cnn_rnn_ucf101_10c_tl/v_4/cnn_rnn_ucf101_10c_tl.keras\n",
      "\u001b[1m36/36\u001b[0m \u001b[32m━━━━━━━━━━━━━━━━━━━━\u001b[0m\u001b[37m\u001b[0m \u001b[1m1s\u001b[0m 23ms/step - accuracy: 0.1830 - loss: 8.3629 - val_accuracy: 0.1746 - val_loss: 8.3117\n",
      "Epoch 83/100\n",
      "\u001b[1m34/36\u001b[0m \u001b[32m━━━━━━━━━━━━━━━━━━\u001b[0m\u001b[37m━━\u001b[0m \u001b[1m0s\u001b[0m 20ms/step - accuracy: 0.1799 - loss: 8.2579\n",
      "Epoch 83: val_loss improved from 8.31168 to 8.21548, saving model to ../models/cnn_rnn_ucf101_10c_tl/v_4/cnn_rnn_ucf101_10c_tl.keras\n",
      "\u001b[1m36/36\u001b[0m \u001b[32m━━━━━━━━━━━━━━━━━━━━\u001b[0m\u001b[37m\u001b[0m \u001b[1m1s\u001b[0m 21ms/step - accuracy: 0.1796 - loss: 8.2561 - val_accuracy: 0.1746 - val_loss: 8.2155\n",
      "Epoch 84/100\n",
      "\u001b[1m36/36\u001b[0m \u001b[32m━━━━━━━━━━━━━━━━━━━━\u001b[0m\u001b[37m\u001b[0m \u001b[1m0s\u001b[0m 20ms/step - accuracy: 0.1811 - loss: 8.1700\n",
      "Epoch 84: val_loss improved from 8.21548 to 8.11985, saving model to ../models/cnn_rnn_ucf101_10c_tl/v_4/cnn_rnn_ucf101_10c_tl.keras\n",
      "\u001b[1m36/36\u001b[0m \u001b[32m━━━━━━━━━━━━━━━━━━━━\u001b[0m\u001b[37m\u001b[0m \u001b[1m1s\u001b[0m 22ms/step - accuracy: 0.1811 - loss: 8.1695 - val_accuracy: 0.1746 - val_loss: 8.1199\n",
      "Epoch 85/100\n",
      "\u001b[1m34/36\u001b[0m \u001b[32m━━━━━━━━━━━━━━━━━━\u001b[0m\u001b[37m━━\u001b[0m \u001b[1m0s\u001b[0m 19ms/step - accuracy: 0.1834 - loss: 8.0668\n",
      "Epoch 85: val_loss improved from 8.11985 to 8.05448, saving model to ../models/cnn_rnn_ucf101_10c_tl/v_4/cnn_rnn_ucf101_10c_tl.keras\n",
      "\u001b[1m36/36\u001b[0m \u001b[32m━━━━━━━━━━━━━━━━━━━━\u001b[0m\u001b[37m\u001b[0m \u001b[1m1s\u001b[0m 21ms/step - accuracy: 0.1831 - loss: 8.0650 - val_accuracy: 0.1746 - val_loss: 8.0545\n",
      "Epoch 86/100\n",
      "\u001b[1m34/36\u001b[0m \u001b[32m━━━━━━━━━━━━━━━━━━\u001b[0m\u001b[37m━━\u001b[0m \u001b[1m0s\u001b[0m 23ms/step - accuracy: 0.1928 - loss: 8.0064\n",
      "Epoch 86: val_loss improved from 8.05448 to 7.95244, saving model to ../models/cnn_rnn_ucf101_10c_tl/v_4/cnn_rnn_ucf101_10c_tl.keras\n",
      "\u001b[1m36/36\u001b[0m \u001b[32m━━━━━━━━━━━━━━━━━━━━\u001b[0m\u001b[37m\u001b[0m \u001b[1m1s\u001b[0m 24ms/step - accuracy: 0.1913 - loss: 8.0056 - val_accuracy: 0.1746 - val_loss: 7.9524\n",
      "Epoch 87/100\n",
      "\u001b[1m35/36\u001b[0m \u001b[32m━━━━━━━━━━━━━━━━━━━\u001b[0m\u001b[37m━\u001b[0m \u001b[1m0s\u001b[0m 21ms/step - accuracy: 0.1729 - loss: 7.9015\n",
      "Epoch 87: val_loss improved from 7.95244 to 7.84653, saving model to ../models/cnn_rnn_ucf101_10c_tl/v_4/cnn_rnn_ucf101_10c_tl.keras\n",
      "\u001b[1m36/36\u001b[0m \u001b[32m━━━━━━━━━━━━━━━━━━━━\u001b[0m\u001b[37m\u001b[0m \u001b[1m1s\u001b[0m 23ms/step - accuracy: 0.1732 - loss: 7.8999 - val_accuracy: 0.1746 - val_loss: 7.8465\n",
      "Epoch 88/100\n",
      "\u001b[1m34/36\u001b[0m \u001b[32m━━━━━━━━━━━━━━━━━━\u001b[0m\u001b[37m━━\u001b[0m \u001b[1m0s\u001b[0m 21ms/step - accuracy: 0.1767 - loss: 7.8057\n",
      "Epoch 88: val_loss improved from 7.84653 to 7.75127, saving model to ../models/cnn_rnn_ucf101_10c_tl/v_4/cnn_rnn_ucf101_10c_tl.keras\n",
      "\u001b[1m36/36\u001b[0m \u001b[32m━━━━━━━━━━━━━━━━━━━━\u001b[0m\u001b[37m\u001b[0m \u001b[1m1s\u001b[0m 22ms/step - accuracy: 0.1768 - loss: 7.8032 - val_accuracy: 0.1746 - val_loss: 7.7513\n",
      "Epoch 89/100\n",
      "\u001b[1m35/36\u001b[0m \u001b[32m━━━━━━━━━━━━━━━━━━━\u001b[0m\u001b[37m━\u001b[0m \u001b[1m0s\u001b[0m 22ms/step - accuracy: 0.1607 - loss: 7.7253\n",
      "Epoch 89: val_loss improved from 7.75127 to 7.66559, saving model to ../models/cnn_rnn_ucf101_10c_tl/v_4/cnn_rnn_ucf101_10c_tl.keras\n",
      "\u001b[1m36/36\u001b[0m \u001b[32m━━━━━━━━━━━━━━━━━━━━\u001b[0m\u001b[37m\u001b[0m \u001b[1m1s\u001b[0m 23ms/step - accuracy: 0.1615 - loss: 7.7231 - val_accuracy: 0.1746 - val_loss: 7.6656\n",
      "Epoch 90/100\n",
      "\u001b[1m34/36\u001b[0m \u001b[32m━━━━━━━━━━━━━━━━━━\u001b[0m\u001b[37m━━\u001b[0m \u001b[1m0s\u001b[0m 20ms/step - accuracy: 0.1833 - loss: 7.6158\n",
      "Epoch 90: val_loss improved from 7.66559 to 7.58443, saving model to ../models/cnn_rnn_ucf101_10c_tl/v_4/cnn_rnn_ucf101_10c_tl.keras\n",
      "\u001b[1m36/36\u001b[0m \u001b[32m━━━━━━━━━━━━━━━━━━━━\u001b[0m\u001b[37m\u001b[0m \u001b[1m1s\u001b[0m 21ms/step - accuracy: 0.1829 - loss: 7.6143 - val_accuracy: 0.1746 - val_loss: 7.5844\n",
      "Epoch 91/100\n",
      "\u001b[1m36/36\u001b[0m \u001b[32m━━━━━━━━━━━━━━━━━━━━\u001b[0m\u001b[37m\u001b[0m \u001b[1m0s\u001b[0m 21ms/step - accuracy: 0.1694 - loss: 7.5351\n",
      "Epoch 91: val_loss improved from 7.58443 to 7.48250, saving model to ../models/cnn_rnn_ucf101_10c_tl/v_4/cnn_rnn_ucf101_10c_tl.keras\n",
      "\u001b[1m36/36\u001b[0m \u001b[32m━━━━━━━━━━━━━━━━━━━━\u001b[0m\u001b[37m\u001b[0m \u001b[1m1s\u001b[0m 22ms/step - accuracy: 0.1696 - loss: 7.5343 - val_accuracy: 0.1746 - val_loss: 7.4825\n",
      "Epoch 92/100\n",
      "\u001b[1m34/36\u001b[0m \u001b[32m━━━━━━━━━━━━━━━━━━\u001b[0m\u001b[37m━━\u001b[0m \u001b[1m0s\u001b[0m 19ms/step - accuracy: 0.1805 - loss: 7.4336\n",
      "Epoch 92: val_loss improved from 7.48250 to 7.41466, saving model to ../models/cnn_rnn_ucf101_10c_tl/v_4/cnn_rnn_ucf101_10c_tl.keras\n",
      "\u001b[1m36/36\u001b[0m \u001b[32m━━━━━━━━━━━━━━━━━━━━\u001b[0m\u001b[37m\u001b[0m \u001b[1m1s\u001b[0m 20ms/step - accuracy: 0.1807 - loss: 7.4322 - val_accuracy: 0.1746 - val_loss: 7.4147\n",
      "Epoch 93/100\n",
      "\u001b[1m34/36\u001b[0m \u001b[32m━━━━━━━━━━━━━━━━━━\u001b[0m\u001b[37m━━\u001b[0m \u001b[1m0s\u001b[0m 19ms/step - accuracy: 0.1816 - loss: 7.3620\n",
      "Epoch 93: val_loss improved from 7.41466 to 7.33404, saving model to ../models/cnn_rnn_ucf101_10c_tl/v_4/cnn_rnn_ucf101_10c_tl.keras\n",
      "\u001b[1m36/36\u001b[0m \u001b[32m━━━━━━━━━━━━━━━━━━━━\u001b[0m\u001b[37m\u001b[0m \u001b[1m1s\u001b[0m 21ms/step - accuracy: 0.1816 - loss: 7.3600 - val_accuracy: 0.1852 - val_loss: 7.3340\n",
      "Epoch 94/100\n",
      "\u001b[1m35/36\u001b[0m \u001b[32m━━━━━━━━━━━━━━━━━━━\u001b[0m\u001b[37m━\u001b[0m \u001b[1m0s\u001b[0m 27ms/step - accuracy: 0.1803 - loss: 7.3188\n",
      "Epoch 94: val_loss improved from 7.33404 to 7.24057, saving model to ../models/cnn_rnn_ucf101_10c_tl/v_4/cnn_rnn_ucf101_10c_tl.keras\n",
      "\u001b[1m36/36\u001b[0m \u001b[32m━━━━━━━━━━━━━━━━━━━━\u001b[0m\u001b[37m\u001b[0m \u001b[1m1s\u001b[0m 29ms/step - accuracy: 0.1803 - loss: 7.3164 - val_accuracy: 0.1746 - val_loss: 7.2406\n",
      "Epoch 95/100\n",
      "\u001b[1m34/36\u001b[0m \u001b[32m━━━━━━━━━━━━━━━━━━\u001b[0m\u001b[37m━━\u001b[0m \u001b[1m0s\u001b[0m 18ms/step - accuracy: 0.1855 - loss: 7.1999\n",
      "Epoch 95: val_loss improved from 7.24057 to 7.16620, saving model to ../models/cnn_rnn_ucf101_10c_tl/v_4/cnn_rnn_ucf101_10c_tl.keras\n",
      "\u001b[1m36/36\u001b[0m \u001b[32m━━━━━━━━━━━━━━━━━━━━\u001b[0m\u001b[37m\u001b[0m \u001b[1m1s\u001b[0m 20ms/step - accuracy: 0.1851 - loss: 7.1989 - val_accuracy: 0.1852 - val_loss: 7.1662\n",
      "Epoch 96/100\n",
      "\u001b[1m35/36\u001b[0m \u001b[32m━━━━━━━━━━━━━━━━━━━\u001b[0m\u001b[37m━\u001b[0m \u001b[1m0s\u001b[0m 21ms/step - accuracy: 0.1929 - loss: 7.1131\n",
      "Epoch 96: val_loss improved from 7.16620 to 7.15972, saving model to ../models/cnn_rnn_ucf101_10c_tl/v_4/cnn_rnn_ucf101_10c_tl.keras\n",
      "\u001b[1m36/36\u001b[0m \u001b[32m━━━━━━━━━━━━━━━━━━━━\u001b[0m\u001b[37m\u001b[0m \u001b[1m1s\u001b[0m 22ms/step - accuracy: 0.1924 - loss: 7.1139 - val_accuracy: 0.1746 - val_loss: 7.1597\n",
      "Epoch 97/100\n",
      "\u001b[1m34/36\u001b[0m \u001b[32m━━━━━━━━━━━━━━━━━━\u001b[0m\u001b[37m━━\u001b[0m \u001b[1m0s\u001b[0m 19ms/step - accuracy: 0.1737 - loss: 7.1304\n",
      "Epoch 97: val_loss improved from 7.15972 to 7.02508, saving model to ../models/cnn_rnn_ucf101_10c_tl/v_4/cnn_rnn_ucf101_10c_tl.keras\n",
      "\u001b[1m36/36\u001b[0m \u001b[32m━━━━━━━━━━━━━━━━━━━━\u001b[0m\u001b[37m\u001b[0m \u001b[1m1s\u001b[0m 20ms/step - accuracy: 0.1738 - loss: 7.1272 - val_accuracy: 0.1746 - val_loss: 7.0251\n",
      "Epoch 98/100\n",
      "\u001b[1m36/36\u001b[0m \u001b[32m━━━━━━━━━━━━━━━━━━━━\u001b[0m\u001b[37m\u001b[0m \u001b[1m0s\u001b[0m 20ms/step - accuracy: 0.1795 - loss: 6.9733\n",
      "Epoch 98: val_loss improved from 7.02508 to 6.91662, saving model to ../models/cnn_rnn_ucf101_10c_tl/v_4/cnn_rnn_ucf101_10c_tl.keras\n",
      "\u001b[1m36/36\u001b[0m \u001b[32m━━━━━━━━━━━━━━━━━━━━\u001b[0m\u001b[37m\u001b[0m \u001b[1m1s\u001b[0m 21ms/step - accuracy: 0.1795 - loss: 6.9727 - val_accuracy: 0.1746 - val_loss: 6.9166\n",
      "Epoch 99/100\n",
      "\u001b[1m34/36\u001b[0m \u001b[32m━━━━━━━━━━━━━━━━━━\u001b[0m\u001b[37m━━\u001b[0m \u001b[1m0s\u001b[0m 19ms/step - accuracy: 0.1925 - loss: 6.8644\n",
      "Epoch 99: val_loss improved from 6.91662 to 6.82788, saving model to ../models/cnn_rnn_ucf101_10c_tl/v_4/cnn_rnn_ucf101_10c_tl.keras\n",
      "\u001b[1m36/36\u001b[0m \u001b[32m━━━━━━━━━━━━━━━━━━━━\u001b[0m\u001b[37m\u001b[0m \u001b[1m1s\u001b[0m 20ms/step - accuracy: 0.1912 - loss: 6.8630 - val_accuracy: 0.1746 - val_loss: 6.8279\n",
      "Epoch 100/100\n",
      "\u001b[1m34/36\u001b[0m \u001b[32m━━━━━━━━━━━━━━━━━━\u001b[0m\u001b[37m━━\u001b[0m \u001b[1m0s\u001b[0m 19ms/step - accuracy: 0.1906 - loss: 6.7804\n",
      "Epoch 100: val_loss improved from 6.82788 to 6.74749, saving model to ../models/cnn_rnn_ucf101_10c_tl/v_4/cnn_rnn_ucf101_10c_tl.keras\n",
      "\u001b[1m36/36\u001b[0m \u001b[32m━━━━━━━━━━━━━━━━━━━━\u001b[0m\u001b[37m\u001b[0m \u001b[1m1s\u001b[0m 21ms/step - accuracy: 0.1897 - loss: 6.7795 - val_accuracy: 0.1746 - val_loss: 6.7475\n"
     ]
    }
   ],
   "source": [
    "model_version_path = get_model_version_path()\n",
    "model_path = get_model_path(model_version_path)\n",
    "\n",
    "sequence_model, history = train_model(rnn_seq_model, model_path)"
   ]
  },
  {
   "cell_type": "code",
   "execution_count": 71,
   "metadata": {},
   "outputs": [],
   "source": [
    "# from tensorflow.keras.utils import plot_model\n",
    "\n",
    "# model_architecture_path = f\"{model_version_path}/model_architecture.png\"\n",
    "# plot_model(rnn_seq_model, to_file=model_architecture_path, show_shapes=True, show_layer_names=True)"
   ]
  },
  {
   "cell_type": "code",
   "execution_count": 72,
   "metadata": {},
   "outputs": [
    {
     "name": "stdout",
     "output_type": "stream",
     "text": [
      "Model saved at: ../models/cnn_rnn_ucf101_10c_tl/v_4/cnn_rnn_ucf101_10c_tl.keras\n",
      "Model size: 1.82 MB\n"
     ]
    }
   ],
   "source": [
    "if os.path.exists(model_path):\n",
    "    print(f\"Model saved at: {model_path}\")\n",
    "    model_size = os.path.getsize(model_path) / (1024 * 1024)\n",
    "    print(f\"Model size: {model_size:.2f} MB\")"
   ]
  },
  {
   "cell_type": "markdown",
   "metadata": {},
   "source": [
    "Visualise the training and validation loss and accuracy"
   ]
  },
  {
   "cell_type": "code",
   "execution_count": 73,
   "metadata": {},
   "outputs": [],
   "source": [
    "def visualize_training_metrics(history, val_metrics_path):\n",
    "    train_loss = history.history['loss']\n",
    "    val_loss = history.history['val_loss']\n",
    "    train_accuracy = history.history['accuracy']\n",
    "    val_accuracy = history.history['val_accuracy']\n",
    "    \n",
    "    plt.figure(figsize=(12, 6))\n",
    "    \n",
    "    # Loss plot\n",
    "    plt.subplot(1, 2, 1)\n",
    "    plt.plot(train_loss, label='Training Loss')\n",
    "    plt.plot(val_loss, label='Validation Loss')\n",
    "    plt.title(\"Training and Validation Loss\")\n",
    "    plt.xlabel(\"Epochs\")\n",
    "    plt.ylabel(\"Loss\")\n",
    "    plt.legend()\n",
    "\n",
    "    # Accuracy plot\n",
    "    plt.subplot(1, 2, 2)\n",
    "    plt.plot(train_accuracy, label='Training Accuracy')\n",
    "    plt.plot(val_accuracy, label='Validation Accuracy')\n",
    "    plt.title(\"Training and Validation Accuracy\")\n",
    "    plt.xlabel(\"Epochs\")\n",
    "    plt.ylabel(\"Accuracy\")\n",
    "    plt.legend()\n",
    "    \n",
    "    plt.savefig(val_metrics_path)\n",
    "    \n",
    "    plt.show()"
   ]
  },
  {
   "cell_type": "code",
   "execution_count": 74,
   "metadata": {},
   "outputs": [],
   "source": [
    "def get_model_image_path(metric_type, model_version_path):\n",
    "    image_path = f\"{model_version_path}/{metric_type}.png\"\n",
    "    print(f\"{metric_type} plot saved at: {image_path}\")\n",
    "\n",
    "    return image_path"
   ]
  },
  {
   "cell_type": "code",
   "execution_count": 75,
   "metadata": {},
   "outputs": [
    {
     "name": "stdout",
     "output_type": "stream",
     "text": [
      "loss plot saved at: ../models/cnn_rnn_ucf101_10c_tl/v_4/loss.png\n"
     ]
    },
    {
     "data": {
      "image/png": "[encoded data removed]",
      "text/plain": [
       "<Figure size 1200x600 with 2 Axes>"
      ]
     },
     "metadata": {},
     "output_type": "display_data"
    }
   ],
   "source": [
    "image_path = get_model_image_path(\"loss\", model_version_path)\n",
    "visualize_training_metrics(history, image_path)"
   ]
  },
  {
   "cell_type": "markdown",
   "metadata": {},
   "source": [
    "## Model Evaluation and Testing"
   ]
  },
  {
   "cell_type": "markdown",
   "metadata": {},
   "source": [
    "#### Evaluate on the entire test dataset"
   ]
  },
  {
   "cell_type": "code",
   "execution_count": 89,
   "metadata": {},
   "outputs": [
    {
     "name": "stdout",
     "output_type": "stream",
     "text": [
      "\u001b[1m6/6\u001b[0m \u001b[32m━━━━━━━━━━━━━━━━━━━━\u001b[0m\u001b[37m\u001b[0m \u001b[1m0s\u001b[0m 8ms/step - accuracy: 0.1022 - loss: 6.7698     \n",
      "Test Loss: 6.7336\n",
      "Traing Test Accuracy: 17.71%\n"
     ]
    }
   ],
   "source": [
    "sequence_model.load_weights(model_path) # Load the best weights\n",
    "loss, accuracy = sequence_model.evaluate(test_dataset, batch_size=32)\n",
    "\n",
    "print(f\"Test Loss: {loss :.4f}\")\n",
    "print(f\"Traing Test Accuracy: {accuracy * 100:.2f}%\")"
   ]
  },
  {
   "cell_type": "markdown",
   "metadata": {},
   "source": [
    "#### Evaluation with single sample"
   ]
  },
  {
   "cell_type": "markdown",
   "metadata": {},
   "source": [
    "Function to prepare the test video"
   ]
  },
  {
   "cell_type": "code",
   "execution_count": 77,
   "metadata": {},
   "outputs": [],
   "source": [
    "def prepare_single_video(frames):\n",
    "    frames = frames[None, ...]\n",
    "    frame_mask = np.zeros(shape=(1, MAX_SEQ_LENGTH, ),dtype=\"bool\" )\n",
    "    frame_features = np.zeros(shape=(1, MAX_SEQ_LENGTH, NUM_FEATURES), dtype=\"float32\")\n",
    "\n",
    "    for i, frames_batch in enumerate(frames):\n",
    "        video_length = frames_batch.shape[0]\n",
    "        length = min(MAX_SEQ_LENGTH, video_length)\n",
    "        for j in range(length):\n",
    "            frame_features[i, j, :] = feature_extractor.predict(frames_batch[None, j, :])\n",
    "        frame_mask[i, :length] = 1  # 1 = not masked, 0 = masked\n",
    "\n",
    "    return frame_features, frame_mask"
   ]
  },
  {
   "cell_type": "markdown",
   "metadata": {},
   "source": [
    "Make predictions on a single video"
   ]
  },
  {
   "cell_type": "code",
   "execution_count": 78,
   "metadata": {},
   "outputs": [],
   "source": [
    "def sequence_prediction(seq_model, frames, true_label):\n",
    "    # Add batch dimension to the frames to match model's expected input shape\n",
    "    frames = np.expand_dims(frames, axis=0)  # Shape becomes (1, 20, 2048)\n",
    "    \n",
    "    frame_features, frame_mask = create_video_features_and_mask(frames)\n",
    "    \n",
    "    # Predict using the model\n",
    "    probabilities = seq_model.predict([frame_features, frame_mask])[0]\n",
    "        \n",
    "    print(\"\\nTop-5 predicted actions:\")\n",
    "    for i in np.argsort(probabilities)[::-1][:5]:\n",
    "        print(f\"  - {class_vocab[i]}: {probabilities[i] * 100:5.2f}%\")\n",
    "    \n",
    "    # Get the top-1 predicted label (highest probability)\n",
    "    predicted_index = np.argmax(probabilities)\n",
    "    predicted_label = class_vocab[predicted_index]\n",
    "\n",
    "    # Convert true_label to index to align with predicted index format\n",
    "    true_label_index = class_vocab.index(true_label)\n",
    "\n",
    "    # Prepare y_true and y_pred as binary arrays (1 for correct label, 0 for others)\n",
    "    y_true = np.zeros(len(class_vocab))\n",
    "    y_pred = np.zeros(len(class_vocab))\n",
    "    y_true[true_label_index] = 1\n",
    "    y_pred[predicted_index] = 1\n",
    " \n",
    "    return y_true, y_pred, predicted_label"
   ]
  },
  {
   "cell_type": "code",
   "execution_count": 79,
   "metadata": {},
   "outputs": [],
   "source": [
    "# def sequence_prediction(seq_model, frames, true_label):\n",
    "#     frame_features, frame_mask = create_video_features_and_mask(frames)\n",
    "#     probabilities = seq_model.predict([frame_features, frame_mask])[0]\n",
    "        \n",
    "#     print(\"\\nTop-5 predicted actions:\")\n",
    "#     for i in np.argsort(probabilities)[::-1][:5]:\n",
    "#         print(f\"  - {class_vocab[i]}: {probabilities[i] * 100:5.2f}%\")\n",
    "    \n",
    "#     # Get the top-1 predicted label (highest probability)\n",
    "#     predicted_index = np.argmax(probabilities)\n",
    "#     predicted_label = class_vocab[predicted_index]\n",
    "\n",
    "#     # Convert true_label to index to align with predicted index format\n",
    "#     true_label_index = class_vocab.index(true_label)\n",
    "\n",
    "#     # Prepare y_true and y_pred as binary arrays (1 for correct label, 0 for others)\n",
    "#     y_true = np.zeros(len(class_vocab))\n",
    "#     y_pred = np.zeros(len(class_vocab))\n",
    "#     y_true[true_label_index] = 1\n",
    "#     y_pred[predicted_index] = 1\n",
    " \n",
    "#     return y_true, y_pred, predicted_label"
   ]
  },
  {
   "cell_type": "markdown",
   "metadata": {},
   "source": [
    "Display predicted image as GIF"
   ]
  },
  {
   "cell_type": "code",
   "execution_count": 80,
   "metadata": {},
   "outputs": [],
   "source": [
    "def display_as_gif(images, model_version_path):\n",
    "    gif_path = f\"{model_version_path}/test_animation.gif\"\n",
    "    converted_images = images.astype(np.uint8)\n",
    "    imageio.mimsave(gif_path, converted_images, duration=100)\n",
    "    # return Image(gif_path)\n",
    "    return Image.open(gif_path)"
   ]
  },
  {
   "cell_type": "markdown",
   "metadata": {},
   "source": [
    "Choosing a random video to use for prediction"
   ]
  },
  {
   "cell_type": "code",
   "execution_count": 81,
   "metadata": {},
   "outputs": [
    {
     "name": "stdout",
     "output_type": "stream",
     "text": [
      "Test video path: /Users/mzitoh/.cache/kagglehub/datasets/matthewjansen/ucf101-action-recognition/versions/4/test/SkyDiving/v_SkyDiving_g02_c02.avi\n",
      "Label: SkyDiving\n",
      "\n",
      "Test video frames shape:\n",
      "  - 127 frames\n",
      "  - 224 pixels (height) x 224 pixels (width)\n",
      "  - 3 color channels\n",
      "\n"
     ]
    }
   ],
   "source": [
    "random_index = np.random.randint(len(test_df))\n",
    "\n",
    "# Get the test video path\n",
    "test_video = test_df[\"video_path\"].values[random_index]\n",
    "\n",
    "# Get the true label of the test video\n",
    "true_label_index = test_labels.tolist()[random_index][0]\n",
    "true_label = class_vocab[true_label_index]\n",
    "\n",
    "test_video_frames = load_and_preprocess_video(test_video)\n",
    "\n",
    "print(f\"Test video path: {test_video}\")\n",
    "print(f\"Label: {true_label}\")\n",
    "\n",
    "print(f\"\"\"\n",
    "Test video frames shape:\n",
    "  - {test_video_frames.shape[0]} frames\n",
    "  - {test_video_frames.shape[1]} pixels (height) x {test_video_frames.shape[2]} pixels (width)\n",
    "  - {test_video_frames.shape[3]} color channels\n",
    "\"\"\")\n",
    "\n",
    "# display_as_gif(test_video_frames[:MAX_SEQ_LENGTH], model_version_path)"
   ]
  },
  {
   "cell_type": "markdown",
   "metadata": {},
   "source": [
    "Run the prediction on the test video"
   ]
  },
  {
   "cell_type": "code",
   "execution_count": 82,
   "metadata": {},
   "outputs": [],
   "source": [
    "# y_true, y_pred, predicted_label = sequence_prediction(sequence_model, test_video_frames, true_label)"
   ]
  },
  {
   "cell_type": "code",
   "execution_count": 83,
   "metadata": {},
   "outputs": [],
   "source": [
    "# print(f\"\\nTrue label: {true_label}\")\n",
    "# print(f\"Predicted label: {predicted_label}\")\n",
    "\n",
    "# print(f\"y_true: {y_true}\")\n",
    "# print(f\"y_pred: {y_pred}\")"
   ]
  },
  {
   "cell_type": "markdown",
   "metadata": {},
   "source": [
    "#### Evaluation on the entire test set"
   ]
  },
  {
   "cell_type": "markdown",
   "metadata": {},
   "source": [
    "Utility to display evaluation Metrics"
   ]
  },
  {
   "cell_type": "code",
   "execution_count": 84,
   "metadata": {},
   "outputs": [],
   "source": [
    "def display_evaluation_metrics(y_true, y_pred, predictions, target_classes):\n",
    "    accuracy = accuracy_score(y_true, y_pred)\n",
    "    print(f\"Top-1 Accuracy: {accuracy * 100:.2f}%\")\n",
    "\n",
    "    k = 2\n",
    "    top_k_acc = top_k_accuracy_score(y_true, predictions, k=k)\n",
    "    print(f\"Top-{k} Accuracy: {top_k_acc * 100:.2f}%\")\n",
    "\n",
    "    report = classification_report(y_true, y_pred, target_names=target_classes, zero_division=0)\n",
    "    print(\"\\nClassification Report:\\n\", report)"
   ]
  },
  {
   "cell_type": "code",
   "execution_count": 85,
   "metadata": {},
   "outputs": [
    {
     "name": "stdout",
     "output_type": "stream",
     "text": [
      "\u001b[1m6/6\u001b[0m \u001b[32m━━━━━━━━━━━━━━━━━━━━\u001b[0m\u001b[37m\u001b[0m \u001b[1m0s\u001b[0m 5ms/step  \n"
     ]
    }
   ],
   "source": [
    "predictions = sequence_model.predict([test_features, test_masks], batch_size=32)\n",
    "predicted_classes = np.argmax(predictions, axis=1)"
   ]
  },
  {
   "cell_type": "code",
   "execution_count": 86,
   "metadata": {},
   "outputs": [
    {
     "name": "stdout",
     "output_type": "stream",
     "text": [
      "Top-1 Accuracy: 17.71%\n",
      "Top-2 Accuracy: 28.65%\n",
      "\n",
      "Classification Report:\n",
      "               precision    recall  f1-score   support\n",
      "\n",
      "   SkyDiving       0.00      0.00      0.00        14\n",
      "      Biking       0.00      0.00      0.00        17\n",
      "   HorseRace       0.00      0.00      0.00        16\n",
      "     Surfing       0.00      0.00      0.00        16\n",
      " TennisSwing       0.00      0.00      0.00        21\n",
      "       Punch       0.00      0.00      0.00        20\n",
      "  Basketball       0.18      1.00      0.30        34\n",
      "    JumpRope       0.00      0.00      0.00        18\n",
      "     Archery       0.00      0.00      0.00        19\n",
      "      Skiing       0.00      0.00      0.00        17\n",
      "\n",
      "    accuracy                           0.18       192\n",
      "   macro avg       0.02      0.10      0.03       192\n",
      "weighted avg       0.03      0.18      0.05       192\n",
      "\n"
     ]
    }
   ],
   "source": [
    "display_evaluation_metrics(test_labels, predicted_classes, predictions, class_vocab)"
   ]
  },
  {
   "cell_type": "code",
   "execution_count": 87,
   "metadata": {},
   "outputs": [],
   "source": [
    "def display_confusion_matrix(y_true, y_pred, target_classes, plot_path, show_plot=False):\n",
    "    conf_matrix = confusion_matrix(y_true, y_pred)\n",
    "\n",
    "    plt.figure(figsize=(8, 6))\n",
    "    sns.heatmap(\n",
    "        conf_matrix,\n",
    "        fmt=\"d\",\n",
    "        annot=True,\n",
    "        cmap=\"Blues\",\n",
    "        cbar=True,\n",
    "        xticklabels=target_classes,\n",
    "        yticklabels=target_classes,\n",
    "    )\n",
    "    plt.xlabel(\"Predicted\")\n",
    "    plt.ylabel(\"True\")\n",
    "    plt.title(\"Confusion Matrix\")\n",
    "\n",
    "    plt.savefig(plot_path)\n",
    "\n",
    "    if show_plot:\n",
    "        plt.show()    \n",
    "    else:\n",
    "        print(conf_matrix)\n",
    "\n",
    "    plt.close()"
   ]
  },
  {
   "cell_type": "code",
   "execution_count": 88,
   "metadata": {},
   "outputs": [
    {
     "name": "stdout",
     "output_type": "stream",
     "text": [
      "confusion_matrix plot saved at: ../models/cnn_rnn_ucf101_10c_tl/v_4/confusion_matrix.png\n",
      "[[ 0  0  0  0  0  0 14  0  0  0]\n",
      " [ 0  0  0  0  0  0 17  0  0  0]\n",
      " [ 0  0  0  0  0  0 16  0  0  0]\n",
      " [ 0  0  0  0  0  0 16  0  0  0]\n",
      " [ 0  0  0  0  0  0 21  0  0  0]\n",
      " [ 0  0  0  0  0  0 20  0  0  0]\n",
      " [ 0  0  0  0  0  0 34  0  0  0]\n",
      " [ 0  0  0  0  0  0 18  0  0  0]\n",
      " [ 0  0  0  0  0  0 19  0  0  0]\n",
      " [ 0  0  0  0  0  0 17  0  0  0]]\n"
     ]
    }
   ],
   "source": [
    "true_labels = np.array(test_labels).flatten()\n",
    "cm_plot_path = get_model_image_path(\"confusion_matrix\", model_version_path)\n",
    "display_confusion_matrix(true_labels, predicted_classes, class_vocab, cm_plot_path, show_plot=False)"
   ]
  },
  {
   "cell_type": "markdown",
   "metadata": {},
   "source": [
    "## References"
   ]
  },
  {
   "cell_type": "markdown",
   "metadata": {},
   "source": [
    "> K. Soomro, A. R. Zamir, and M. Shah, \"UCF101: A Dataset of 101 Human Actions Classes From Videos in The Wild,\" arXiv, 2012. [Online]. Available: https://arxiv.org/abs/1212.0402\n",
    "\n",
    "> A. Arnab, M. Dehghani, G. Heigold, C. Sun, M. Lučić, and C. Schmid, “ViVIT: a video vision transformer,” arXiv.org, Mar. 29, 2021. https://arxiv.org/abs/2103.15691\n",
    "\n",
    "> X. Liu, Y. Shen, J. Liu, J. Yang, P. Xiong, and F. Lin, “Parallel Spatial–Temporal Self-Attention CNN-Based Motor Imagery Classification for BCI,” Frontiers in Neuroscience, vol. 14, Dec. 2020, doi: 10.3389/fnins.2020.587520.\n",
    "\n",
    "> C. Szegedy, V. Vanhoucke, S. Ioffe, J. Shlens, and Z. Wojna, \"Rethinking the Inception Architecture for Computer Vision,\" arXiv preprint arXiv:1512.00567, 2015.\n",
    "\n",
    "> Singh, S., Dewangan, S., Krishna, G., Tyagi, V., & Reddy, S. (2022). Video vision transformers for violence detection. arXiv. https://doi.org/10.48550/arXiv.2209.03561"
   ]
  }
 ],
 "metadata": {
  "kaggle": {
   "accelerator": "gpu",
   "dataSources": [
    {
     "databundleVersionId": 4915922,
     "datasetId": 2807884,
     "sourceId": 4849320,
     "sourceType": "datasetVersion"
    }
   ],
   "dockerImageVersionId": 30787,
   "isGpuEnabled": true,
   "isInternetEnabled": true,
   "language": "python",
   "sourceType": "notebook"
  },
  "kernelspec": {
   "display_name": "base",
   "language": "python",
   "name": "python3"
  },
  "language_info": {
   "codemirror_mode": {
    "name": "ipython",
    "version": 3
   },
   "file_extension": ".py",
   "mimetype": "text/x-python",
   "name": "python",
   "nbconvert_exporter": "python",
   "pygments_lexer": "ipython3",
   "version": "3.11.5"
  }
 },
 "nbformat": 4,
 "nbformat_minor": 4
}
